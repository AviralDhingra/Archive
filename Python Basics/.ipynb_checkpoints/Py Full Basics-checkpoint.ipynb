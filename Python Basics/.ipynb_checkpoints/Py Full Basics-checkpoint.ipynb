{
 "cells": [
  {
   "cell_type": "code",
   "execution_count": null,
   "metadata": {},
   "outputs": [],
   "source": [
    "# June 22nd 2020\n",
    "# Data Type - Integer, String, Float, Boolean, list, Dictionaries\n",
    "\n",
    "# Press Shift+Enter to execute the cell\n",
    "\n",
    "print(\"Hello All - Good Morning, June 22nd 2020, Monday . its a nice day\")"
   ]
  },
  {
   "cell_type": "code",
   "execution_count": null,
   "metadata": {},
   "outputs": [],
   "source": [
    "# if inverted commas are not placed, Python will consider it as Variable \n",
    "# a varaibale is a storage for data type (integer, string, float, boolean, list, dictionary)\n",
    "# whenever anything is written without \" \", it is consideed as variable\n",
    "\n",
    "h = \"hello, how are you, nice to meet you\"\n",
    "print(h)\n",
    "\n",
    "cjweewcg = 10\n",
    "print(cjweewcg)"
   ]
  },
  {
   "cell_type": "code",
   "execution_count": null,
   "metadata": {},
   "outputs": [],
   "source": [
    "# is used to put comments in Python and it will \"not\" do anything - no output and no error\n",
    "#"
   ]
  },
  {
   "cell_type": "code",
   "execution_count": null,
   "metadata": {},
   "outputs": [],
   "source": [
    "# A variable stores value and a value can be integer, float, string\n",
    "r = 10\n",
    "\n",
    "m2 = 5\n",
    "\n",
    "# left side contains value\n",
    "# value is taken or inputted from right side\n",
    "#1 = 10 - incorrect way to assign variable\n",
    "\n",
    "r1 = 25\n",
    "# name of variable can be alphabets or alphanumeric (combination of alphabets and numbers) but it cannot be just numeric\n",
    "\n",
    "s = 200\n",
    "\n",
    "print(\"s\") # treating s as character \"s\"\n",
    "print(s) # treating s as variable\n",
    "print(r1)\n",
    "print(r)\n",
    "print(s) # treating s as variable\n",
    "print(\"jaisa likhoge, waisa print hoga\")\n",
    "print(\"It will print as it is :)\")"
   ]
  },
  {
   "cell_type": "code",
   "execution_count": null,
   "metadata": {},
   "outputs": [],
   "source": [
    "# what do we do if we have to print a variable 50 times\n",
    "# Option # 1 : Write print command 50 times\n",
    "# Option # 2 : Use loop - \"for\" loop or \"while\" loop"
   ]
  },
  {
   "cell_type": "code",
   "execution_count": null,
   "metadata": {},
   "outputs": [],
   "source": [
    "# string is a collection of characters (or alphabets or alphabets and numbers)\n",
    "\n",
    "t = \"Hello\"\n",
    "tk = \"How are you 123\"\n",
    "\n",
    "\n",
    "\n",
    "print(t)\n",
    "print(\"t\")\n",
    "print(tk)\n",
    "print(\"tk\")"
   ]
  },
  {
   "cell_type": "code",
   "execution_count": null,
   "metadata": {},
   "outputs": [],
   "source": [
    "# float is integer with decimals\n",
    "\n",
    "f = 1.5\n",
    "s = 2.667\n",
    "c = 3.99\n",
    "d = 8.65\n",
    "\n",
    "print(\"f\")\n",
    "print(f)\n",
    "print(\"s\")\n",
    "print(s)"
   ]
  },
  {
   "cell_type": "code",
   "execution_count": null,
   "metadata": {},
   "outputs": [],
   "source": [
    "# find the data type of these variables - type command\n",
    "print(type(r))\n",
    "print(type(tk))\n",
    "print(type(f))\n",
    "\n",
    "# int means integer\n",
    "# str means string\n",
    "# float means float\n",
    "# bool means boolean"
   ]
  },
  {
   "cell_type": "code",
   "execution_count": null,
   "metadata": {},
   "outputs": [],
   "source": [
    "# we can use commas or '+' inside print statement to combine or join 2 or more strings\n",
    "\n",
    "print(\"The value of r is \", r , \" and value of f is \" ,  f , \"and value of tk is \" , tk)\n",
    "print(\"Mayeni started studying at \" + \"am\")\n",
    "\n",
    "# if using \"+\", we need to use same data type\n",
    "\n",
    "#we separate the elements in Print command by a \",\" (comma)"
   ]
  },
  {
   "cell_type": "code",
   "execution_count": null,
   "metadata": {},
   "outputs": [],
   "source": [
    "# mathematical operations on integers and strings\n",
    "# we should have values already (coming from right) and the left hand side is created \n",
    "\n",
    "sm = r + r1\n",
    "diff = r - r1\n",
    "mult = r * r1\n",
    "div = r1 / r\n",
    "\n",
    "print(sm)\n",
    "print(diff)\n",
    "print(mult)\n",
    "print(div)\n",
    "\n",
    "# we can use \"+\" to combine multiple strings but if there are strings and numerics, we need to use \",\"\n",
    "print(t + \"   \" + tk)\n",
    "a=2\n",
    "b=3\n",
    "print(a+b)\n",
    "print ( 5 * t)\n",
    "print(10 * \"Hello\")\n",
    "# st = t - tk this will give error if executed\n",
    "# ms = t * tk this will give error\n",
    "# ds = t / tk this will give error\n",
    "\n",
    "# But \"+\" operator if applied on strings will concatenate (join)\n",
    "# \"*\" operator by a number if applied on string will make string appear those many times (by the same number)"
   ]
  },
  {
   "cell_type": "code",
   "execution_count": null,
   "metadata": {},
   "outputs": [],
   "source": [
    "# Assignment for June 22nd 2020\n",
    "# Create 4 variables (names can be of your choice) - 2 as float and 2 as string\n",
    "# Perform * and / on floats and print the result\n",
    "# perform + and * on string and print the result"
   ]
  },
  {
   "cell_type": "code",
   "execution_count": null,
   "metadata": {},
   "outputs": [],
   "source": [
    "# June 24th 2020\n",
    "# Data Types for today - Boolean, List\n",
    "# Operators    < , > , ==, % (modulus)\n",
    "# == is a equality comparison operator which means it compares if 2 given operands (variables or constants) are equal\n",
    "# a boolean is a data type which contains either True or False. T in True and F in False is capital in case of boolean\n",
    "# len is to calculate length of a variable or a constant \n",
    "\n",
    "ts = \"Hello\"\n",
    "t = True\n",
    "f = False\n",
    "\n",
    "print(len(ts))\n",
    "\n",
    "print(len(\"Ranjan are studying\"))\n",
    "\n",
    "print(ts)\n",
    "print(\"Type of ts is\", type(ts))\n",
    "print(t)\n",
    "print(\"Type of t is\", type(t))\n",
    "print(f)\n",
    "print(\"Type of f is \", type(f))\n",
    "\n",
    "# \"\\n\" creates a new line\n",
    "print(\"\\n\")\n",
    "\n",
    "# == checks if the left hand side is equal to right had side or not\n",
    "print(5==6)\n",
    "print(\"\\n\")\n",
    "print(t==f)\n",
    "print(\"\\n\")\n",
    "\n",
    "print(\"Checking if 5 <=6 or not\" , 5<=6)\n",
    "\n",
    "print(\"Checking if 7 >=10 or not\", 7>=10)\n",
    "\n",
    "print(\"10==9 is \", 10==9)\n",
    "print(\"10>9 is \", 10>9)\n",
    "# len is a pre-defined function in python which gives length of a data type\n",
    "print(len(ts))"
   ]
  },
  {
   "cell_type": "code",
   "execution_count": null,
   "metadata": {},
   "outputs": [],
   "source": [
    "print(len(\"10000\"))"
   ]
  },
  {
   "cell_type": "code",
   "execution_count": null,
   "metadata": {},
   "outputs": [],
   "source": [
    "name = \"Sachin\"\n",
    "s = \"Cricket\"\n",
    "score = 50000\n",
    "average = 49.9\n",
    "play = False\n",
    "\n",
    "print(name)\n",
    "print(type(name))\n",
    "\n",
    "print(score)\n",
    "print(type(score))\n",
    "\n",
    "print(type(play))"
   ]
  },
  {
   "cell_type": "code",
   "execution_count": null,
   "metadata": {},
   "outputs": [],
   "source": [
    "# % gives remainder while dividing first number by second number\n",
    "\n",
    "m = 10 % 2 \n",
    "# quotient = 5 and remainder is 0\n",
    "# % is a modulus operator and it will make m to store value of remainder\n",
    "print(m)\n",
    "\n",
    "# quotient = 3 and remainder is 1\n",
    "m = 10 % 3\n",
    "print(m)\n",
    "\n",
    "n = 30 % 7\n",
    "print(n)\n"
   ]
  },
  {
   "cell_type": "code",
   "execution_count": null,
   "metadata": {},
   "outputs": [],
   "source": [
    "# a list is a type which is in the form/type of array containing multiple elements\n",
    "# List can contain any data types within\n",
    "# list is created with the help of square brackets [] and elements/items are separated by commas\n",
    "\n",
    "lst = [\"Hello\" , \"hi\" , 100 , 200 , 15.5, True]\n",
    "\n",
    "# 0 element list\n",
    "l = []\n",
    "\n",
    "# 5 element/item list\n",
    "k = [1,2,3,4,5]\n",
    "m = [\"R\" , \"S\" , \"A\" , \"G\" , \"Z\"]\n",
    "\n",
    "# 10 element/item list\n",
    "n = [1,\"R\",2,\"A\", True, 10.33, 100, False, 3.14, False]\n",
    "\n",
    "# 1 element / item list\n",
    "p = [\"1,2,3,4,5\"]\n",
    "\n",
    "ts = \"True\"\n",
    "\n",
    "print(\"l is a 5 element list and it contains \", l)\n",
    "print(\"n is a 10 element list and it contains \", n)\n",
    "print(\"p is a 1 element list and it contains \", p)\n",
    "print([1,\"R\",2,\"A\", True, 10.33, 100, False, 3.14, False, \"helo\",\"True\",True])\n",
    "\n",
    "# len is a pre-defined function of python which gives length of data types\n",
    "print(\"Length of l is\", len(l))\n",
    "print(\"Length of m is\", len(m))\n",
    "print(\"Length of n is\", len(n))\n",
    "print(\"Length of p is\", len(p))\n",
    "print(len(ts))"
   ]
  },
  {
   "cell_type": "code",
   "execution_count": null,
   "metadata": {},
   "outputs": [],
   "source": [
    "n = [111,\"R\",2,\"A\", True, 10.33, 100, False, 3.14, False]\n",
    "\n",
    "# index denotes place of elements in a list - starts from 0\n",
    "# index runs until (length-1)\n",
    "\n",
    "print(n[0])\n",
    "\n",
    "l=[1,2,100,200,\"hey\",False]\n",
    "print(n[5])\n",
    "print(l[5])\n",
    "# this is how we access elements of list with the help of square brackets\n",
    "\n",
    "print(\"Data Type of n is \", type(n))\n",
    "print(\"Data type of First element of n is \" , type(n[1]))"
   ]
  },
  {
   "cell_type": "code",
   "execution_count": null,
   "metadata": {},
   "outputs": [],
   "source": [
    "# Assignment # 1 of June 24th 2020\n",
    "# Create a list of 6 elements - 2 integers, 2 strings, 2 booleans - placement can be of your choice\n",
    "# print the data type of each of 6 elements\n",
    "\n",
    "# Assignment # 2\n",
    "# Create 4 variables - 1 of integer, 1 of string, 1 of float, 1 of Boolean\n",
    "# test and perform >, <, == operations within each of 4 variables\n",
    "# you might see errors but that is fine"
   ]
  },
  {
   "cell_type": "code",
   "execution_count": null,
   "metadata": {},
   "outputs": [],
   "source": [
    "# June 26th 2020 - if condition\n",
    "\n",
    "# syntax of \"if\" condition\n",
    "\n",
    "# if condition:\n",
    "#     statement if the if condition is true\n",
    "# elif condition:\n",
    "#     statement\n",
    "# else:\n",
    "#     statement if all above conditions are false\n",
    "# if condition mentioned in if statement is true, program will enter the if block else it will enter the elif or else blocks\n",
    "\n",
    "a = 8\n",
    "\n",
    "if a == 10:\n",
    "    print(\"Hello\")\n",
    "elif a == 9:\n",
    "    print(\"Hi\")\n",
    "else:\n",
    "    print(\"Bye\")\n",
    "\n",
    "    \n",
    "a = 30\n",
    "b = 30\n",
    "\n",
    "if a > 30:\n",
    "    print(\"A is bigger than 25\")\n",
    "else:\n",
    "    print(\"A is smaller than 35\")\n",
    "\n",
    "\n",
    "# **********\n",
    "\n",
    "if b==100:\n",
    "    print(\"B is equal to 100\")\n",
    "elif b>100:\n",
    "    print(\"B is greater than 100\")\n",
    "else:\n",
    "    print(\"B is lesser than 100\")\n",
    "\n",
    "\n",
    "\n",
    "if a <= b:\n",
    "    print(\"A is bigger\")\n",
    "else:\n",
    "    print(\"B is bigger\")"
   ]
  },
  {
   "cell_type": "code",
   "execution_count": null,
   "metadata": {},
   "outputs": [],
   "source": [
    "a = 20\n",
    "b = 15\n",
    "c = 15\n",
    "\n",
    "if a < c:\n",
    "    print(\"a is leser than c\")\n",
    "    print(\"Bye for 1\")\n",
    "elif b < c:\n",
    "    print(\"C is bigger than b\")\n",
    "    print(\"Bye for 2\")\n",
    "elif a > c:\n",
    "    print(\"c is bigger than a\")\n",
    "    print(\"Bye for 3\")\n",
    "elif c == b:\n",
    "    print(\"Still nothing\")\n",
    "    \n",
    "    print(\"ByeBye\")"
   ]
  },
  {
   "cell_type": "code",
   "execution_count": null,
   "metadata": {},
   "outputs": [],
   "source": [
    "a = 110\n",
    "b = 220\n",
    "c = 330\n",
    "d = 221\n",
    "\n",
    "if b==c:\n",
    "    print(\"hello\")\n",
    "elif b<d:\n",
    "    print(\"Hi\")\n",
    "elif b<c:\n",
    "    print(\"Hey\")\n",
    "else:\n",
    "    print(\"Nothing\")"
   ]
  },
  {
   "cell_type": "code",
   "execution_count": null,
   "metadata": {},
   "outputs": [],
   "source": [
    "# if one block of code is executed in if condition, it will skip all others\n",
    "a = 110\n",
    "b = 22\n",
    "c = 5\n",
    "d = 5\n",
    "\n",
    "if d>=c:\n",
    "    print(\"Baseball\")\n",
    "elif c<=a:\n",
    "    print(\"Cricket\")\n",
    "elif a>c:\n",
    "    print(\"Football\")\n",
    "else:\n",
    "    print(\"Volleybal\")"
   ]
  },
  {
   "cell_type": "code",
   "execution_count": null,
   "metadata": {},
   "outputs": [],
   "source": [
    "# Nested if condition block - it is an \"if\" condition within an \"if\" condition\n",
    "# spaces created within the if block are called indents or we say it as indentation\n",
    "# if the program finds the true condition, it will skip corresponding if conditions. Corresponding means the\n",
    "# conditions which are aligned from left side of the cell\n",
    "\n",
    "a = 45\n",
    "if (a > 40):\n",
    "    print(\"Correct\")\n",
    "    if(a>44):\n",
    "        print(\"hello\")\n",
    "        if(a==23):\n",
    "            print(\"23\")\n",
    "        elif(a>4):\n",
    "            print(\"45\")\n",
    "        elif(a>50):\n",
    "            print(\"Great\")\n",
    "    elif a==45:\n",
    "        print(\"Beautiful\")\n",
    "    elif a>44:\n",
    "        print(\"again beautiful\")\n",
    "    print(\"Leaving the block\")\n",
    "elif a==40:\n",
    "    print(\"Wow\")\n",
    "elif (a >= 220):\n",
    "    print(\"Less than 30\")\n",
    "    if(a==23):\n",
    "        print(\"a=23\")\n",
    "elif (a < 35):\n",
    "    print(\"Less than 20\")\n",
    "    if(a < 33):\n",
    "        print(\"why\")\n",
    "    elif(a < 35):\n",
    "        print(\"what\")\n",
    "    elif (a==34):\n",
    "        print(\"how\")\n",
    "    else:\n",
    "        print(\"a is my friend\")\n",
    "elif a > 4:\n",
    "    print(\"Incorrect\")\n",
    "    print(\"byebye\")\n",
    "else:\n",
    "    print(\"Last else block\")\n",
    "\n",
    "#if(a==24 and a<20):\n",
    "#    print(\"Both are true\")"
   ]
  },
  {
   "cell_type": "code",
   "execution_count": null,
   "metadata": {},
   "outputs": [],
   "source": [
    "number = 189\n",
    "if number > 200:\n",
    "    print(\"Wow\")\n",
    "elif number > 250:\n",
    "    print(\"Brilliant\")\n",
    "    if number > 155:\n",
    "        print(\"what\")\n",
    "    elif number > 165:\n",
    "        print(\"where\")\n",
    "elif number > 185:\n",
    "    print(\"How do you do\")\n",
    "    if number > 188:\n",
    "        print(\"186\")\n",
    "    elif number > 187:\n",
    "        print(\"187 also\")\n",
    "else:\n",
    "    print(\"Nothing\")"
   ]
  },
  {
   "cell_type": "code",
   "execution_count": null,
   "metadata": {},
   "outputs": [],
   "source": [
    "# Assignment for June 26th 2020\n",
    "# Create 3 variables (integer or float - your choice)\n",
    "# Write an if condition block with 4 elif blocks (1 if + 4 elif + 1 else) and perform any statement (like print)\n",
    "# all elifs should have nested blocks as well - nested means if condition blocks within elifs (if-elif-else)\n",
    "# if - elif (if-elif-else) - elif (if-elif-else) - elif (if-elif-else) - elif (if-elif-else) - else\n",
    "\n",
    "# Another Assinment\n",
    "# Write nested if block with 4 if conditions inside first one  if (if - if - if - if (if-elif-else))\n",
    "# Also write elif and else inside last if condition\n",
    "\n",
    "\"\"\"\n",
    "if\n",
    "elif:\n",
    "    if\n",
    "    else\n",
    "elif:\n",
    "    if\n",
    "    else\n",
    "elif:\n",
    "    if\n",
    "    elif\n",
    "    else\n",
    "elif:\n",
    "    if\n",
    "    elif\n",
    "    else\n",
    "else\n",
    "\"\"\"\n",
    "# Next session, we will practice and, or, not inside if conditions along with if conditions with strings\n",
    "#if \"ranjan\" > \"razanssss\":\n",
    "#    print(\"Separate\")\n",
    "#else:\n",
    "#    print(\"Brothers\")"
   ]
  },
  {
   "cell_type": "code",
   "execution_count": null,
   "metadata": {},
   "outputs": [],
   "source": [
    "# ASCII keys represent numeric values of every symbol (letters and special characters)\n",
    "if \"aecw\" > \"afcw\":\n",
    "    print(\"Separate\")\n",
    "else:\n",
    "    print(\"Brothers\")"
   ]
  },
  {
   "cell_type": "code",
   "execution_count": null,
   "metadata": {},
   "outputs": [],
   "source": [
    "# in \"and\" condition, both conditions have to be true for the overall condition to be true\n",
    "# in \"or\" condition either of the conditions have to be true for the overall condition to be true\n",
    "\n",
    "a = 30\n",
    "b = 20\n",
    "c= 30\n",
    "\n",
    "if (a>b or c>b):\n",
    "    print(\"Super\")\n",
    "else:\n",
    "    print(\"Amazing\")"
   ]
  },
  {
   "cell_type": "code",
   "execution_count": null,
   "metadata": {},
   "outputs": [],
   "source": [
    "a = 31\n",
    "b = 35\n",
    "\n",
    "if not(a>b):\n",
    "    print(\"brilliant\")\n",
    "else:\n",
    "    print(\"outstanding\")"
   ]
  },
  {
   "cell_type": "code",
   "execution_count": null,
   "metadata": {},
   "outputs": [],
   "source": [
    "# and, or, not are called bitwise operators\n",
    "# for \"and\" condition to be true, all given conditions have to be true\n",
    "# there is a sequence how python parses (assess/analyze) the multiple bit wise conditions\n",
    "\n",
    "a = 10\n",
    "b = 20\n",
    "c= 30\n",
    "\n",
    "if b<a or c<b and c==30 or b>50:\n",
    "    print(\"all correct\")\n",
    "else:\n",
    "    print(\"something went wrong\")\n",
    "\n",
    "#Sequence of multiple bitwise operators\n",
    "    \n",
    "#if False or False and True or False\n",
    "#if False or False and True\n",
    "#if False or False\n",
    "#if False"
   ]
  },
  {
   "cell_type": "code",
   "execution_count": null,
   "metadata": {},
   "outputs": [],
   "source": [
    "# for \"or\" condition to be true, any 1 out of given conditions should be true\n",
    "a = 10\n",
    "b = 20\n",
    "c= 30\n",
    "if b==5 or c<b:\n",
    "    print(\"all correct\")\n",
    "else:\n",
    "    print(\"something went wrong\")"
   ]
  },
  {
   "cell_type": "code",
   "execution_count": null,
   "metadata": {},
   "outputs": [],
   "source": [
    "a = 10\n",
    "b = 20\n",
    "c= 30\n",
    "\n",
    "if a<b or b<c and c<b or c==5 and b==20:\n",
    "    print(\"Wow\")\n",
    "else:\n",
    "    print(\"confusion\")\n",
    "\n",
    "\n",
    "#if True or True and False or False and True\n",
    "\n",
    "#if True or False and False or False\n",
    "\n",
    "#if True or False and False\n",
    "\n",
    "#if True or False\n",
    "\n",
    "#if True"
   ]
  },
  {
   "cell_type": "code",
   "execution_count": null,
   "metadata": {},
   "outputs": [],
   "source": [
    "# \"not\" keyword reverses the condition\n",
    "# \"pass\" keyword makes nothing to happen - it just passes the block\n",
    "\n",
    "a = 10\n",
    "if a==10:\n",
    "    pass\n",
    "else:\n",
    "    print(\"oops\")"
   ]
  },
  {
   "cell_type": "code",
   "execution_count": null,
   "metadata": {},
   "outputs": [],
   "source": [
    "# for loop\n",
    "# loop is required to do a step repititively\n",
    "# for loop needs an item to be iterated on\n",
    "# range iterates on a number starting from 0 (range(5) will mean 0,1,2,3,4)\n",
    "# range  = 0 , 1 , 2 , 3 , 4 , 5, 6 , 7 , 8 , ...... , 48 , 49 \n",
    "# i represents index or the placement of items\n",
    "l=[1,2,3,4,5]\n",
    "\n",
    "#for variable in array\n",
    "#initiatlizes value of i with the first element of array\n",
    "# checks whether the array is empty or not\n",
    "# moves ahead\n",
    "# comes back into for statement and checks the condition again\n",
    "# continues until the condition is False\n",
    "\n",
    "name = \"Ranjan\"\n"
   ]
  },
  {
   "cell_type": "code",
   "execution_count": null,
   "metadata": {},
   "outputs": [],
   "source": [
    "# prints even numbers by checking if remainder = 0 \n",
    "# range will have values 0,1,2,3,4,5 . . . . \n",
    "\n",
    "for i in range(11):\n",
    "    if i%2 == 0:\n",
    "        print(i)\n",
    "    else:\n",
    "        print(\"odd\")"
   ]
  },
  {
   "cell_type": "code",
   "execution_count": null,
   "metadata": {},
   "outputs": [],
   "source": [
    "# Assignment for Jul 09th 2020\n",
    "# Create a for loop to print the table of 3 and 5\n",
    "# 3 X 1 = 3\n",
    "# 3 X 2 = 6\n",
    "# 3 X 3 = 9\n",
    "# . . . . .\n",
    "\n",
    "# table of 8\n",
    "for i in range(1,8,1):\n",
    "    print(\"8 X\" , i, \"=\", i*8)"
   ]
  },
  {
   "cell_type": "code",
   "execution_count": null,
   "metadata": {},
   "outputs": [],
   "source": [
    "# input is used to take input from user on real time basis\n",
    "# input command takes input as \"string\"\n",
    "# we need to use int() to convert the string into integer\n",
    "\n",
    "inp = int(input(\"Enter your name please :\"))\n",
    "print(inp)\n",
    "print(type(inp))"
   ]
  },
  {
   "cell_type": "code",
   "execution_count": null,
   "metadata": {},
   "outputs": [],
   "source": [
    "# Assignment for June 29th 2020\n",
    "# Create a for loop to print even numbers\n",
    "# Ask user to input until which step\n",
    "# Hint : use inp instead of range\n",
    "\n",
    "num=int(input(\"Enter the count of even numbers you want to print :: \"))\n",
    "\n",
    "for k in range(num*2):\n",
    "    if k%2 == 0:\n",
    "        print(k)"
   ]
  },
  {
   "cell_type": "code",
   "execution_count": null,
   "metadata": {},
   "outputs": [],
   "source": [
    "# Assignment-1 for Jul 11th 2020\n",
    "# Create a for loop to print numbers which are divisible by 5\n",
    "# Ask user for count of numbers\n",
    "\n",
    "# Assignment-2\n",
    "# Try for loop on a string and see what happens - with the print statement\n",
    "# try print(i, end=\"\") instead of print(i) and explore what happens"
   ]
  },
  {
   "cell_type": "code",
   "execution_count": null,
   "metadata": {},
   "outputs": [],
   "source": [
    "# Jul 14th 2020\n",
    "st = \"Children\"\n",
    "for i in st:\n",
    "    print(i,end=\"\")"
   ]
  },
  {
   "cell_type": "code",
   "execution_count": null,
   "metadata": {},
   "outputs": [],
   "source": [
    "# Jul 01st 2020\n",
    "# Nested for loop is to use for loop within another for loop\n",
    "\n",
    "#total iterations = 3 * 3 * 2\n",
    "\"\"\"\"\n",
    "a=0, b=0\n",
    "0 0\n",
    "a=0, b=1\n",
    "0 1\n",
    "a=1, b=0\n",
    "1 0\n",
    "a=1, b=1\n",
    "1 1\n",
    "a=2, b=0\n",
    "2 0\n",
    "a=2, b=1\n",
    "2 1\n",
    "\"\"\"\n",
    "for a in range(3):\n",
    "    print(\"Entering 02nd for loop\")\n",
    "    for b in range(2):\n",
    "        print(\"a=\", a, \"b=\", b)\n",
    "\n",
    "for i in \"One\":\n",
    "    for j in \"Two\":\n",
    "        print(i, j)"
   ]
  },
  {
   "cell_type": "code",
   "execution_count": null,
   "metadata": {},
   "outputs": [],
   "source": [
    "for a in range(2):   #Outer For Loop\n",
    "    print(\"First For Loop=\", a)\n",
    "    for b in range(3): # Inner For Loop\n",
    "        print(\"Second For Loop=\", b)\n",
    "        for c in range(3): # Innermost For Loop\n",
    "            print(\"Third For loop\",c)\n"
   ]
  },
  {
   "cell_type": "code",
   "execution_count": null,
   "metadata": {},
   "outputs": [],
   "source": [
    "s = \"Hello\"\n",
    "t = \"12\"\n",
    "\n",
    "for j in s:\n",
    "    for k in t:\n",
    "        print(j, k)"
   ]
  },
  {
   "cell_type": "code",
   "execution_count": null,
   "metadata": {},
   "outputs": [],
   "source": [
    "# Assignment for Jul 14th\n",
    "# Create nested for loop program with 3 levels and give explanation of the output\n",
    "# Please dont use above examples which means that you have to use for loop with your own choice"
   ]
  },
  {
   "cell_type": "code",
   "execution_count": null,
   "metadata": {},
   "outputs": [],
   "source": [
    "ground = [\"kolkata\",\"melbourne\",\"lords\",\"wellington\",1,2,3,4]\n",
    "\n",
    "city = [\"delhi\",\"mumbai\",\"kolkata\",\"kolkatta\"]\n",
    "\n",
    "for g in ground:\n",
    "    if g==\"India\":\n",
    "        print(\"kolkata\")\n",
    "    elif g==city[2]:\n",
    "        print(\"My value is city\")\n",
    "    elif g==city[3]:\n",
    "        print(\"My value is again city\")\n",
    "    else:\n",
    "        print(g)"
   ]
  },
  {
   "cell_type": "code",
   "execution_count": null,
   "metadata": {},
   "outputs": [],
   "source": [
    "#S , a , c , h , i , n\n",
    "#T , e , n , d , u , l , k , a , r\n",
    "# debugging is to find errors and we put interim print statements to find where the problem lies\n",
    "\n",
    "first = \"ST\"\n",
    "second = \"SG\"\n",
    "third = \"RDA\"\n",
    "\n",
    "for n in first:\n",
    "    \n",
    "    for m in second:\n",
    "    \n",
    "        for o in third:\n",
    "    \n",
    "            print(n + m + o)\n",
    "\n",
    "#print(ctr)"
   ]
  },
  {
   "cell_type": "code",
   "execution_count": null,
   "metadata": {},
   "outputs": [],
   "source": [
    "first =\"mansion\"\n",
    "second = [\"Kapil\",\"friend\",20,True,\"amazing\"]\n",
    "\n",
    "for i in first:\n",
    "    for j in second:\n",
    "        print(i,j)"
   ]
  },
  {
   "cell_type": "code",
   "execution_count": null,
   "metadata": {},
   "outputs": [],
   "source": [
    "b = [20,30,\"superb\",\"outstanding\"]\n",
    "c = \"CHARM\"\n",
    "\n",
    "for i in b:\n",
    "    for j in c:\n",
    "        print(i,j)\n"
   ]
  },
  {
   "cell_type": "code",
   "execution_count": null,
   "metadata": {},
   "outputs": [],
   "source": [
    "a = \"hear\"\n",
    "b = [\"s\", \"e\" ,\"e\"]\n",
    "c = [True, False]\n",
    "\n",
    "for i in a:\n",
    "    for j in c:\n",
    "        for k in b:\n",
    "            for l in \"jack\":\n",
    "                print(i,j,k,l)"
   ]
  },
  {
   "cell_type": "code",
   "execution_count": null,
   "metadata": {},
   "outputs": [],
   "source": [
    "# Assignment # 1\n",
    "# Create nested for loops with string and number of your choice\n",
    "# Assignment # 2\n",
    "# Create nested for loops with strings only of your choice\n",
    "# Assignment # 3\n",
    "# Create nested for loops with numbers (use range) of your choice"
   ]
  },
  {
   "cell_type": "code",
   "execution_count": null,
   "metadata": {},
   "outputs": [],
   "source": [
    "# importing a library called sys\n",
    "# 8 bits = 1 Byte\n",
    "# 1 Kb = 1024 bits\n",
    "# 1 KB = 1024 Bytes (1024 * 8 bits)\n",
    "\n",
    "\n",
    "import sys\n",
    "\n",
    "n = 1000\n",
    "print(sys.getsizeof(n))\n",
    "m = \"abc\"\n",
    "print(sys.getsizeof(m))\n",
    "p=5000.5\n",
    "print(sys.getsizeof(p))\n",
    "\n"
   ]
  },
  {
   "cell_type": "code",
   "execution_count": null,
   "metadata": {},
   "outputs": [],
   "source": [
    "# Assignment for Jul 01st / 18th 2020\n",
    "# Create a program requesting for a number from user (preferably > 20)\n",
    "# Run a nested for loop to print every number but also print the table of 5 (and its multiples) and 8 (and its multiples)\n",
    "# Multiple of 5 are 5, 10, 15, and so on\n",
    "# Multiplee of 8 are 8 , 16 , 24 and so on\n",
    "#use print(i, end=\" \") inside for loop to print horizontally or in same line\n",
    "\"\"\"\n",
    "1\n",
    "2\n",
    "3\n",
    "4\n",
    "5 10 15 20 25 30 35 40 45 50\n",
    "6\n",
    "7\n",
    "8 16 24 32 40 48 56 64 72 80\n",
    "9\n",
    "10 20 30 40 50 60 70 80 90 100\n",
    "11\n",
    "12\n",
    "13\n",
    "14\n",
    "15 30 45 60 75 90 105 120 135 150\n",
    "16 32 48 64 80 96 112 128 144 160\n",
    "17\n",
    "18\n",
    "19\n",
    "20 40 60 80 100 120 140 160 180 200\n",
    "21\n",
    "22\n",
    "\"\"\""
   ]
  },
  {
   "cell_type": "code",
   "execution_count": null,
   "metadata": {},
   "outputs": [],
   "source": [
    "# Assignment for Jul 03rd 2020 - you can use for or while loop or combination\n",
    "# is not a part of pattern\n",
    "\n",
    "#*1\n",
    "#* *2 \n",
    "#* * *3\n",
    "#* * * *4\n",
    "#* * * * *5\n",
    "#* * * * * *6\n",
    "#* * * * * * *7\n",
    "#* * * * * * *7\n",
    "#* * * * * *6\n",
    "#* * * * *5\n",
    "#* * * *4\n",
    "#* * *3\n",
    "#* *2\n",
    "#*1\n",
    "\n",
    "\n",
    "#* * * * * * * * *\n",
    "#  * * * * * * *\n",
    "#    * * * * *\n",
    "#      * * *\n",
    "#        *\n"
   ]
  },
  {
   "cell_type": "code",
   "execution_count": null,
   "metadata": {},
   "outputs": [],
   "source": [
    "# Jul 06th 2020\n",
    "# use _ (underscore) in for loop wherever you dont want to use the variable in the program\n",
    "\n",
    "inp=int(input(\"Enter the level :\"))\n",
    "ctr=1\n",
    "for i in range(1,inp):\n",
    "    if i<int(inp/2+1):\n",
    "        for _ in range(i):\n",
    "            print(\"*\",end = \"\")\n",
    "        print(i)\n",
    "    else:\n",
    "        for _ in range(ctr,i-ctr):\n",
    "            print(\"*\",end=\"\")\n",
    "        print(i-ctr*2)\n",
    "        ctr=ctr+1\n"
   ]
  },
  {
   "cell_type": "code",
   "execution_count": null,
   "metadata": {},
   "outputs": [],
   "source": [
    "# Jul 21st 2020\n",
    "inp = int(input(\"Enter the number until you want to reach : \"))\n",
    "for i in range(1, inp):\n",
    "    if i%5==0 or i%8==0:\n",
    "        for j in range(1,11):\n",
    "            if j==10:\n",
    "                print(i*j)\n",
    "            else:\n",
    "                print(i*j, end=\" \")\n",
    "    else:\n",
    "        print(i)\n",
    "        "
   ]
  },
  {
   "cell_type": "code",
   "execution_count": null,
   "metadata": {},
   "outputs": [],
   "source": [
    "# os is a library which can be imported, means can be used in this Jupyter file\n",
    "import os\n",
    "\n",
    "print(os.getcwd())\n",
    "\n",
    "os.chdir(\"C:\\\\Users\\pc\\python_programs\")\n",
    "print(\"After changing the directory\", os.getcwd())\n",
    "os.chdir('C:\\\\Users\\pc')\n",
    "print(\"Changed back to original working directory which is, \", os.getcwd())"
   ]
  },
  {
   "cell_type": "code",
   "execution_count": null,
   "metadata": {},
   "outputs": [],
   "source": [
    "# Jul 06th 2020\n",
    "# Jul 23rd 2020\n",
    "# list operations\n",
    "\n",
    "l = [10,2,3,\"apple\",\"bat\",\"cream\",4,5,6,\"delta\",\"e\",\"f\",False,False,True,False, 2.45, 6.89, 9.01]\n",
    "\n",
    "# append function will add element at the end\n",
    "l.append(100)\n",
    "# remove will take actual value to be removed (not the index)\n",
    "l.remove(1)\n",
    "# we can use index to remove in below fashio\n",
    "l.remove(l[3])\n",
    "\n",
    "l.reverse()\n",
    "print(l.index(10))\n",
    "# index gives the placement value (or index) of the element\n",
    "#print(l.index(True))\n",
    "# count will count no of ocurrences of the given value\n",
    "print(\"Count of True values is\", l.count(False))\n",
    "l.insert(5,\"buddy\")\n",
    "print(l)\n",
    "\n",
    "l[5]=\"mybuddy\"\n",
    "#print(l)\n",
    "\n",
    "#pop will remove element from the last of the list\n",
    "l.pop()\n",
    "\n",
    "i=l.index(\"mybuddy\")\n",
    "l.remove(\"mybuddy\")\n",
    "l.insert(i,\"hellobuddy\")\n",
    "\n",
    "print(l)\n",
    "\n",
    "# copy will create a copy of the list\n",
    "m=[]\n",
    "m=l.copy()\n",
    "l.append(200)\n",
    "\n",
    "l.remove(\"f\")\n",
    "l.count(False)\n"
   ]
  },
  {
   "cell_type": "code",
   "execution_count": null,
   "metadata": {},
   "outputs": [],
   "source": [
    "l = [10,2,3,\"apple\",\"bat\",\"cream\",4,5,6,\"delta\",\"e\",\"f\",\"bat\",False,False,True,False, 2.45, 6.89, 9.01]\n",
    "\n",
    "nxt = l.copy()\n",
    "#append function \n",
    "l.append(999)\n",
    "print(l)\n",
    "l.remove(5)\n",
    "print(l)\n",
    "l.reverse()\n",
    "print(l)\n",
    "print(\"Index of delta is\", l.index('delta'))\n",
    "print(\"Count of bat is \", l.count(\"bat\"))\n",
    "l.insert(5,\"Wonderful\")\n",
    "print(l)\n",
    "\n",
    "l.pop()\n",
    "l.pop()\n",
    "print(l)\n",
    "\n",
    "lst = [20,50,9,3,100]\n",
    "lst.sort()\n",
    "print(lst)"
   ]
  },
  {
   "cell_type": "code",
   "execution_count": null,
   "metadata": {},
   "outputs": [],
   "source": [
    "# Assignment for Jul 23rd 2020\n",
    "# Try all functions of list on your own"
   ]
  },
  {
   "cell_type": "code",
   "execution_count": null,
   "metadata": {},
   "outputs": [],
   "source": [
    "# Assignment - to try all functions of list\n",
    "lst = [100,15,10,66,55,90]\n",
    "print(\"sorting\")\n",
    "lst.sort()\n",
    "print(lst)\n",
    "\n",
    "lst = [100,15,10,66,55,90]\n",
    "print()\n",
    "# reverse will create a mirror reflection whch means it will reverse the list's order\n",
    "print(\"reverse of original list\")\n",
    "lst.reverse()\n",
    "print(lst)\n",
    "#print(lst)\n",
    "#lst[5]\n",
    "\n",
    "# passing reverse=True in the sort function will sort in descending order\n",
    "lst = [100,15,10,66,55,90]\n",
    "print()\n",
    "print(\"descending order\")\n",
    "lst.sort(reverse=True)\n",
    "print(lst)"
   ]
  },
  {
   "cell_type": "code",
   "execution_count": null,
   "metadata": {},
   "outputs": [],
   "source": [
    "# Jul 08th 2020\n",
    "# Jul 25th 2020\n",
    "# Dictionary is another data type - stores values in the form of key:value pair (like XML and JSON)\n",
    "# created by {} and elements separated by commas (,)\n",
    "# dictionary indexes values by design hence it is faster to retrieve values\n",
    "# assign set of values to 1 key (for eg, assigning a list to a key)\n",
    "\n",
    "#d = {\"name\":\"Sachin Tendulkar\"}\n",
    "#print(\"First dictionary is \",d)\n",
    "\n",
    "dct = {'cricket':'sachin', \"laptop\":\"games\", 'tennis':'leander',\"movie\":\"face off\", 'soccer':'baichung','badminton':'saina'}\n",
    "\n",
    "#v = dct.fromkeys(\"name\",\"ranjan\")\n",
    "#k=dct.get(\"tennis\")\n",
    "print(dct)\n"
   ]
  },
  {
   "cell_type": "code",
   "execution_count": null,
   "metadata": {},
   "outputs": [],
   "source": [
    "# dict.items return total items\n",
    "print(dct.items())\n",
    "# dict.keys() return list of keys\n",
    "print(dct.keys())\n",
    "# dict.values() return list of values\n",
    "dct.values()\n",
    "# var = dct.fromkeys(key,value) creates another dictionary\n",
    "# dct.get() returns the value of specified key\n",
    "print(dct.get(\"laptop\"))\n",
    "#dct.pop() removes with specified key\n",
    "#dct.pop(\"movie\")\n",
    "print(dct)\n",
    "print(\"Length of dictionary is \", len(dct))\n",
    "#dct.popitem() removes last item or pair\n",
    "#dct.popitem()\n",
    "#print(dct)\n",
    "#dct.update() adds another key:value pair\n",
    "dct.update({\"music\":\"guitar\"})\n",
    "dct"
   ]
  },
  {
   "cell_type": "code",
   "execution_count": null,
   "metadata": {},
   "outputs": [],
   "source": [
    "# Assignment for Jul 25th\n",
    "# Create dictionary of minimum 8 key:value pairs\n",
    "# try all functions on dictionary"
   ]
  },
  {
   "cell_type": "code",
   "execution_count": null,
   "metadata": {},
   "outputs": [],
   "source": [
    "dct.pop(\"soccer\")"
   ]
  },
  {
   "cell_type": "code",
   "execution_count": null,
   "metadata": {},
   "outputs": [],
   "source": [
    "dct"
   ]
  },
  {
   "cell_type": "code",
   "execution_count": null,
   "metadata": {},
   "outputs": [],
   "source": [
    "dct.popitem()"
   ]
  },
  {
   "cell_type": "code",
   "execution_count": null,
   "metadata": {},
   "outputs": [],
   "source": [
    "dct"
   ]
  },
  {
   "cell_type": "code",
   "execution_count": null,
   "metadata": {},
   "outputs": [],
   "source": [
    "dct.pop(\"sachin\")"
   ]
  },
  {
   "cell_type": "code",
   "execution_count": null,
   "metadata": {},
   "outputs": [],
   "source": [
    "r=\"ran\"\n",
    "s=\"sam\"\n",
    "dd=\"dan\"\n",
    "\n",
    "# dict with list as values\n",
    "d1 = {\"name\":\"Rahul\",\"detail\":[r,s,dd]}\n",
    "print(d1)\n",
    "# dict with dictionary as values\n",
    "d2 = {\"name\":\"Rahul\",\"detail\":{\"n\":\"sachin\",\"sport\":\"cricket\"}}\n",
    "print(d2)"
   ]
  },
  {
   "cell_type": "code",
   "execution_count": null,
   "metadata": {},
   "outputs": [],
   "source": [
    "d.values()"
   ]
  },
  {
   "cell_type": "code",
   "execution_count": null,
   "metadata": {},
   "outputs": [],
   "source": [
    "# Assignment is to play with dictionaries"
   ]
  },
  {
   "cell_type": "code",
   "execution_count": null,
   "metadata": {},
   "outputs": [],
   "source": [
    "dct = {'cricket':'sachin', 'tennis':'leander','soccer':'baichung','badminton':'saina'}"
   ]
  },
  {
   "cell_type": "code",
   "execution_count": null,
   "metadata": {},
   "outputs": [],
   "source": [
    "dct['cricket']"
   ]
  },
  {
   "cell_type": "code",
   "execution_count": null,
   "metadata": {},
   "outputs": [],
   "source": [
    "dct1={1:\"sachin\",2:\"tendulkar\"}"
   ]
  },
  {
   "cell_type": "code",
   "execution_count": null,
   "metadata": {},
   "outputs": [],
   "source": [
    "# Jul 10th 2020\n",
    "lst = [1,2,True,False,3.5,\"Ran\",\"Brave\"]\n",
    "\n",
    "for i in lst:\n",
    "    lst.append(1)\n",
    "\n",
    "# infinite loop will get into action and will consume all of memory"
   ]
  },
  {
   "cell_type": "code",
   "execution_count": null,
   "metadata": {},
   "outputs": [],
   "source": [
    "# definition of function\n",
    "# defining means only creating the structure but not executing it\n",
    "def prnt():\n",
    "    print(\"This is the first sentence\")\n",
    "    print(\"\\n This is my function which I have just created\")\n",
    "    print(\"\\n This is the last sentence\")\n",
    "# to execute the function, we call the function\n",
    "prnt()"
   ]
  },
  {
   "cell_type": "code",
   "execution_count": null,
   "metadata": {},
   "outputs": [],
   "source": [
    "# definition of function\n",
    "# defining means only creating the structure but not executing it\n",
    "def prnt(a , b):\n",
    "    print(\"This is the first sentence\")\n",
    "    print(\"\\n This is my function which I have just created\")\n",
    "    print(\"\\n This is the last sentence\")\n",
    "    print(\"Value of 01st passed argument is \", a)\n",
    "    print(\"Value of 02nd passed argument is \", b)\n",
    "# to execute the function, we call the function\n",
    "# while calling, we have to pass the same numnber of variables which we have given in definition\n",
    "prnt(1000,\"Hello\")"
   ]
  },
  {
   "cell_type": "code",
   "execution_count": null,
   "metadata": {},
   "outputs": [],
   "source": [
    "# we can initialize the values of arguments inside definition so that if user forgets, user will not get error\n",
    "def prnt(a = 99, b = \"Hi\"):\n",
    "    print(\"Value of 01st passed argument is \", a)\n",
    "    print(\"Value of 02nd passed argument is \", b)\n",
    "    \n",
    "# if someone who is caling this function forgets to pass the values, itg should not end up an error\n",
    "prnt()\n",
    "prnt\n",
    "prnt(6,\"Guitar\")(1000,\"Hello\")\n",
    "prnt(101,\"Piano\")\n",
    "# called the same function multiple times with different values - reflects reusability of function"
   ]
  },
  {
   "cell_type": "code",
   "execution_count": null,
   "metadata": {},
   "outputs": [],
   "source": [
    "def add(x=1,y=1):\n",
    "    a = x + y\n",
    "    print(\"The result of addition is \",a)\n",
    "    \n",
    "def mult(x=1,y=1):\n",
    "    a = x * y\n",
    "    print(\"The result of multiplication is \",a)\n",
    "\n",
    "def take_input():\n",
    "    i = int(input(\"Enter the first number :\"))\n",
    "    j = int(input(\"Enter the second number :\"))\n",
    "    return i,j\n",
    "\n",
    "\n",
    "k,l = take_input() # calling first time\n",
    "add(k,l)\n",
    "mult(k,l)\n",
    "\n",
    "m,n = take_input() # calling second time\n",
    "mult(m,n)\n",
    "\n",
    "#def gettingup():\n",
    "#def brushing():\n",
    "#def takingbath():\n",
    "#def attendclasses():\n",
    "# all these smaller function make a big program, whcih is attending school\n",
    "# above functin will get repeated every day so we dont have to write the code again and again\n",
    "# instead we will just call them again"
   ]
  },
  {
   "cell_type": "code",
   "execution_count": null,
   "metadata": {},
   "outputs": [],
   "source": [
    "# imagine a sequence - takeinput - sort - printoutput\n",
    "# functions - small code written in a program\n",
    "# user defined function is a way to logically divide a program\n",
    "# very helpful in debugging or troubleshooting a problem\n",
    "\n",
    "# def is a keyword to define functions\n",
    "# def name_of_function ():\n",
    "# return is used to return the value to a variable which is calling the function\n",
    "\n",
    "l=[]\n",
    "def take_input():\n",
    "    inp = int(input(\"Please enter the number :: \"))\n",
    "    return inp\n",
    "# we can use default values of parameters to avoid user end problem\n",
    "\n",
    "def print_input(w,q):\n",
    "    if w>9:\n",
    "        print(w)\n",
    "    else:\n",
    "        print(\"Number enterred is lesser than 9\")\n",
    "    print(q)\n",
    "\n",
    "\n",
    "def print_list(k):\n",
    "    print(k)\n",
    "\n",
    "#take_input()\n",
    "\n",
    "i = take_input()\n",
    "\n",
    "print(\"The value returned from function is \",i)\n",
    "\n",
    "# calling the function means actual execution  \n",
    "#for i in range(10):\n",
    "#    l.append(take_input())\n",
    "\n",
    "# passing i as argument or parameters\n",
    "#print_list(l)\n",
    "\n",
    "print_input(10,100)\n",
    "#print(1111)"
   ]
  },
  {
   "cell_type": "code",
   "execution_count": null,
   "metadata": {},
   "outputs": [],
   "source": [
    "# Assignment-1 for Jul 10th 2020\n",
    "# Create 6 functions - take_input, add, multipl, divide, subtract, print_output \n",
    "# def add_num (i,j)\n",
    "# add_num(n,m)\n",
    "\n",
    "# Assignment-2 \n",
    "# Try 2-3 functions on pre-defined functions of list"
   ]
  },
  {
   "cell_type": "code",
   "execution_count": null,
   "metadata": {},
   "outputs": [],
   "source": [
    "# Jul 13th 2020\n",
    "# Aug 06th 2020\n",
    "# Nested functions is an example of function within function\n",
    "# inner() is defined within another function and works on the value which is defined outside of the function\n",
    "# nested or inner function, if has its own variable, will take its own variable as compatred to its outer one\n",
    "\n",
    "def outer(txt):\n",
    "    def inner():\n",
    "        print(txt)\n",
    "    inner()\n",
    "outer(\"hi\")"
   ]
  },
  {
   "cell_type": "code",
   "execution_count": null,
   "metadata": {},
   "outputs": [],
   "source": [
    "# a closure is a function which returns memory and not the actual execution\n",
    "# of 1 or more variable which are declared outside of function\n",
    "# closure function is created with keyword 'return' and without circular brackets\n",
    "# the closure function object remembers the value in the enclosing scope even if they are not present in the memory\n",
    "# returning with () passes value but returning without () passes memory location\n",
    "\n",
    "def outer(txt):\n",
    "    def inner():\n",
    "        print(txt)\n",
    "    return inner\n",
    "\n",
    "a=outer(\"hello\")\n",
    "a()\n",
    "\n",
    "# deleting the outer function from memory will still enable closure function to run it\n",
    "# because closure function is holding memory locations\n",
    "del outer\n",
    "a()\n",
    "b=outer(\"hello\")\n",
    "\n",
    "# a contains an function as outer is returning a function"
   ]
  },
  {
   "cell_type": "code",
   "execution_count": null,
   "metadata": {},
   "outputs": [],
   "source": [
    "# Assignment is to create another closure function on our own of your choice"
   ]
  },
  {
   "cell_type": "code",
   "execution_count": null,
   "metadata": {},
   "outputs": [],
   "source": [
    "a = \"sachinhasmanyruns\"\n",
    "print(a[0:5])\n",
    "print(a[5])\n",
    "print(a[:-3])"
   ]
  },
  {
   "cell_type": "code",
   "execution_count": null,
   "metadata": {},
   "outputs": [],
   "source": [
    "def string_op(one):\n",
    "    def rmv(n):\n",
    "        return one[:-n]\n",
    "    return rmv\n",
    "\n",
    "# a = outer (\"hello\")\n",
    "# memory locatin of rmv gets stored in remove\n",
    "# we are not executing remove until now\n",
    "remove = string_op(\"sachintendulkarisagreatcricketplayer\")\n",
    "\n",
    "print(remove(9))\n",
    "\n",
    "# memory location 0xcf0x - Ranjanhas4friends (definition)\n",
    "# when we call, rmv_1, it takes an argument n"
   ]
  },
  {
   "cell_type": "code",
   "execution_count": null,
   "metadata": {},
   "outputs": [],
   "source": [
    "print(pow(4,2))"
   ]
  },
  {
   "cell_type": "code",
   "execution_count": null,
   "metadata": {},
   "outputs": [],
   "source": [
    "# Assignment is to create a closure function to create square or cubes of numbers \n",
    "# *** please dont search internet\n",
    "# instead of rmv, create a function called square which should take a number to square the number\n",
    "# square(3) should give 9\n",
    "# pow(5,2) can be used inside square\n",
    "# print(square(2)) should give 4\n",
    "# print(square(3)) should give 9"
   ]
  },
  {
   "cell_type": "code",
   "execution_count": null,
   "metadata": {},
   "outputs": [],
   "source": [
    "# MS-Access is Microsoft database"
   ]
  },
  {
   "cell_type": "code",
   "execution_count": null,
   "metadata": {},
   "outputs": [],
   "source": [
    "\n",
    "\n",
    "#print(a(8))"
   ]
  },
  {
   "cell_type": "code",
   "execution_count": null,
   "metadata": {},
   "outputs": [],
   "source": [
    "# recursion\n",
    "# recursion means iterating again from inside the function\n",
    "# calling the same function from the structure or definition of the same function\n",
    "# sys stands for system and import helps us in importing functions of given library\n",
    "# library means collection or set of functions\n",
    "\n",
    "import sys\n",
    "#print(sys.getrecursionlimit())\n",
    "#sys.setrecursionlimit(100)\n",
    "\n",
    "def abc(n):\n",
    "    a=pow(2,n) # pow is a built-in function which gives power of first argument\n",
    "    print(a)\n",
    "    if n>0:\n",
    "        abc(n-1)\n",
    "\n",
    "abc(11)\n",
    "\n",
    "\"\"\"\n",
    "n = 11\n",
    "a = 2048\n",
    "\n",
    "n=10\n",
    "a  =1024\n",
    "\n",
    "n=9\n",
    "a  =512\n",
    "\"\"\"\""
   ]
  },
  {
   "cell_type": "code",
   "execution_count": null,
   "metadata": {},
   "outputs": [],
   "source": [
    "# Assignment - calculate factorial with the help of recursive function\n",
    "# factorial of 5 = 5 * 4 * 3 * 2 * 1 = 120\n",
    "# factorial of 8 = 8 * 7 * 6 * 5 * 4 * 3 * 2 * 1 = 40320"
   ]
  },
  {
   "cell_type": "code",
   "execution_count": null,
   "metadata": {},
   "outputs": [],
   "source": [
    "# Aug 12th 2020\n",
    "# factorial\n",
    "\n",
    "def factorial(num):\n",
    "    if num==1:\n",
    "        return num\n",
    "    else:\n",
    "        return num*factorial(num-1)\n",
    "    \n",
    "a=factorial(5)\n",
    "print(a)"
   ]
  },
  {
   "cell_type": "code",
   "execution_count": null,
   "metadata": {},
   "outputs": [],
   "source": [
    "# ways to slice or index a string\n",
    "st=\"Greatchildren\"\n",
    "# accesses character at 0th index\n",
    "print(st[5])\n",
    "\n",
    "# accesses characters starting at 02nd position and goes until index 5-1 \n",
    "print(st[2:5])\n",
    "print(st[3:4])\n",
    "print(st[5:7])\n",
    "# accesses character starts at 0th index and goes until index 6-1 \n",
    "print(st[:6])\n",
    "\n",
    "# accesses character starting at 05th index and goes until end\n",
    "print(st[5:])\n",
    "\n",
    "print(st[10:])\n",
    "\n",
    "# accesses character starting at 05th index and goes until 6-1 index\n",
    "#print(st[5:6])\n",
    "# if we start from left, index starts from 0\n",
    "# if we start from right, index starts from -1\n",
    "\n",
    "# starts at end and goes until end\n",
    "print(st[-1:])\n",
    "\n",
    "# starts at -2 from right and goes until end\n",
    "print(st[-2:])\n",
    "\n",
    "# starts at 0 and goes until -4 (from right)\n",
    "print(st[:-4])\n",
    "\n",
    "print(st[:-1])\n",
    "\n",
    "l=st.lower()\n",
    "u=st.upper()\n",
    "\n",
    "print(l)\n",
    "print(u)\n",
    "print(st.count(\"e\"))\n",
    "print(len(st))\n"
   ]
  },
  {
   "cell_type": "code",
   "execution_count": null,
   "metadata": {},
   "outputs": [],
   "source": [
    "# Asignment - try 7-8 functions of string (preferably, upper, split, join)"
   ]
  },
  {
   "cell_type": "code",
   "execution_count": null,
   "metadata": {},
   "outputs": [],
   "source": [
    "st = \"greatchildren\"\n",
    "for i in st:\n",
    "    print(i, end = \" \")"
   ]
  },
  {
   "cell_type": "code",
   "execution_count": null,
   "metadata": {},
   "outputs": [],
   "source": [
    "# Jul 17th 2020\n",
    "# while loop is another kind of loop in Python\n",
    "# within while loop, we have to increment or decrement the variable on our own\n",
    "# while loop requires a condition\n",
    "# while condition:\n",
    "#    statements\n",
    "\n",
    "\n",
    "l = [2,4,6,8]\n",
    "st=\"super\"\n",
    "\n",
    "k=5\n",
    "i=0\n",
    "\n",
    "#for i in range(10,1,-3):\n",
    "#    print(i)\n",
    "#for j in l:\n",
    "#    print(j)\n",
    "\n",
    "# incremented the value so that while loop doesnt run in infinite condition\n",
    "\n",
    "#while i<k:\n",
    "#    print(i)\n",
    "#    i=i+1\n",
    "\n",
    "# decremented the value so that while loop doesnt run in infinite condition\n",
    "while k>i:\n",
    "    print(k)\n",
    "    k=k-1\n",
    "print(\"\\nstarting list items\\n\")\n",
    "#for i in l:\n",
    "#    print(i)\n",
    "\n",
    "[2,4,6,8]\n",
    "[4,6,8]\n",
    "[6,8]\n",
    "[8]\n",
    "\n",
    "while l:\n",
    "    print(l.pop(0))"
   ]
  },
  {
   "cell_type": "code",
   "execution_count": null,
   "metadata": {},
   "outputs": [],
   "source": [
    "a = \"Great\"\n",
    "while a==\"Great\":\n",
    "    print(\"Thanks\")\n",
    "    \n",
    "# while loop will run until the condition is True\n",
    "# in above example, condition will always be True hence it will continue to run until the computer memory is totally occupied\n",
    "# an infinite loop hangs the computer and a manual intervention is required"
   ]
  },
  {
   "cell_type": "code",
   "execution_count": null,
   "metadata": {},
   "outputs": [],
   "source": [
    "# Assignment for Aug 12th\n",
    "# ask a user to give you a number\n",
    "# print the table (until 10) of that number with the help of while loop\n",
    "# Use this statement to capture user input i = int(input(\"Enter the number\"))\n",
    "# print the table of whatever number is captured inside i"
   ]
  },
  {
   "cell_type": "code",
   "execution_count": null,
   "metadata": {},
   "outputs": [],
   "source": [
    "# looping over dictionary\n",
    "dct = {\"name\":\"sachin\", \"game\":\"cricket\", \"age\":\"45\"}\n",
    "for k,v in dct.items():\n",
    "    print(k,v)\n",
    "len(dct)"
   ]
  },
  {
   "cell_type": "code",
   "execution_count": null,
   "metadata": {},
   "outputs": [],
   "source": [
    "# iterating while loop on list and dictionary\n",
    "\n",
    "dct = {\"name\":\"sachin\", \"game\":\"cricket\", \"age\":\"45\"}\n",
    "for i in dct.keys():\n",
    "    print(i)\n",
    "print()\n",
    "for i in dct.values():\n",
    "    print(i)\n",
    "\n",
    "print(\"Looping over list\")\n",
    "l = [2,4,6,8]\n",
    "k=0\n",
    "while k<len(l):\n",
    "    print(l[k])\n",
    "    k=k+1\n",
    "\n",
    "k=0\n",
    "while k<len(dct):\n",
    "    print(dct.values())\n",
    "    k=k+1"
   ]
  },
  {
   "cell_type": "code",
   "execution_count": null,
   "metadata": {},
   "outputs": [],
   "source": [
    "# Jul 20th 2020\n",
    "# factorial by recursion\n",
    "# factorial of 4 = 4*3*2*1 and 5 = 5*4*3*2*1 and factorial of 1 = 1\n",
    "import datetime\n",
    "\n",
    "def factorial(num):\n",
    "    if num==1:\n",
    "        return num\n",
    "    else:\n",
    "        return num * factorial(num-1)\n",
    "    \n",
    "a = factorial(5)\n",
    "print(\"Factorial is\", a)"
   ]
  },
  {
   "cell_type": "code",
   "execution_count": null,
   "metadata": {},
   "outputs": [],
   "source": [
    "# Assignment for Jul 20th - try Bubble Sort or Insertion Sort without using 02nd list\n",
    "# you can use a temporary variable\n",
    "# Implement Tax calculation as explained in excel sheet"
   ]
  },
  {
   "cell_type": "code",
   "execution_count": null,
   "metadata": {},
   "outputs": [],
   "source": [
    "# Jul 22nd 2020\n",
    "# Classes & Objects - part of Object Oriented Programming (OOP)\n",
    "# Class is a data type which contains multiple variables and multiple methods\n",
    "# Class is a structure and Object is giving life to structure\n",
    "# variables are characterstics or features of class\n",
    "# methods are actions taken on the variables (features)\n",
    "# Object is executable form of class\n",
    "# class is an imagination and object is actual specific object\n",
    "# any function created inside Class is referred as method however if not associated with class, it is referred as function\n",
    "# __init__ is not mandatory but recommended\n",
    "# we should not access \n",
    "class student:\n",
    "    address = \"Delhi\"\n",
    "    \n",
    "    # initiatialization method\n",
    "    def __init__ (self, first, last, a, c,  sect):\n",
    "        self.fname = first\n",
    "        self.lname = last\n",
    "        self.age = a\n",
    "        self.code = c\n",
    "        self.section = sect\n",
    "    def printvar(self):\n",
    "        print(\"First name is \", self.fname)\n",
    "        print(\"Last name is \", self.lname)\n",
    "        print(\"Age is \", self.age)\n",
    "        print(\"Code of student is\", self.code)\n",
    "        print(\"section of student is \", self.section)\n",
    "        print(\"Address of student is \", self.address)\n",
    "    def changesection(self,s):\n",
    "        self.section=s\n",
    "      \n",
    "    @classmethod\n",
    "    def chngadd(self):\n",
    "        self.address=\"Gurugram\"\n",
    "    \n",
    "# r, s, t are objects of class Student\n",
    "\n",
    "r = student(\"Rahul\", \"Kumar\",13,1001, \"A\")\n",
    "s = student(\"Sanjay\",\"Sharma\",11,2002,\"B\")\n",
    "t = student(\"Tanvi\", \"Goel\", 8, 5007, \"D\")\n",
    "\n",
    "#print(r.address)\n",
    "#print(t.address)\n",
    "\n",
    "r.printvar()\n",
    "s.printvar()\n",
    "t.printvar()\n",
    "t.changesection(\"A\")\n",
    "t.printvar()\n",
    "\n",
    "print(\"Changing address\")\n",
    "print()\n",
    "student.chngadd()\n",
    "r.printvar()\n",
    "t.printvar()"
   ]
  },
  {
   "cell_type": "code",
   "execution_count": null,
   "metadata": {},
   "outputs": [],
   "source": [
    "class diary:\n",
    "    def __init__(self,c,p,s):\n",
    "        self.color = c\n",
    "        self.size = s\n",
    "        self.numberofpages = p\n",
    "    def prnt(self):\n",
    "        print(self.color)\n",
    "        print(self.size)\n",
    "        print(self.numberofpages)\n",
    "\n",
    "r = diary(\"Brown\",300,\"Medium\")\n",
    "t = diary(\"Black\", 200,\"Somewhat big\")"
   ]
  },
  {
   "cell_type": "code",
   "execution_count": null,
   "metadata": {},
   "outputs": [],
   "source": [
    "# Assignment is to create a class Bank with 6 variables and 4 methods\n",
    "# Create 3 objects and access all 4 methods from those 3 objects"
   ]
  },
  {
   "cell_type": "code",
   "execution_count": null,
   "metadata": {},
   "outputs": [],
   "source": [
    "# Jul 24th 2020\n",
    "# all variables which are common for all objects need not to be defined inside __init___ method\n",
    "# inheritance is a concept (part of Object Oriented Programming)\n",
    "# where child class inherits variables and methods of its Parent class\n",
    "# super is a keyword which is used to refer/access parent class\n",
    "# It is important on how to use __init__\n",
    "#from student_class import student\n",
    "#st1 = student(\"Tom\", \"Cruise\", 50, 1010, \"E\")\n",
    "\n",
    "class human:\n",
    "    school=\"The Heritage\"\n",
    "    address=\"Delhi\"\n",
    "    floor = 1\n",
    "    def __init__(self,n,ht,wt):\n",
    "        self.name=n\n",
    "        self._height=ht\n",
    "        self.__weight=wt\n",
    "    def prnt(self):\n",
    "        print(\"Name of the object is \", self.name)\n",
    "        print(\"Height of the object is \", self._height)\n",
    "        print(\"Weight of the object is \", self.__weight)\n",
    "        print(\"Address of object is \", self.address)\n",
    "        print(\"Floor of the object is \", self.floor)\n",
    "    def chngheight(self,ht):\n",
    "        self._height = ht\n",
    "    \n",
    "    @classmethod\n",
    "    def changeadd(self):\n",
    "        self.address=\"Gurgaon\"\n",
    "    @classmethod\n",
    "    def changefloor(self):\n",
    "        self.floor = 2 \n",
    "\n",
    "class male(human):\n",
    "    pass\n",
    "\n",
    "class female(human):\n",
    "    gender = \"Female\"\n",
    "    def __init__(self,n,ht,wt,hr):\n",
    "        super().__init__(n,ht,wt)\n",
    "        self.hair=hr\n",
    "    def prnth(self):\n",
    "        print('height of this object is ', self.__weight)\n",
    "        print(\"Hair color is \", self.hair)\n",
    "        print(\"Gender of this object is \", self.gender)\n",
    "\n",
    "\n",
    "r = human(\"Rahul\",5.7,50)\n",
    "s = human(\"Sanjay\",5.4,45\n",
    "abc = human(\"Sam\", 5.5, 59)\n",
    "t = female(\"Tanvi\",5.3,41,\"brown\")\n",
    "u = female() # another object\n",
    "\n",
    "print()\n",
    "r.changeadd()\n",
    "r.prnt()\n",
    "s.prnt()\n",
    "t.prnth()\n",
    "print(\"Changing floor across Class\")\n",
    "print()\n",
    "human.changefloor()\n",
    "human.changeadd()\n",
    "r.prnt()\n",
    "print()\n",
    "s.prnt()\n",
    "print()\n",
    "t.prnth()"
   ]
  },
  {
   "cell_type": "code",
   "execution_count": null,
   "metadata": {},
   "outputs": [],
   "source": [
    "# Create a class \"Bank\" and child class \"Branch\" and further child class \"Employee\"\n",
    "# Bank class is super of branch class; branch class is super of employee class (Bank - > Branch -> Employee)\n",
    "# Create 4 variables in each class and 3 methods in each class (with different purpose)\n",
    "# Bank class should have method to a) change address of headoffice, b) change No of branches and c) one method of your choice\n",
    "# Branch class should have a) change no of customers, b) annual income of branch and c) one method of your choice\n",
    "# Employee class should have methods to a)  change Manager, b) change department and c) one method of your choice\n",
    "# We should create 3 objects of \"only\" Employee class"
   ]
  },
  {
   "cell_type": "code",
   "execution_count": null,
   "metadata": {},
   "outputs": [],
   "source": [
    "# Multi-level\n",
    "class A:\n",
    "class B(A):\n",
    "class C(B):\n",
    "class D(C):\n",
    "\n",
    "# multiple inheritance\n",
    "class A:\n",
    "class B(A):\n",
    "class C(B,A):\n",
    "class D(C,B):\n",
    "\n",
    "# inner classes\n",
    "class A:\n",
    "    class B:\n",
    "        class C"
   ]
  },
  {
   "cell_type": "code",
   "execution_count": null,
   "metadata": {},
   "outputs": [],
   "source": [
    "# Aug 01st 2020\n",
    "# Multiple inheritance is diffeent from multi-level inhenritance\n",
    "# base class inherits the default class called \"object\" \n",
    "class A:\n",
    "    def __init__(self):\n",
    "        print(\"A.__init__\")\n",
    "class C(A):\n",
    "    def __init__(self):\n",
    "        print(\"C.__init__\")\n",
    "        super().__init__()\n",
    "class D(C,A):\n",
    "    def __init__(self):\n",
    "        print(\"D.__init__\")\n",
    "        super().__init__()\n",
    "class B(A):\n",
    "    def __init__(self):\n",
    "        print(\"B.__init__\")\n",
    "        super().__init__() \n",
    "class E(D,B):\n",
    "    def __init__(self):\n",
    "        print(\"E.__init__\")\n",
    "        super().__init__()\n",
    "class F (B):\n",
    "    def __init__(self):\n",
    "        print(\"F.__init__\")\n",
    "        super().__init__()\n",
    "class G (F,D):\n",
    "    def __init__(self):\n",
    "        print(\"G.__init__\")\n",
    "        super().__init__()\n",
    "class H (G,D,C):\n",
    "    def __init__(self):\n",
    "        print(\"H.__init__\")\n",
    "        super().__init__()\n",
    "\n",
    "h=H()\n",
    "#mro stands for method resolution order\n",
    "H.mro()\n",
    "\n",
    "# Explanation of MRO\n",
    "# MRO has 5 IMP properties\n",
    "# 1. each ancestor class appears once\n",
    "#    class A will appear only once in MRO\n",
    "# 2. a class always appears before its ancestor else it will give consistency issues\n",
    "#    in above example, class G (D,F) is giving error D is ancestor and it should appear after F\n",
    "# 3. if a class is inheriting 2 classes (D and E) which are further inheriting multiple classes (C and B) each\n",
    "#    then the order of each class  B,C should be same for D and E. For eg, below is incorrect\n",
    "#    class D (B,C)\n",
    "#    class E (B,C)\n",
    "#    class F (D,E)\n",
    "#    either it should be (B,C) and (B,C) for both D and E\n",
    "#    or\n",
    "#    it should be (C,B) and (C,B) for both D and E\n",
    "# 4. MRO will go to its final level of depth and then comeback to next parent (base class will be last in order)\n",
    "#    for eg class G (D,B) and class D (C,A) will have MRO as G,D,C,B,A \n",
    "# 5. MRO will consider sequence of class definition"
   ]
  },
  {
   "cell_type": "code",
   "execution_count": null,
   "metadata": {},
   "outputs": [],
   "source": [
    "class one:\n",
    "    def __init__(self):\n",
    "        print(\"This is One\")\n",
    "class two(one):\n",
    "    def __init__(self):\n",
    "        super().__init__()\n",
    "        print(\"This is Two\")\n",
    "class three(one):\n",
    "    def __init__(self):\n",
    "        super().__init__()\n",
    "        print(\"This is Three\")\n",
    "class four(three,one):\n",
    "    def __init__(self):\n",
    "        super().__init__()\n",
    "        print(\"This is Four\")\n",
    "class five(one):\n",
    "    def __init__(self):\n",
    "        super().__init__()\n",
    "        print(\"This is Five\")\n",
    "class six(five,four,two):\n",
    "    def __init__(self):\n",
    "        super().__init__()\n",
    "        print(\"This is Six\")\n",
    "        \n",
    "f = six()\n",
    "six.mro()"
   ]
  },
  {
   "cell_type": "code",
   "execution_count": null,
   "metadata": {},
   "outputs": [],
   "source": [
    "class car:\n",
    "    seats = 4\n",
    "    def __init__(self,mk,clr,trns):\n",
    "        self.make = mk\n",
    "        self.color = clr\n",
    "        self.trans = trns\n",
    "    def chngcolor(self,c):\n",
    "        self.color=c\n",
    "    def chngmk(self,m):\n",
    "        self.make=m\n",
    "# Indepedent Class\n",
    "class repair:\n",
    "    address = \"Delhi\"\n",
    "    def __init__(self,mgr):\n",
    "        self.manager = mgr\n",
    "    def chngmgr(self,m):\n",
    "        self.manager = m\n",
    "# Inherited Class\n",
    "class model:\n",
    "    variant = 3\n",
    "    def __init__(self,mod):\n",
    "        self.model = mod\n",
    "    def chngmodel(self,md):\n",
    "        self.model = md\n",
    "# Indepedent Class\n",
    "class bmw(car,repair,model):\n",
    "    model = [\"X1\",\"X3\",\"X5\",320,520]\n",
    "    def __init__(self,mak,colr,trans,mngr,mod):\n",
    "        #car.__init__(self,mak,colr,trans)\n",
    "        #repair.__init__(self,mngr)\n",
    "        super().__init__(mak,colr,trans)\n",
    "        super(car,self).__init__(mngr)\n",
    "        super(repair,self).__init__(mod)\n",
    "        self.driver=True\n",
    "    def prnt(self):\n",
    "        print(\"Make is \", self.make)\n",
    "        print(\"Color is \", self.color)\n",
    "        print(\"Transmission is \", self.trans)\n",
    "        print(\"Driver status is \", self.driver)\n",
    "        print(\"Manager name is \", self.manager)\n",
    "        print(\"Model is \", self.model)\n",
    "\n",
    "c = bmw(2000,\"white\",\"Auto\",\"Sanjay\",\"GX\")\n",
    "c.prnt()"
   ]
  },
  {
   "cell_type": "code",
   "execution_count": null,
   "metadata": {},
   "outputs": [],
   "source": [
    "# create a file within spyder which has the class to be imported\n",
    "# we can either specify the class to be imported or put * to import all classes\n",
    "# this file becomes library of all classes\n",
    "from humanclass import *\n",
    "h=human(\"Ranjan\", 5.6, 70)\n",
    "h.prnt()\n",
    "f = female(\"Anu\",5.7, 60, \"black\")\n",
    "f.prnt()"
   ]
  },
  {
   "cell_type": "code",
   "execution_count": null,
   "metadata": {},
   "outputs": [],
   "source": [
    "# Aug 01st 2020\n",
    "# create a file within spyder which has the class to be imported\n",
    "# we can either specify the class to be imported or put * to import all classes\n",
    "# this file becomes library of all classes\n",
    "from humanclass import *\n",
    "h=human(\"Ranjan\", 5.6, 70)\n",
    "h.prnt()\n",
    "f = female(\"Anu\",5.7, 60, \"black\")\n",
    "f.prnt()"
   ]
  },
  {
   "cell_type": "code",
   "execution_count": null,
   "metadata": {},
   "outputs": [],
   "source": [
    "# inner classes\n",
    "class one:\n",
    "    alpha = 10\n",
    "    def __init__(self,b):\n",
    "        self.bravo = b\n",
    "    class two:\n",
    "        charlie = 20\n",
    "        def __init__(self):\n",
    "            self.delta = \"Great\"\n",
    "        def twoprint(self):\n",
    "            print(self.charlie)\n",
    "            print(self.delta)\n",
    "t = one.two()\n",
    "t.twoprint()\n",
    "o=one(\"hello\")\n",
    "i=o.two()"
   ]
  },
  {
   "cell_type": "code",
   "execution_count": null,
   "metadata": {},
   "outputs": [],
   "source": [
    "#DOS - Disk Operating System\n",
    "#DOS was the operating system before Windows\n",
    "# cmd will take us to command prompt (black window)\n",
    "# cls will clear the screen\n",
    "# dir shows all folders\n",
    "# cd.. will take us 1 directory above\n",
    "# cd stands for change directory\n",
    "# cd followed by directory name will take us to the specified directory\n",
    "# mkdir followed by name will create a directory\n",
    "# type will list the contents of text file\n",
    "# del followed by file name will delete the file. The filename should be given with correct extension like .txt, .docx, xlsx , etc\n",
    "# md or mkdir followed by filename will create new directory or folder\n",
    "# rd will remove directory or folder\n",
    "# date will give current date\n",
    "# time will give current time\n",
    "# exit will end the session of command prompt"
   ]
  },
  {
   "cell_type": "code",
   "execution_count": null,
   "metadata": {},
   "outputs": [],
   "source": [
    "# Assignment - 1\n",
    "# Create 3 classes with inner classes. Every class should have 2 variables and 2 methods\n",
    "# Assignment - 2\n",
    "# Create 6 classes trying multiple inheritance and see how MRO changes with change in order of class definitions \n",
    "# This means how MRO changes if class A is defined after class D and if class E is definied before class A\n",
    "# Please be careful that parent or base class has to be defined before the child class"
   ]
  },
  {
   "cell_type": "code",
   "execution_count": 2,
   "metadata": {},
   "outputs": [
    {
     "ename": "FileNotFoundError",
     "evalue": "[WinError 2] The system cannot find the file specified: 'C:\\\\Users\\\\pc'",
     "output_type": "error",
     "traceback": [
      "\u001b[1;31m---------------------------------------------------------------------------\u001b[0m",
      "\u001b[1;31mFileNotFoundError\u001b[0m                         Traceback (most recent call last)",
      "\u001b[1;32m<ipython-input-2-1fecc0139585>\u001b[0m in \u001b[0;36m<module>\u001b[1;34m\u001b[0m\n\u001b[0;32m      4\u001b[0m \u001b[1;31m# this is why it is important for a programmer to understand and use DOS\u001b[0m\u001b[1;33m\u001b[0m\u001b[1;33m\u001b[0m\u001b[1;33m\u001b[0m\u001b[0m\n\u001b[0;32m      5\u001b[0m \u001b[1;32mimport\u001b[0m \u001b[0mos\u001b[0m\u001b[1;33m\u001b[0m\u001b[1;33m\u001b[0m\u001b[0m\n\u001b[1;32m----> 6\u001b[1;33m \u001b[0mos\u001b[0m\u001b[1;33m.\u001b[0m\u001b[0mchdir\u001b[0m\u001b[1;33m(\u001b[0m\u001b[1;34mr\"C:\\Users\\pc\"\u001b[0m\u001b[1;33m)\u001b[0m\u001b[1;33m\u001b[0m\u001b[1;33m\u001b[0m\u001b[0m\n\u001b[0m\u001b[0;32m      7\u001b[0m \u001b[0mprint\u001b[0m\u001b[1;33m(\u001b[0m\u001b[0mos\u001b[0m\u001b[1;33m.\u001b[0m\u001b[0mgetcwd\u001b[0m\u001b[1;33m(\u001b[0m\u001b[1;33m)\u001b[0m\u001b[1;33m)\u001b[0m\u001b[1;33m\u001b[0m\u001b[1;33m\u001b[0m\u001b[0m\n\u001b[0;32m      8\u001b[0m \u001b[1;33m\u001b[0m\u001b[0m\n",
      "\u001b[1;31mFileNotFoundError\u001b[0m: [WinError 2] The system cannot find the file specified: 'C:\\\\Users\\\\pc'"
     ]
    }
   ],
   "source": [
    "# Aug 06th 2020\n",
    "# working with txt files is required to create log files\n",
    "# a log file is created to capture important information about program or data called \"metadata\"\n",
    "# this is why it is important for a programmer to understand and use DOS\n",
    "import os\n",
    "os.chdir(r\"C:\\Users\\pc\")\n",
    "print(os.getcwd())\n",
    "\n",
    "#os.chdir(\"C:\\\\Users\\\\pc\\\\test1\")\n",
    "#os.chdir(\"C:/Users/pc/test1\")\n",
    "os.chdir(r\"C:\\Users\\pc\\test1\")\n",
    "print(os.getcwd())"
   ]
  },
  {
   "cell_type": "code",
   "execution_count": 3,
   "metadata": {},
   "outputs": [
    {
     "data": {
      "text/plain": [
       "['.android',\n",
       " '.atom',\n",
       " '.bash_history',\n",
       " '.cache',\n",
       " '.conda',\n",
       " '.condarc',\n",
       " '.eclipse',\n",
       " '.gitconfig',\n",
       " '.gradle',\n",
       " '.ipynb_checkpoints',\n",
       " '.ipython',\n",
       " '.jupyter',\n",
       " '.m2',\n",
       " '.p2',\n",
       " '.VirtualBox',\n",
       " '.vivaldi_reporting_data',\n",
       " '.vscode',\n",
       " '.zshrc',\n",
       " '3D Objects',\n",
       " 'anaconda3',\n",
       " 'AndroidStudioProjects',\n",
       " 'AppData',\n",
       " 'Application Data',\n",
       " 'Contacts',\n",
       " 'Cookies',\n",
       " 'Creative Cloud Files',\n",
       " 'Desktop',\n",
       " 'Documents',\n",
       " 'Downloads',\n",
       " 'Dropbox',\n",
       " 'Dropbox (Old)',\n",
       " 'eclipse',\n",
       " 'eclipse-workspace',\n",
       " 'Favorites',\n",
       " 'FiraCode',\n",
       " 'IntelGraphicsProfiles',\n",
       " 'Links',\n",
       " 'Local Settings',\n",
       " 'Music',\n",
       " 'My Documents',\n",
       " 'NetHood',\n",
       " 'NTUSER.DAT',\n",
       " 'ntuser.dat.LOG1',\n",
       " 'ntuser.dat.LOG2',\n",
       " 'NTUSER.DAT{13abf58a-cf33-11eb-86ce-010101010000}.TM.blf',\n",
       " 'NTUSER.DAT{13abf58a-cf33-11eb-86ce-010101010000}.TMContainer00000000000000000001.regtrans-ms',\n",
       " 'NTUSER.DAT{13abf58a-cf33-11eb-86ce-010101010000}.TMContainer00000000000000000002.regtrans-ms',\n",
       " 'ntuser.ini',\n",
       " 'OneDrive',\n",
       " 'Pictures',\n",
       " 'PrintHood',\n",
       " 'Recent',\n",
       " 'remnote',\n",
       " 'Saved Games',\n",
       " 'Searches',\n",
       " 'SendTo',\n",
       " 'Start Menu',\n",
       " 'Templates',\n",
       " 'test',\n",
       " 'Ubuntu.appx',\n",
       " 'Untitled.ipynb',\n",
       " 'Videos']"
      ]
     },
     "execution_count": 3,
     "metadata": {},
     "output_type": "execute_result"
    }
   ],
   "source": [
    "# od.makedirs gives flexibility to create sub dirtectories\n",
    "os.makedirs(\"logs/morelogs\")\n",
    "# listdir gives names of directories and files in thye form of list\n",
    "os.listdir(r\"C:\\Users\\avira\")\n",
    "os"
   ]
  },
  {
   "cell_type": "code",
   "execution_count": null,
   "metadata": {},
   "outputs": [],
   "source": [
    "# removedirs will give flexibility to remove directories and sub directories\n",
    "os.removedirs(\"logs/morelogs\")\n",
    "#os.rmdir will give an optiopn to remove any sub directory which is empty\n",
    "os.rmdir(\"logs/morelogs\")"
   ]
  },
  {
   "cell_type": "code",
   "execution_count": null,
   "metadata": {},
   "outputs": [],
   "source": [
    "#varname = open(filename,mode)\n",
    "# mode can be readonly (r), writeonly (w), readwrite (w+), append (a)\n",
    "\n",
    "f = open(\"trytest1.txt\",\"r\")\n",
    "print(f.read())\n",
    "#print()\n",
    "#print(\"The name of file is \", f.name)\n",
    "#print(\"The mode of file is \", f.mode)\n",
    "f.close()"
   ]
  },
  {
   "cell_type": "code",
   "execution_count": null,
   "metadata": {},
   "outputs": [],
   "source": [
    "# context manager efficiently utilizes your computer resources and frees them up after usage\n",
    "with open(\"trytest1.txt\",\"r\") as f:\n",
    "    print(f.read())\n",
    "    f.close()"
   ]
  },
  {
   "cell_type": "code",
   "execution_count": null,
   "metadata": {},
   "outputs": [],
   "source": [
    "with open(\"another.txt\",\"w+\") as f:\n",
    "    f.write(\"Hey buddy\")\n",
    "    f.write(\"\\n\")\n",
    "    f.write(\"lets study together\")\n",
    "    f.write(\"\\n\")\n",
    "    f.write(\"Bye buddy\")\n",
    "    f.seek(10)\n",
    "    for fl in f:\n",
    "        print(fl,end=\"\")\n",
    "f.close()"
   ]
  },
  {
   "cell_type": "code",
   "execution_count": null,
   "metadata": {},
   "outputs": [],
   "source": [
    "with open(\"another.txt\",\"a\") as f:\n",
    "    f.seek(2)\n",
    "    f.write(\"\\n\")\n",
    "    f.write(\"Appending it\")"
   ]
  },
  {
   "cell_type": "code",
   "execution_count": null,
   "metadata": {},
   "outputs": [],
   "source": [
    "# Assignment - to create file of your choice and read it inside the same context manager\n",
    "# try all modes - r, w, w+, a"
   ]
  },
  {
   "cell_type": "code",
   "execution_count": null,
   "metadata": {},
   "outputs": [],
   "source": [
    "# Aug 08th 2020\n",
    "# revision\n",
    "# benefit of context manager are\n",
    "# a.memory utilization, b.efficient utilization of resources - if error occurs before file getting closed, file may get corrupted\n",
    "# but context manager helps avoiding it\n",
    "# context manager is a class in built witrh 2 methods - __enter__() and __exit__()\n",
    "import os\n",
    "print(os.getcwd())\n",
    "#os.chdir(r\"C:\\Users\\pc\\test1\")\n",
    "#print(os.getcwd())\n",
    "with open (\"trytest1.txt\",\"r\") as f:\n",
    "    print(f.name)\n",
    "    print(f.mode)\n",
    "    print(f.read(10))\n",
    "    print(f.tell())\n",
    "\n",
    "with open (\"trytest1.txt\",\"r\") as f:\n",
    "    print(f.readline(20))\n",
    "    print(f.tell())\n",
    "    # after executing f.readline, cursor (program control) will be at the number which have specified inside readline\n",
    "    print(f.readline()[0:20])\n",
    "    \n",
    "with open (\"trytest1.txt\",\"r\") as f:\n",
    "    print(f.readlines())\n",
    "    print(len(f.readlines())) \n",
    "# f.name and f.mode\n",
    "# f.read(num) - after this, the cursor is at the num+1 position\n",
    "# f.tell()\n",
    "# f.readline() returns single line in string and we can slice it. It can also take similar argument the way read takes \n",
    "# f.readlines() returns list of all lines and we can slice it"
   ]
  },
  {
   "cell_type": "code",
   "execution_count": null,
   "metadata": {},
   "outputs": [],
   "source": [
    "# An absolute path always begin from root folder for eg C:\\users\\pc\\test1\n",
    "# A relative path is relative to current working directory for eg .\\trytest1.txt   or trytest1.txt is same\n",
    "# ..\\\\ means parent folder of current working directory\n",
    "# .\\\\ means current directory\n",
    "os.chdir(\".\\\\\")\n",
    "(\"C:\\Users\\pc\\.vscode\")\n",
    "(\".\\\\.vscode\")\n"
   ]
  },
  {
   "cell_type": "code",
   "execution_count": null,
   "metadata": {},
   "outputs": [],
   "source": [
    "#os.path.split(path)\n",
    "a,b = os.path.split(r\"C:\\Users\\pc\\test1\")\n",
    "print(a)\n",
    "print(b)\n",
    "#os.path.getsize(path)\n",
    "print(os.path.getsize(r\"C:\\Users\\pc\\test1\"))\n",
    "print(os.path.getsize(r\"C:\\Users\\pc\\test1\\trytest1.txt\"))\n",
    "#os.path.exists(path)\n",
    "print(os.path.exists(r\"C:\\Users\\pc\"))\n",
    "#os.path.isdir(path)\n",
    "print(os.path.isdir(r\"C:\\Users\\pc\"))\n",
    "#os.path.isfile(path\\file)\n",
    "print(os.path.isfile(r\"C:\\Users\\pc\"))\n",
    "print(os.path.isfile(r\"C:\\Users\\pc\\test1\\trytest1.txt\"))\n",
    "\n",
    "#Bytes and Bits are in the power of 2\n",
    "#2 to the power of 10 is 1024\n",
    "#1 Byte  =8 bits\n",
    "#Byte is denoted by B\n",
    "#bit is denoted by b\n",
    "#1 Kb = 1024 bits\n",
    "#1 KB = 1024 Bytes\n",
    "#1 Mb = 10 to the power 6 bits (1 followed by 6 zeros)\n"
   ]
  },
  {
   "cell_type": "code",
   "execution_count": null,
   "metadata": {},
   "outputs": [],
   "source": [
    "# Assignment for Aug 08th 2020 is to try all above os.path. functions on your own\n",
    "# read, readline, readlines()\n",
    "# try for & while loop with readlines()"
   ]
  },
  {
   "cell_type": "code",
   "execution_count": null,
   "metadata": {},
   "outputs": [],
   "source": [
    "import os\n",
    "os.chdir(r\"C:\\Users\\pc\\test1\")"
   ]
  },
  {
   "cell_type": "code",
   "execution_count": null,
   "metadata": {},
   "outputs": [],
   "source": [
    "with open (\"trytest1.txt\",\"r\") as f:\n",
    "    for l in f.readlines():\n",
    "        print(l)"
   ]
  },
  {
   "cell_type": "code",
   "execution_count": null,
   "metadata": {},
   "outputs": [],
   "source": [
    "with open (\"trytest1.txt\",\"r\") as f:\n",
    "    text=f.readline()\n",
    "    while len(text)>0:\n",
    "        print(text)\n",
    "        text=f.readline()"
   ]
  },
  {
   "cell_type": "code",
   "execution_count": null,
   "metadata": {},
   "outputs": [],
   "source": [
    "import os\n",
    "import datetime\n",
    "print(os.getcwd())\n",
    "os.chdir(r\"C:\\Users\\pc\\test1\")\n",
    "print(os.getcwd())"
   ]
  },
  {
   "cell_type": "code",
   "execution_count": null,
   "metadata": {},
   "outputs": [],
   "source": [
    "# Aug 09th 2020\n",
    "# creating folders with date and time\n",
    "\n",
    "# only date\n",
    "#os.makedirs(str(datetime.date.today()))\n",
    "\n",
    "\n",
    "#only time\n",
    "dateTimeObj = datetime.datetime.now()\n",
    "tm = dateTimeObj.strftime(\"%H-%M-%S\")\n",
    "os.makedirs(str(datetime.date.today()) + \"/\" + tm)\n",
    "\n",
    "# date & time\n",
    "#current_date_time=datetime.datetime.today()\n",
    "#tm=current_date_time.strftime('%d-%m-%y %H-%M-%S-%f')\n",
    "#os.makedirs(tm)"
   ]
  },
  {
   "cell_type": "code",
   "execution_count": null,
   "metadata": {},
   "outputs": [],
   "source": [
    "with open(\"another.txt\",\"r\") as f:\n",
    "    content=f.readlines()\n",
    "    content.insert(99,\"something here\\n\")\n",
    "content=\"\".join(content)\n",
    "print(content)\n",
    "with open (\"another.txt\",\"w\") as f:\n",
    "    f.write(content)"
   ]
  },
  {
   "cell_type": "code",
   "execution_count": null,
   "metadata": {},
   "outputs": [],
   "source": [
    "# binary modes are used to read image, audio, video\n",
    "with open (\"ML.png\",\"rb\") as f:\n",
    "    print(f.read())"
   ]
  },
  {
   "cell_type": "code",
   "execution_count": null,
   "metadata": {},
   "outputs": [],
   "source": [
    "# Assignment # 1 - add a text with .readline\n",
    "\n",
    "# Assignment # 2 - pick any of your previous programs and add logs to it\n",
    "# program when run should create a folder of date and it should have a file giving time of every sequence/command\n",
    "\n",
    "#* printed at 10:50:15\n",
    "#** printed at 10:50:16\n",
    "        \n",
    "#120 got at 10-51-10\n",
    "#24 got at 10-51-10"
   ]
  },
  {
   "cell_type": "code",
   "execution_count": null,
   "metadata": {},
   "outputs": [],
   "source": [
    "# Aug 27th 2020\n",
    "# How to work with word documents\n",
    "# install docx (if we dont have it) and then import the same\n",
    "# Start > Anaconda > Anaconda PowerShell Prompt"
   ]
  },
  {
   "cell_type": "code",
   "execution_count": null,
   "metadata": {},
   "outputs": [],
   "source": [
    "import docx"
   ]
  },
  {
   "cell_type": "code",
   "execution_count": null,
   "metadata": {},
   "outputs": [],
   "source": [
    "import os"
   ]
  },
  {
   "cell_type": "code",
   "execution_count": null,
   "metadata": {},
   "outputs": [],
   "source": [
    "os.chdir(r\"C:\\Users\\pc\\test1\")"
   ]
  },
  {
   "cell_type": "code",
   "execution_count": null,
   "metadata": {},
   "outputs": [],
   "source": [
    "print(os.getcwd())"
   ]
  },
  {
   "cell_type": "code",
   "execution_count": null,
   "metadata": {},
   "outputs": [],
   "source": [
    "d = docx.Document(\"pythonword.docx\")\n",
    "# d is a variable\n",
    "# docx.Document is a function name to open the word document\n",
    "# filename with the .docx extension should exist before running this command"
   ]
  },
  {
   "cell_type": "code",
   "execution_count": null,
   "metadata": {},
   "outputs": [],
   "source": [
    "print(d.paragraphs[0].text)\n",
    "print(d.paragraphs[1].text)\n",
    "print(d.paragraphs[2].text)\n",
    "print(d.paragraphs[3].text)\n",
    "print(d.paragraphs[4].text)\n",
    "print(d.paragraphs[5].text)\n",
    "print()\n",
    "print()\n",
    "print(d.paragraphs[6].text)\n",
    "print()\n",
    "print(d.paragraphs[7].text)\n",
    "print(d.paragraphs[8].text)\n",
    "print()\n",
    "print(d.paragraphs[9].text)"
   ]
  },
  {
   "cell_type": "code",
   "execution_count": null,
   "metadata": {},
   "outputs": [],
   "source": []
  },
  {
   "cell_type": "code",
   "execution_count": null,
   "metadata": {},
   "outputs": [],
   "source": [
    "print(d.paragraphs[0].runs[0].text)\n",
    "print()\n",
    "print(d.paragraphs[8].runs[0].text)\n",
    "print()\n",
    "print(d.paragraphs[8].runs[1].text)\n",
    "print()\n",
    "print(d.paragraphs[8].runs[2].text)\n",
    "#print(d.paragraphs[1].runs[4].text)"
   ]
  },
  {
   "cell_type": "code",
   "execution_count": null,
   "metadata": {},
   "outputs": [],
   "source": [
    "print(d.paragraphs[9].runs[0].text)\n",
    "print()\n",
    "print(d.paragraphs[9].runs[1].text)\n",
    "print()\n",
    "print(d.paragraphs[9].runs[3].text)"
   ]
  },
  {
   "cell_type": "code",
   "execution_count": null,
   "metadata": {},
   "outputs": [],
   "source": [
    "print(d.paragraphs[0].text)"
   ]
  },
  {
   "cell_type": "code",
   "execution_count": null,
   "metadata": {},
   "outputs": [],
   "source": [
    "print(d.paragraphs[2].runs[0].text)"
   ]
  },
  {
   "cell_type": "code",
   "execution_count": null,
   "metadata": {},
   "outputs": [],
   "source": [
    "# Assignment is to view all of the pargraphs with the help of 'for' loop\n",
    "# print(d.paragraphs[specify variable].text)"
   ]
  },
  {
   "cell_type": "code",
   "execution_count": null,
   "metadata": {},
   "outputs": [],
   "source": [
    "wdoc=docx.Document()\n",
    "wdoc.add_paragraph(\"This is the first statement\")\n",
    "\n",
    "p2wdoc=wdoc.add_paragraph(\"This is the second statement\")\n",
    "\n",
    "p2wdoc.add_run(\" Continuing on the second statement\")\n",
    "\n",
    "wdoc.save(\"filefrompython.docx\")\n"
   ]
  },
  {
   "cell_type": "code",
   "execution_count": null,
   "metadata": {},
   "outputs": [],
   "source": [
    "wdoc.paragraphs[0].add_run(\"    Hey Buddy\")\n",
    "wdoc.save(\"filefrompython.docx\")"
   ]
  },
  {
   "cell_type": "code",
   "execution_count": null,
   "metadata": {},
   "outputs": [],
   "source": []
  },
  {
   "cell_type": "code",
   "execution_count": null,
   "metadata": {},
   "outputs": [],
   "source": [
    "d.paragraphs.clear()\n",
    "d.save(\"pythonword.docx\")"
   ]
  },
  {
   "cell_type": "code",
   "execution_count": null,
   "metadata": {},
   "outputs": [],
   "source": []
  },
  {
   "cell_type": "code",
   "execution_count": null,
   "metadata": {},
   "outputs": [],
   "source": [
    "d.paragraphs[0].text=\"\"\n",
    "d.save(\"pythonword.docx\")\n",
    "\n",
    "#d.paragraphs"
   ]
  },
  {
   "cell_type": "code",
   "execution_count": null,
   "metadata": {},
   "outputs": [],
   "source": [
    "# Assignment for Aug 27th\n",
    "# Create word files and use as many functions of paragraphs and runs\n",
    "# Try creating files and then appending the data"
   ]
  },
  {
   "cell_type": "code",
   "execution_count": null,
   "metadata": {},
   "outputs": [],
   "source": [
    "# Aug 29th 2020\n",
    "# No function to delete data from paragraphs\n",
    "\n",
    "d.add_picture(\"ML.png\",width=docx.shared.Inches(4),height=docx.shared.Inches(3))\n",
    "d.save(\"filefrompython.docx\")"
   ]
  },
  {
   "cell_type": "code",
   "execution_count": null,
   "metadata": {},
   "outputs": [],
   "source": [
    "import xlsxwriter as xl"
   ]
  },
  {
   "cell_type": "code",
   "execution_count": null,
   "metadata": {},
   "outputs": [],
   "source": [
    "help(xl.Workbook)"
   ]
  },
  {
   "cell_type": "code",
   "execution_count": null,
   "metadata": {},
   "outputs": [],
   "source": [
    "w = xl.Workbook(\"salesfile.xlsx\")"
   ]
  },
  {
   "cell_type": "code",
   "execution_count": null,
   "metadata": {},
   "outputs": [],
   "source": [
    "import os\n",
    "os.chdir(r\"C:\\Users\\pc\\test1\")"
   ]
  },
  {
   "cell_type": "code",
   "execution_count": null,
   "metadata": {},
   "outputs": [],
   "source": [
    "sheet1=w.add_worksheet(\"insurance\")"
   ]
  },
  {
   "cell_type": "code",
   "execution_count": null,
   "metadata": {},
   "outputs": [],
   "source": [
    "sheet2=w.add_worksheet(\"finance\")"
   ]
  },
  {
   "cell_type": "code",
   "execution_count": null,
   "metadata": {},
   "outputs": [],
   "source": [
    "sheet3=w.add_worksheet(\"health\")"
   ]
  },
  {
   "cell_type": "code",
   "execution_count": null,
   "metadata": {},
   "outputs": [],
   "source": [
    "sheet1.write(\"A1\",\"Name\")\n",
    "sheet1.write(\"B1\",\"Address\")\n",
    "sheet1.write(\"C1\",\"Age\")\n",
    "sheet1.write(\"A2\",\"Sanjay\")\n",
    "sheet1.write(\"B2\",\"Janak Puri\")\n",
    "sheet1.write(\"C2\",40)"
   ]
  },
  {
   "cell_type": "code",
   "execution_count": null,
   "metadata": {},
   "outputs": [],
   "source": [
    "sheet2.write(\"A5\",\"Name\")\n",
    "sheet2.write(\"B5\",\"Address\")\n",
    "sheet2.write(\"C5\",\"Age\")\n",
    "sheet2.write(\"A7\",\"Sanjay\")\n",
    "sheet2.write(\"B7\",\"Janak Puri\")\n",
    "sheet2.write(\"C7\",40)"
   ]
  },
  {
   "cell_type": "code",
   "execution_count": null,
   "metadata": {},
   "outputs": [],
   "source": [
    "# it uses 01st value as row and 02nd value as col unlike cell references\n",
    "sheet3.write(1,1,\"Friend\")\n",
    "sheet3.write(1,2,\"Address\")\n",
    "sheet3.write(2,1,\"Ranjan\")\n",
    "sheet3.write(2,2,\"Janak Puri\")"
   ]
  },
  {
   "cell_type": "code",
   "execution_count": null,
   "metadata": {},
   "outputs": [],
   "source": [
    "# create a format object on workbook\n",
    "wf = w.add_format()\n",
    "tf = w.add_format()"
   ]
  },
  {
   "cell_type": "code",
   "execution_count": null,
   "metadata": {},
   "outputs": [],
   "source": [
    "# specify properties / parameters on the object\n",
    "wf.set_bg_color(\"red\")\n",
    "wf.set_font_size(20)\n",
    "tf.set_bg_color(\"blue\")\n",
    "tf.set_font(\"Broadway\")"
   ]
  },
  {
   "cell_type": "code",
   "execution_count": null,
   "metadata": {},
   "outputs": [],
   "source": [
    "help(wf.bg_color)"
   ]
  },
  {
   "cell_type": "code",
   "execution_count": null,
   "metadata": {},
   "outputs": [],
   "source": [
    "sheet1.write(\"A10\",\"Name\",wf)\n",
    "sheet1.write(\"B10\",\"Address\",wf)\n",
    "sheet1.write(\"C10\",\"Age\",wf)\n",
    "sheet1.write(\"A11\",\"Sanjay\",tf)\n",
    "sheet1.write(\"B11\",\"Janak Puri\",tf)\n",
    "sheet1.write(\"C11\",40,tf)"
   ]
  },
  {
   "cell_type": "code",
   "execution_count": null,
   "metadata": {},
   "outputs": [],
   "source": [
    "w.close()"
   ]
  },
  {
   "cell_type": "code",
   "execution_count": null,
   "metadata": {},
   "outputs": [],
   "source": [
    "# Aug 30th 2020\n",
    "import pandas as pd"
   ]
  },
  {
   "cell_type": "code",
   "execution_count": null,
   "metadata": {},
   "outputs": [],
   "source": [
    "data = pd.read_csv(r\"D:\\ClaimsVision\\insurance_claims.csv\")"
   ]
  },
  {
   "cell_type": "code",
   "execution_count": null,
   "metadata": {},
   "outputs": [],
   "source": [
    "# head will show 01st 5 rows\n",
    "data.head()\n",
    "# data type is now DataFrame"
   ]
  },
  {
   "cell_type": "code",
   "execution_count": null,
   "metadata": {},
   "outputs": [],
   "source": [
    "data"
   ]
  },
  {
   "cell_type": "code",
   "execution_count": null,
   "metadata": {},
   "outputs": [],
   "source": [
    "data.tail()"
   ]
  },
  {
   "cell_type": "code",
   "execution_count": null,
   "metadata": {},
   "outputs": [],
   "source": [
    "data[\"age\"]"
   ]
  },
  {
   "cell_type": "code",
   "execution_count": null,
   "metadata": {},
   "outputs": [],
   "source": [
    "data[data[\"age\"] > 40]"
   ]
  },
  {
   "cell_type": "code",
   "execution_count": null,
   "metadata": {},
   "outputs": [],
   "source": [
    "pandas\n",
    "numpy arrays\n",
    "\n",
    "[1,2,3,4,5] is also a 1 dimension array\n",
    "1 row X 5 cols\n",
    "\n",
    "[[1,2],\n",
    " [3,4],\n",
    " [5,6]] is a 2 dimensiona array \n",
    "3 rows X 2 cols\n",
    "\n",
    "we can create n dimentional arrays with numpy\n",
    "\n",
    "Below is a 3 dimensional array\n",
    "2 X 3 X 2\n",
    "\n",
    "[[[1,2],\n",
    " [3,4],\n",
    " [5,6]],\n",
    "[[1,2],\n",
    " [3,4],\n",
    " [5,6]]]"
   ]
  },
  {
   "cell_type": "code",
   "execution_count": null,
   "metadata": {},
   "outputs": [],
   "source": [
    "# data which is not in numbers is categorical data\n",
    "# catregporical data is converted into numbers by label encoding\n",
    "# label encoding means assigning numbers to unique values\n",
    "# OH = 0, IN = 1, NY =2, MI = 3, NJ = 4\n"
   ]
  },
  {
   "cell_type": "code",
   "execution_count": null,
   "metadata": {},
   "outputs": [],
   "source": [
    "# refer https://xlsxwriter.readthedocs.io/format.html for more details on format class"
   ]
  },
  {
   "cell_type": "code",
   "execution_count": null,
   "metadata": {},
   "outputs": [],
   "source": [
    "# Assignment - create 2 excel files and try to add 10 rows in 3 different sheets\n",
    "# try at least 7-8 different functions of format on xlsxwriter"
   ]
  },
  {
   "cell_type": "code",
   "execution_count": null,
   "metadata": {},
   "outputs": [],
   "source": [
    "# Sep 03rd 2020\n",
    "# Working with PDF Files\n",
    "# import PyPDF2\n",
    "# create object of reader\n",
    "# either simply pass name in the variable or use context manager\n",
    "# fetching page by .get_page()\n",
    "# fetching contents by .extractText()"
   ]
  },
  {
   "cell_type": "code",
   "execution_count": null,
   "metadata": {},
   "outputs": [],
   "source": [
    "import PyPDF2 as pdf"
   ]
  },
  {
   "cell_type": "code",
   "execution_count": null,
   "metadata": {},
   "outputs": [],
   "source": [
    "import os"
   ]
  },
  {
   "cell_type": "code",
   "execution_count": null,
   "metadata": {},
   "outputs": [],
   "source": [
    "print(os.getcwd())"
   ]
  },
  {
   "cell_type": "code",
   "execution_count": null,
   "metadata": {},
   "outputs": [],
   "source": [
    "os.chdir(r\"C:\\Users\\pc\\test1\")"
   ]
  },
  {
   "cell_type": "code",
   "execution_count": null,
   "metadata": {},
   "outputs": [],
   "source": [
    "# create object of pdfreader from PyPDF2\n",
    "pdfreader = pdf.PdfFileReader(\"resume.pdf\")"
   ]
  },
  {
   "cell_type": "code",
   "execution_count": null,
   "metadata": {},
   "outputs": [],
   "source": [
    "# get page\n",
    "readpage = pdfreader.getPage(2)"
   ]
  },
  {
   "cell_type": "code",
   "execution_count": null,
   "metadata": {},
   "outputs": [],
   "source": [
    "content = readpage.extractText()"
   ]
  },
  {
   "cell_type": "code",
   "execution_count": null,
   "metadata": {},
   "outputs": [],
   "source": [
    "print(content)"
   ]
  },
  {
   "cell_type": "code",
   "execution_count": null,
   "metadata": {},
   "outputs": [],
   "source": [
    "# create a name with file name and mode\n",
    "# create a write object\n",
    "# add page with the write object\n",
    "# write with writer object\n",
    "# dont forget to close the name file\n",
    "# we wont require to close if working with context manager"
   ]
  },
  {
   "cell_type": "code",
   "execution_count": null,
   "metadata": {},
   "outputs": [],
   "source": [
    "name = open(\"newpdf.pdf\",\"ab+\")"
   ]
  },
  {
   "cell_type": "code",
   "execution_count": null,
   "metadata": {},
   "outputs": [],
   "source": [
    "pdfwriter = pdf.PdfFileWriter()"
   ]
  },
  {
   "cell_type": "code",
   "execution_count": null,
   "metadata": {},
   "outputs": [],
   "source": [
    "pdfwriter.addPage(readpage)"
   ]
  },
  {
   "cell_type": "code",
   "execution_count": null,
   "metadata": {},
   "outputs": [],
   "source": [
    "pdfwriter.write(name)"
   ]
  },
  {
   "cell_type": "code",
   "execution_count": null,
   "metadata": {},
   "outputs": [],
   "source": [
    "name.close()"
   ]
  },
  {
   "cell_type": "code",
   "execution_count": null,
   "metadata": {},
   "outputs": [],
   "source": [
    "# Assignment # 1 to get the complete document\n",
    "# use for loop with pdfreader.getNumPages() to read the complete document"
   ]
  },
  {
   "cell_type": "code",
   "execution_count": null,
   "metadata": {},
   "outputs": [],
   "source": [
    "# Assignment # 2\n",
    "# take multiple PDF files and read any page from each file - I mean for eg any page if the document has 3-4 pages\n",
    "# if you dont have PDF document, then create a word file and then do save-as .pdf\n",
    "# combine all those pages read from different pdf files into 1 pdf document - new pdf file\n",
    "# add page and then do write and probably, you can put inside a for loop (if you want to add 5-6 documents)"
   ]
  },
  {
   "cell_type": "code",
   "execution_count": null,
   "metadata": {},
   "outputs": [],
   "source": [
    "# Sep 05th 2020\n",
    "# Binary means representing any number or text into the form of 1's and 0's\n",
    "\n",
    "# Integer to Binary\n",
    "# Binary to Integer\n",
    "# logical operators\n",
    "#    and, or, not\n",
    "# bitwise operators\n",
    "#    &, |, ^, <<, >> "
   ]
  },
  {
   "cell_type": "code",
   "execution_count": null,
   "metadata": {},
   "outputs": [],
   "source": [
    "# Integer to Binary\n",
    "# Divide by 2 and then take remainder\n",
    "\n",
    "23\n",
    "         Q   R\n",
    "23 / 2 = 11  1\n",
    "11 / 2 = 5   1\n",
    "5 / 2  = 2   1\n",
    "2 / 2  = 1   0\n",
    "1 / 2  = 0   1\n",
    "\n",
    "23 = 10111"
   ]
  },
  {
   "cell_type": "code",
   "execution_count": null,
   "metadata": {},
   "outputs": [],
   "source": [
    "# Binary to Integer\n",
    "Binary - 10111\n",
    "\n",
    "Index -  43210\n",
    "\n",
    "Logic of converting binary into integer is below\n",
    "Binary Digit * (2**Index)\n",
    "\n",
    "1*(2**4) + 0*(2**3) + 1*(2**2) + 1*(2**1) + 1*(2**0)\n",
    "\n",
    "16 + 0*8 + 4 + 2 + 1\n",
    "23\n",
    "\n",
    "# this is hapening recursively (happening in the loop or repetitively within itself)"
   ]
  },
  {
   "cell_type": "code",
   "execution_count": null,
   "metadata": {},
   "outputs": [],
   "source": [
    "what is integer value of 101010\n",
    "101010\n",
    "543210\n",
    "\n",
    "1*2**5  +  0*2**4  + 1*2**3  + 0*2**2  +  1*2**1  + 1*2**0\n",
    "32 + 0 + 8 + 0 + 2\n",
    "42"
   ]
  },
  {
   "cell_type": "code",
   "execution_count": null,
   "metadata": {},
   "outputs": [],
   "source": [
    "\n"
   ]
  },
  {
   "cell_type": "code",
   "execution_count": null,
   "metadata": {},
   "outputs": [],
   "source": []
  },
  {
   "cell_type": "code",
   "execution_count": null,
   "metadata": {},
   "outputs": [],
   "source": [
    "#& \tAND\tSets each bit to 1 if both bits are 1\n",
    "#|\tOR\tSets each bit to 1 if one of two bits is 1\n",
    "# ^\tXOR\tSets each bit to 1 if only one of two bits is 1\n",
    "# ~ \tNOT\tInverts all the bits\n",
    "# <<\tZero fill left shift\tShift left by pushing zeros in from the right and let the leftmost bits fall off\n",
    "#>>\tSigned right shift\tShift right by pushing copies of the leftmost bit in from the left, and let the rightmost bits fall off"
   ]
  },
  {
   "cell_type": "code",
   "execution_count": null,
   "metadata": {},
   "outputs": [],
   "source": [
    "# and will give true if both the conditions are true\n",
    "# or will give trueif either of the conditions are true\n",
    "\n",
    "# x and y will output y if x is True\n",
    "# x and y will output x if x is False\n",
    "# x or y will ouput x if x is True\n",
    "# x or y will ouyput y if x is False\n",
    "\n",
    "#10==20 and 20==30\n",
    "#False and False\n",
    "True and False\n",
    "99 and 300==301\n",
    "\n",
    "q = (x==t and y==z)\n",
    "#20 or 100"
   ]
  },
  {
   "cell_type": "code",
   "execution_count": null,
   "metadata": {},
   "outputs": [],
   "source": [
    "True and False or True and False or True and True and True or False or False\n",
    "True and False or True and False or True and True and True or False\n",
    "True and False or True and False or True and True and True\n",
    "True and False or True and False or True and True\n",
    "True and False or True and False or True\n",
    "True and False or True and True\n",
    "True and False or True\n",
    "True and True\n",
    "True"
   ]
  },
  {
   "cell_type": "code",
   "execution_count": null,
   "metadata": {},
   "outputs": [],
   "source": [
    "x= 10\n",
    "y=2\n",
    "print((x**2)*y)"
   ]
  },
  {
   "cell_type": "code",
   "execution_count": null,
   "metadata": {},
   "outputs": [],
   "source": [
    "3 & 4\n",
    "& is called \"ampersand\"\n",
    "\n",
    "binary value of 3 \n",
    "binary value of 4\n",
    "taking and of both binary values\n",
    "bitwise and of both binary\n",
    "\n",
    "10 & 15\n",
    "\n",
    "1010\n",
    "1111\n",
    "\n",
    "1010 = 10"
   ]
  },
  {
   "cell_type": "code",
   "execution_count": null,
   "metadata": {},
   "outputs": [],
   "source": [
    "10 & 15\n",
    "print(False and False)"
   ]
  },
  {
   "cell_type": "code",
   "execution_count": null,
   "metadata": {},
   "outputs": [],
   "source": [
    "1101\n",
    "1010\n",
    "\n",
    "8+4+1 = 13\n",
    "8+2 = 10\n",
    "\n",
    "1000 = 8\n",
    "\n",
    "Take & integer\n",
    "Step 1 : Take binary\n",
    "Step 2 : Take and wise operation\n",
    "Step 3 : convert binary into integer\n",
    "answer is integer"
   ]
  },
  {
   "cell_type": "code",
   "execution_count": null,
   "metadata": {},
   "outputs": [],
   "source": [
    "13 & 10"
   ]
  },
  {
   "cell_type": "code",
   "execution_count": null,
   "metadata": {},
   "outputs": [],
   "source": [
    "13 | 10\n",
    "\n",
    "Taking or for all bits\n",
    "1101\n",
    "1010\n",
    "\n",
    "1111\n",
    "8 + 4 + 2 + 1 = 15"
   ]
  },
  {
   "cell_type": "code",
   "execution_count": null,
   "metadata": {},
   "outputs": [],
   "source": [
    "13 | 10"
   ]
  },
  {
   "cell_type": "code",
   "execution_count": null,
   "metadata": {},
   "outputs": [],
   "source": [
    "XOR ^\n",
    "# it will output 1 only and only if one of the 2 digits is 1\n",
    "\n",
    "1101\n",
    "1010\n",
    "\n",
    "0111\n",
    "\n",
    "0+4+2+1"
   ]
  },
  {
   "cell_type": "code",
   "execution_count": null,
   "metadata": {},
   "outputs": [],
   "source": [
    "13 ^ 10"
   ]
  },
  {
   "cell_type": "code",
   "execution_count": null,
   "metadata": {},
   "outputs": [],
   "source": [
    "~10"
   ]
  },
  {
   "cell_type": "code",
   "execution_count": null,
   "metadata": {},
   "outputs": [],
   "source": [
    "# Assignment # 1 - Sep 05th 2020\n",
    "# Create a recursive function to calculate binary\n",
    "\n",
    "# program wil ask for a integer number from user and then the program will output binary number\n",
    "# import math\n",
    "# math.floor(n/2) will be used to take quotient\n",
    "# use % for remainder"
   ]
  },
  {
   "cell_type": "code",
   "execution_count": null,
   "metadata": {},
   "outputs": [],
   "source": [
    "# Assignment # 2 - Sep 05th 2020\n",
    "# Create a recursive function to retrieve or recreate binary to integer\n",
    "\n",
    "# program wil ask for a binary number from user and then the program will output integer number\n",
    "# import math\n",
    "# math.floor(n/2) will be used to take quotient\n",
    "# use % for remainder"
   ]
  },
  {
   "cell_type": "code",
   "execution_count": null,
   "metadata": {},
   "outputs": [],
   "source": [
    "# Sep 06th\n",
    "# Decimal/fraction to binary - multiplication  instead of division\n",
    "# NOT Operator\n",
    "# negative to binary"
   ]
  },
  {
   "cell_type": "code",
   "execution_count": null,
   "metadata": {},
   "outputs": [],
   "source": [
    "for eg the decimal number is 0.23456\n",
    "Fraction * 2 = Integer value of answer (before decimal)\n",
    "\n",
    "0.23456 * 2 = 0\n",
    "0.46912 * 2 = 0\n",
    "0.93824 * 2 = 1\n",
    "0.87648 * 2 = 1\n",
    "0.75296 * 2 = 1\n",
    "0.50592 * 2 = 1\n",
    "\n",
    "\n",
    "0.125 + 0.0625 + 0.015625 + 0.0078125\n",
    "\n",
    "Binary number will be 0.0011somethinginbetween 10\n",
    "\n",
    "#How to convert fraction biunary into integeres\n",
    "111.101 (binary in fractions)\n",
    "Part 1 - 111\n",
    "111\n",
    "210\n",
    "\n",
    "4 + 2 + 0 = 6\n",
    "\n",
    "Part 2 - 101\n",
    "1  0 1\n",
    "-1-2-3\n",
    "\n",
    "1*(2**-1) + 0*(2**-2) + 1*(2**-3) + 0\n",
    "1/2 + 0*1/4 + 1/8\n",
    "0.5 + 0.125\n",
    "0.625\n",
    "= 6.625\n",
    "\n",
    "111.1010 = the answer wil be same"
   ]
  },
  {
   "cell_type": "code",
   "execution_count": null,
   "metadata": {},
   "outputs": [],
   "source": [
    "0.85\n",
    "0.85 * 2 = 1\n",
    "0.7 * 2 = 1\n",
    "0.4 * 2 = 0\n",
    "0.8 * 2 = 1\n",
    "0.6 * 2 = 1\n",
    "\n",
    "\n",
    "0.11011\n",
    "-1-2-3-4-5\n",
    "\n",
    "1*(2**-1) + 1*(2**-2) + 1*(2**-4) + 1*(2**-5) + 1/64 + 1/128 + \n",
    "0.5 + 0.25 0.0625 + 0.03125 +  = 0.84"
   ]
  },
  {
   "cell_type": "code",
   "execution_count": null,
   "metadata": {},
   "outputs": [],
   "source": [
    "#Decimal\n",
    "#111.1010\n",
    "#Index before decimal starts from 0 (from right side)\n",
    "#Index after decimal starts from -1 (from left hand side)"
   ]
  },
  {
   "cell_type": "code",
   "execution_count": null,
   "metadata": {},
   "outputs": [],
   "source": [
    "i = input(\"Enter a number\")\n",
    "print(type(i))\n",
    "help(i.split())"
   ]
  },
  {
   "cell_type": "code",
   "execution_count": null,
   "metadata": {},
   "outputs": [],
   "source": [
    "# Python  - > C++ -> C ->> Assembly Language -> 0s and 1s -> highs and lows of electric signal\n",
    "# every OS provides assembly language converter (called assembler for different languages)\n",
    "# Windows will provide assembler for C so that C codes are converted into 0s and 1s\n",
    "# Computer understands everything in binary language. It doesnt understand anything\n",
    "# 0s and 1s are electric signals in the form of lows and highs"
   ]
  },
  {
   "cell_type": "code",
   "execution_count": null,
   "metadata": {},
   "outputs": [],
   "source": [
    "# Sep 10th - convert negative number to binary\n",
    "# shared an excel file with everyone"
   ]
  },
  {
   "cell_type": "code",
   "execution_count": null,
   "metadata": {},
   "outputs": [],
   "source": [
    "def name(n, a, r):\n",
    "    print(\"My details are \", n, a, r)\n",
    "    \n",
    "name(\"Ranjan\",40, 12345)"
   ]
  },
  {
   "cell_type": "code",
   "execution_count": null,
   "metadata": {},
   "outputs": [],
   "source": [
    "# Sep 12th 2020\n",
    "# Use of args and kwargs - to manage real time passing of arguments within the functions\n",
    "\n",
    "# args is used to receive multiple arguments in the function without worrying the actual #\n",
    "# kwargs is used to receive multiple arguments but along with names of variables\n",
    "\n",
    "# 1. We have to note that kwargs receive values as dictionary\n",
    "# 2. args receive values as tuple and NOT as list\n",
    "# 3. we can change the name of these arguments and it is not mandatory to use args and kwargs. Instead, we can use abc and xyz also\n",
    "# 4. It is mandatory to use single * with args and double ** with kwargs \n",
    "# 5. We can also pass a variable along with args and kwargs but have to be careful that the variable should be received first alongside *args and **kwargs\n",
    "# 6. for eg add(a , *args , **kwargs) will run fine but add (*args , **kwargs , a) will not run"
   ]
  },
  {
   "cell_type": "code",
   "execution_count": null,
   "metadata": {},
   "outputs": [],
   "source": [
    "# tuple is simimlar to list but created with circular brackets ()\n",
    "a = (1,2,3,4,5)\n",
    "print(type(a))"
   ]
  },
  {
   "cell_type": "code",
   "execution_count": null,
   "metadata": {},
   "outputs": [],
   "source": [
    "# Use of args\n",
    "\n",
    "def add(*args):\n",
    "    s=0\n",
    "    #print(args[0])\n",
    "    #print(args[1])\n",
    "    for i in args:\n",
    "        s=s+i\n",
    "    return s\n",
    "\n",
    "answer=add(1,2,3,4,5,6,7,8,9,9,9,8,6,5,50)\n",
    "print(answer)"
   ]
  },
  {
   "cell_type": "code",
   "execution_count": null,
   "metadata": {},
   "outputs": [],
   "source": [
    "# Below will give error\n",
    "\n",
    "def add(*args):\n",
    "    s=0\n",
    "    for i in args:\n",
    "        s=s+i\n",
    "    return s\n",
    "\n",
    "s=1\n",
    "t=2\n",
    "u=3\n",
    "print(add(s,t,u))\n",
    "print(add(s=1,t=2,u=3,v=4))"
   ]
  },
  {
   "cell_type": "code",
   "execution_count": null,
   "metadata": {},
   "outputs": [],
   "source": [
    "# Use of kwargs\n",
    "\n",
    "def ad(**kwargs):\n",
    "    s=0\n",
    "    for i in kwargs.values():\n",
    "        s=s+i\n",
    "    return s\n",
    "\n",
    "print(ad(s=1,t=2,u=3,v=4,w=5))"
   ]
  },
  {
   "cell_type": "code",
   "execution_count": null,
   "metadata": {},
   "outputs": [],
   "source": [
    "# Now, below will give error because 1 out of 5 variables is NOT a keyword variable\n",
    "\n",
    "def add(**kwargs):\n",
    "    s=0\n",
    "    for i in kwargs.values():\n",
    "        s=s+i\n",
    "    return s\n",
    "\n",
    "answer=add(1,2,t=2,u=3,v=4,w=5)\n",
    "print(answer)"
   ]
  },
  {
   "cell_type": "code",
   "execution_count": null,
   "metadata": {},
   "outputs": [],
   "source": [
    "# But below will work. args will take care of changing number of variables\n",
    "# kwargs will take care of name of variables present\n",
    "\n",
    "def add(a,*ar, **gs):\n",
    "    s=0\n",
    "    for i in ar:\n",
    "        s=s+i\n",
    "    for i in gs.values():\n",
    "        s=s+i\n",
    "    return s+a\n",
    "\n",
    "print(add(100,200,300,t=1,u=2,v=3))\n",
    "\n",
    "# arguments should be written before keyword arguments"
   ]
  },
  {
   "cell_type": "code",
   "execution_count": null,
   "metadata": {},
   "outputs": [],
   "source": [
    "def add(*args, **kwargs):\n",
    "    s=0\n",
    "    for i in kwargs.values():\n",
    "        s=s+i\n",
    "    return s\n",
    "\n",
    "l = []\n",
    "i = int(input(\"Enter the number of integers you want to add\"))\n",
    "\n",
    "for j in range(i):\n",
    "    l.append(int(input(\"Enter the integer : \")))\n",
    "\n",
    "print(l)\n",
    "\n",
    "add(l)\n",
    "#n=0\n",
    "#for k in range(i):\n",
    "#    n=n+l[k]"
   ]
  },
  {
   "cell_type": "code",
   "execution_count": null,
   "metadata": {},
   "outputs": [],
   "source": [
    "# Assignment - Create a function of your choice which should accept integers and strings\n",
    "# The function should use args and kwargs\n",
    "# The function should add whatever integers passed and should concatenate (join) whatever strings passed\n",
    "\n",
    "# for eg addjoin(1,2,3,\"Ranjan\",\"Raman\",\"Kapil\")\n",
    "# should print 10 , RanjanRamanKapil\n"
   ]
  },
  {
   "cell_type": "code",
   "execution_count": null,
   "metadata": {},
   "outputs": [],
   "source": [
    "# Assignment - Program to create negative to binary"
   ]
  },
  {
   "cell_type": "code",
   "execution_count": null,
   "metadata": {},
   "outputs": [],
   "source": [
    "from gtts import gTTS\n",
    "import os\n",
    "print(os.getcwd())"
   ]
  },
  {
   "cell_type": "code",
   "execution_count": null,
   "metadata": {},
   "outputs": [],
   "source": [
    "# NLP is about Natural language Processing\n",
    "# convert sentences into tokens\n",
    "# these tokens are given/assigned values\n",
    "# These tokens have pre-defined responses\n",
    "# when a new sentence comes, ML algorithm runs and finds relevant sentences and give corresponding responses"
   ]
  },
  {
   "cell_type": "code",
   "execution_count": 2,
   "metadata": {},
   "outputs": [
    {
     "name": "stdout",
     "output_type": "stream",
     "text": [
      "Defaulting to user installation because normal site-packages is not writeable\n",
      "Collecting gtts\n",
      "  Downloading gTTS-2.2.3-py3-none-any.whl (25 kB)\n",
      "Requirement already satisfied: requests in /usr/lib/python3/dist-packages (from gtts) (2.25.1)\n",
      "Requirement already satisfied: six in /usr/lib/python3/dist-packages (from gtts) (1.15.0)\n",
      "Requirement already satisfied: click in /usr/lib/python3/dist-packages (from gtts) (7.1.2)\n",
      "Installing collected packages: gtts\n",
      "Successfully installed gtts-2.2.3\n"
     ]
    }
   ],
   "source": [
    "!pip install gtts"
   ]
  },
  {
   "cell_type": "code",
   "execution_count": 4,
   "metadata": {},
   "outputs": [
    {
     "name": "stderr",
     "output_type": "stream",
     "text": [
      "sh: 1: mpg123: not found\n"
     ]
    },
    {
     "data": {
      "text/plain": [
       "32512"
      ]
     },
     "execution_count": 4,
     "metadata": {},
     "output_type": "execute_result"
    }
   ],
   "source": [
    "import gtts\n",
    "import os\n",
    "\n",
    "# enter the text which we want gtts to speak\n",
    "out_text = \"Hurray !! we have got something new \"\n",
    "# which language\n",
    "language = \"en\"\n",
    "\n",
    "#use function gTTS(text to be converted to speech,language, pace)\n",
    "\n",
    "output = gtts.gTTS(text=out_text,lang=language,slow=False)\n",
    "# specify file name to be saved in your workig directory\n",
    "\n",
    "output.save(\"output.mp3\")\n",
    "# mention start in os.system to kick start the speech\n",
    "os.system(\"play output.mp3\")"
   ]
  },
  {
   "cell_type": "code",
   "execution_count": null,
   "metadata": {},
   "outputs": [],
   "source": [
    "#PCM = Pulse Code Modulation\n",
    "#Digitization of voice"
   ]
  },
  {
   "cell_type": "code",
   "execution_count": null,
   "metadata": {},
   "outputs": [],
   "source": [
    "# Sep 19th - Exception Handling\n",
    "\n",
    "#Diference between Compiler and Interpreter\n",
    "#Interpreter translates instructions line by line and translator waits for program to read a line and executes it\n",
    "#Though it is good to correct thngs in between , but it is slow as a process\n",
    "\n",
    "# Compiler takes the complete program and transaltes everything together\n",
    "# Things will go fast and all at one go\n",
    "# if there is mistake, it is too late to correct\n",
    "# generally operating system provides compiler & even interpreter\n",
    "# programming language do provide its own interpreter"
   ]
  },
  {
   "cell_type": "code",
   "execution_count": null,
   "metadata": {},
   "outputs": [],
   "source": [
    "# Three types of errors\n",
    "# 1. Syntax Error or Compile time\n",
    "        #prnt() instead of print()  -something which is against the guidelines of programming language\n",
    "# 2. Logical Error (this is the error where there is no syntax error but the ouput is not as per our requirement)\n",
    "#      problem in our logic\n",
    "#       I have everything correct but I have given incorrec logic in my if condition or while loop or function\n",
    "#       as an example a loop goes into infinite loop\n",
    "#       i=0 while (i<5) print(i) \n",
    "# 3. Run Time Error (These are Exceptions which are thrown at run time and the program is terminated)\n",
    "\n",
    "# ideally, 1. all expected exceptions should be captured, 2. actions to be coded for all exceptions\n",
    "# 3. ensure that the program resumes and doesnt halt completely "
   ]
  },
  {
   "cell_type": "code",
   "execution_count": null,
   "metadata": {},
   "outputs": [],
   "source": [
    "# put risky code inside try block\n",
    "# put the actions to be  taken inside except block (except is shortform of Exception)\n",
    "# there could be multiple except blocks\n",
    "# else is optional and will run ONLY if no except block is executed (or run)\n",
    "# finaly is also optional\n",
    "# finally is of course finally and will run everytime if given/specified\n",
    "# IMP if any except block is not captured/mentioned but finally is given, then finally will run before the exception is raised\n",
    "# IMP if any exception is raised during except or else, finally will run before the exception is raised\n",
    "# if exception is encountered inside the finally, it will not get captured but we can put a nested try block inside finally\n",
    "# go online to study all of the existing Exceptions - python documentation"
   ]
  },
  {
   "cell_type": "code",
   "execution_count": null,
   "metadata": {},
   "outputs": [],
   "source": [
    "# possible problems / challenges a program can get into\n",
    "try:\n",
    "    b = 2\n",
    "    a = [0,2,4]\n",
    "    index = int(input(\"Enter the index you want to check \"))\n",
    "    print(a[index])\n",
    "    i = int(input(\"Enter a number \"))\n",
    "    b = 10/i\n",
    "    print(b)\n",
    "    with open(\"myanother.txt\",\"r\") as f:\n",
    "        print(f.readlines())\n",
    "except IndexError:\n",
    "    b=10/0\n",
    "    print(\"You enterred incorrect index so please run again and enter the correct index\")\n",
    "except  ZeroDivisionError:\n",
    "    print (\"You have divided by 0 which is mathematically incorrect \")\n",
    "except Exception:\n",
    "    print(\"Oops, something went wrong !!\")\n",
    "finally:\n",
    "    print(\"Thanks and Exiting the program\")"
   ]
  },
  {
   "cell_type": "code",
   "execution_count": null,
   "metadata": {},
   "outputs": [],
   "source": [
    "a = [1,2,3]\n",
    "try:\n",
    "    #print(a[4])\n",
    "    #b = 10/0\n",
    "    #print(b)\n",
    "    with open(\"myeanother.txt\",\"r\") as f:\n",
    "        print(f.readlines())\n",
    "except ZeroDivisionError as e1:\n",
    "    print(e)\n",
    "except FileNotFoundError as e:\n",
    "    print(\"The file probably doesnt exist\")\n",
    "    print(e)\n",
    "\n",
    "try:\n",
    "    b=10/0\n",
    "except ZeroDivisionError:\n",
    "    pass\n",
    "except IndexError:\n",
    "    print(\"Check the index\")\n",
    "except Exception:\n",
    "    print(\"Oops !! something went wrong !\")\n",
    "except SyntaxError:\n",
    "    print(\"after finally\")\n",
    "except FileNotFoundError:\n",
    "    pass\n",
    "else:\n",
    "    print(\"Please look at the code\")\n",
    "    d=10/0\n",
    "finally:\n",
    "    print(\"Everytime\")\n",
    "    with open(\"myyetanother.txt\",\"r\") as f:\n",
    "        print(f.readlines())"
   ]
  },
  {
   "cell_type": "code",
   "execution_count": null,
   "metadata": {},
   "outputs": [],
   "source": [
    "# Assignment for Sep 19th\n",
    "# Use try, except, finally blocks on few  of your own programs"
   ]
  },
  {
   "cell_type": "code",
   "execution_count": null,
   "metadata": {},
   "outputs": [],
   "source": [
    "# How can we continue the program after an exception is raised - Part 1\n",
    "a = [1,2,3]\n",
    "try:\n",
    "    print(a[1])\n",
    "    #put very risky code along with except blocks inside the nested try block \n",
    "    try:\n",
    "        b = 10/0\n",
    "        print(b)\n",
    "    except ZeroDivisionError:\n",
    "        print(\"Inside nested try block\")\n",
    "    with open(\"myanother.txt\",\"r\") as f:\n",
    "        print(f.readlines())\n",
    "    print(\"Continue my program\")\n",
    "    print(\"Further contiue\")\n",
    "except ZeroDivisionError as e1:\n",
    "    print(\"The arithmetic operation is incorrect\")\n",
    "except FileNotFoundError:\n",
    "    print(\"ohh, File not found in the current working directory\")"
   ]
  },
  {
   "cell_type": "code",
   "execution_count": null,
   "metadata": {},
   "outputs": [],
   "source": [
    "# if nested block is not provided then the code will be part of main try-except block\n",
    "# and it will not execute anything after an exception is encountered\n",
    "\n",
    "a = [1,2,3]\n",
    "try:\n",
    "    b = 10/0\n",
    "    print(b)\n",
    "    with open(\"myanother.txt\",\"r\") as f:\n",
    "        print(f.readlines())\n",
    "    print(\"Continue my program\")\n",
    "    print(\"Further contiue\")\n",
    "except ZeroDivisionError as e1:\n",
    "    print(\"The arithmetic operation is incorrect\")\n",
    "except FileNotFoundError:\n",
    "    print(\"ohh, File not found in the current working directory\")"
   ]
  },
  {
   "cell_type": "code",
   "execution_count": null,
   "metadata": {},
   "outputs": [],
   "source": [
    "# How can we continue the program after an exception is raised - Part 2\n",
    "# it is a good idea to put your code inside a loop or an if condition to ensure that the code doesnt stop abruptly\n",
    "b = [0,0,0,1,1,2]\n",
    "a = 100\n",
    "\n",
    "for i in [4,5,6,8]:\n",
    "    try:\n",
    "        c = a/i\n",
    "        print(c)\n",
    "    except ZeroDivisionError:\n",
    "        print(\"Number was Zero hence couldn't mnultiply\")\n",
    "        \n",
    "#for variable in someiterable:\n",
    "#    code\n",
    "    \n",
    "#iterable can be range(), \"string\", [1,2,3,4,5], \n",
    "#iterable cannot be integer"
   ]
  },
  {
   "cell_type": "code",
   "execution_count": null,
   "metadata": {},
   "outputs": [],
   "source": [
    "for i in \"d r a m a \":\n",
    "    print(i,end = \" \")"
   ]
  },
  {
   "cell_type": "code",
   "execution_count": null,
   "metadata": {},
   "outputs": [],
   "source": [
    "for i in \"drama\":\n",
    "    for j in \"school\":\n",
    "        print(i + j,end = \" \")\n",
    "    print(\"\\n\")"
   ]
  },
  {
   "cell_type": "code",
   "execution_count": null,
   "metadata": {},
   "outputs": [],
   "source": [
    "\n",
    "try:\n",
    "    b = 10/0\n",
    "    print(b)\n",
    "    with open(\"myanother.txt\",\"r\") as f:\n",
    "        print(f.readlines())\n",
    "    print(\"Continue my program\")\n",
    "    print(\"Further contiue\")\n",
    "#except ZeroDivisionError as e1:\n",
    "#    print(\"The arithmetic operation is incorrect\")\n",
    "#except FileNotFoundError:\n",
    "#    print(\"ohh, File not found in the current working directory\")\n",
    "finally:\n",
    "    print(\"Finally\")"
   ]
  },
  {
   "cell_type": "code",
   "execution_count": null,
   "metadata": {},
   "outputs": [],
   "source": [
    "# Assignment # 1 for Sep 23rd - create a program to test below\n",
    "# if any exception is raised during except or else, finally will run before the exception is raised\n",
    "\n",
    "# Assignment # 2\n",
    "# Create a program where the exception is raised inside the except block\n",
    "# and when it hits the subsequent exception, it again hits the previous exception\n",
    "# test to find what happens"
   ]
  },
  {
   "cell_type": "code",
   "execution_count": null,
   "metadata": {},
   "outputs": [],
   "source": [
    "# Sep 26th 2020\n",
    "# Working with Buttons\n",
    "\n",
    "# Python has capability to do almost everything but widely used for Machine Learning\n",
    "# desktop applications, web development, reports/charts, statistical analysis, machine learning"
   ]
  },
  {
   "cell_type": "code",
   "execution_count": null,
   "metadata": {},
   "outputs": [],
   "source": [
    "from tkinter import *\n",
    "# goto Anaconda power shell > pip install tkinter"
   ]
  },
  {
   "cell_type": "code",
   "execution_count": null,
   "metadata": {},
   "outputs": [],
   "source": [
    "root = Tk()\n",
    "\n",
    "# container to put all widgets is defined by Tk()\n",
    "\n",
    "# Tk stands for toolkit\n",
    "# goto https://docs.python.org/3/library/tkinter.html for more details of tkinter and Tk()\n",
    "\n",
    "# 3 step process = creating, placing, presenting/running/executing\n",
    "\n",
    "#varname = widgetname (where, parameters)\n",
    "\n",
    "l1 = Label(root,text = \"Click-Me\")\n",
    "l1.pack()\n",
    "\n",
    "l2 = Label(root,text = \"Bye\")\n",
    "l2.pack()\n",
    "\n",
    "l3 = Label(root,text = \"Next Time\")\n",
    "l3.pack()\n",
    "\n",
    "l4 = Label(root,text = \"This Time\")\n",
    "l4.pack()"
   ]
  },
  {
   "cell_type": "code",
   "execution_count": null,
   "metadata": {},
   "outputs": [],
   "source": [
    "root.mainloop()"
   ]
  },
  {
   "cell_type": "code",
   "execution_count": null,
   "metadata": {},
   "outputs": [],
   "source": []
  },
  {
   "cell_type": "code",
   "execution_count": null,
   "metadata": {},
   "outputs": [],
   "source": [
    "root=Tk()\n",
    "# creating\n",
    "l1 = Label(root,text = \"Click-Me\")\n",
    "l2 = Label(root,text = \"Bye\")\n",
    "l3 = Label(root,text = \"Next Time\")\n",
    "l4 = Label(root,text = \"This Time\")\n",
    "l5 = Label(root,text = \"another one\")\n",
    "l6 = Label(root,text = \"another one\")\n",
    "#placing\n",
    "l1.grid(row=0,column=0)\n",
    "l2.grid(row=0,column=1)\n",
    "l3.grid(row=1,column=0)\n",
    "l4.grid(row=1,column=1)\n",
    "l5.grid(row=2,column=0)\n",
    "l6.grid(row=0,column=2)"
   ]
  },
  {
   "cell_type": "code",
   "execution_count": null,
   "metadata": {},
   "outputs": [],
   "source": [
    "root.mainloop()"
   ]
  },
  {
   "cell_type": "code",
   "execution_count": null,
   "metadata": {},
   "outputs": [],
   "source": []
  },
  {
   "cell_type": "code",
   "execution_count": null,
   "metadata": {},
   "outputs": [],
   "source": [
    "root=Tk()\n",
    "# creating the widget / object\n",
    "l1 = Label(root,text = \"Click-Me\")\n",
    "l2 = Label(root,text = \"Bye\")\n",
    "l3 = Label(root,text = \"Next Time\")\n",
    "l4 = Label(root,text = \"This Time\")\n",
    "\n",
    "# padx is the length of button\n",
    "# pady is the height of the button\n",
    "# bg is background color of button\n",
    "# fg is foreground color of button\n",
    "b1=Button(root,text = \"Add\",padx=20,pady=20,bg=\"red\",fg=\"blue\")\n",
    "b2=Button(root,text = \"Sub\",padx=20,pady=20,bg=\"blue\",fg=\"red\")\n",
    "b3=Button(root,text = \"Mult\",padx=20,pady=20)\n",
    "b4=Button(root,text = \"Div\",padx=20,pady=20)\n",
    "\n",
    "# placing the widget/object\n",
    "\n",
    "l1.grid(row=0,column=0)\n",
    "b1.grid(row=0,column=1)\n",
    "\n",
    "l2.grid(row=1,column=0)\n",
    "b2.grid(row=1,column=1)\n",
    "\n",
    "l3.grid(row=2,column=0)\n",
    "b3.grid(row=2,column=1)\n",
    "\n",
    "l4.grid(row=3,column=0)\n",
    "b4.grid(row=3,column=1)"
   ]
  },
  {
   "cell_type": "code",
   "execution_count": null,
   "metadata": {},
   "outputs": [],
   "source": [
    "root.mainloop()"
   ]
  },
  {
   "cell_type": "code",
   "execution_count": null,
   "metadata": {},
   "outputs": [],
   "source": []
  },
  {
   "cell_type": "code",
   "execution_count": null,
   "metadata": {},
   "outputs": [],
   "source": [
    "root=Tk()\n",
    "\n",
    "# creating the widget / object\n",
    "l1 = Label(root,text = \"Click-Me\")\n",
    "l2 = Label(root,text = \"Bye\")\n",
    "l3 = Label(root,text = \"Next Time\")\n",
    "l4 = Label(root,text = \"This Time\")\n",
    "\n",
    "b1=Button(root,text = \"Add\",padx=20,pady=20,bg=\"red\",fg=\"blue\")\n",
    "b2=Button(root,text = \"Sub\",padx=20,pady=20,bg=\"blue\",fg=\"red\")\n",
    "b3=Button(root,text = \"Mult\",padx=20,pady=20)\n",
    "b4=Button(root,text = \"Div\",padx=20,pady=20)\n",
    "\n",
    "e1=Entry(root,width = 20)\n",
    "e1.insert(0,\"Enter the First Name\")\n",
    "\n",
    "e2=Entry(root,show=\"*\",width = 20)\n",
    "e2.insert(0,\"Enter the Last Name\")\n",
    "\n",
    "# placing the widget/object\n",
    "l1.grid(row=0,column=0)\n",
    "b1.grid(row=0,column=1)\n",
    "e1.grid(row=0,column=2)\n",
    "l2.grid(row=1,column=0)\n",
    "b2.grid(row=1,column=1)\n",
    "e2.grid(row=1,column=2)\n",
    "l3.grid(row=2,column=0)\n",
    "b3.grid(row=2,column=1)\n",
    "l4.grid(row=3,column=0)\n",
    "b4.grid(row=3,column=1)"
   ]
  },
  {
   "cell_type": "code",
   "execution_count": null,
   "metadata": {},
   "outputs": [],
   "source": [
    "root.mainloop()"
   ]
  },
  {
   "cell_type": "code",
   "execution_count": null,
   "metadata": {},
   "outputs": [],
   "source": [
    "from tkinter import *"
   ]
  },
  {
   "cell_type": "code",
   "execution_count": null,
   "metadata": {},
   "outputs": [],
   "source": [
    "root=Tk()\n",
    "\n",
    "def function1():\n",
    "    print(\"I am function 1 and thanks for printing\")\n",
    "    print(getdata1())\n",
    "def function2():\n",
    "    print(\"I am function 2 and hope you have a great day ahead\")\n",
    "    print(getdata2())\n",
    "\n",
    "def getdata1():\n",
    "    return e1.get()\n",
    "def getdata2():\n",
    "    return e2.get()\n",
    "\n",
    "# creating the widget / object\n",
    "l1 = Label(root,text = \"Click-Me\")\n",
    "l2 = Label(root,text = \"Bye\")\n",
    "l3 = Label(root,text = \"Next Time\")\n",
    "l4 = Label(root,text = \"This Time\")\n",
    "\n",
    "# command is to pass functions for buttons\n",
    "# there are no circlar brackets in front of function name\n",
    "\n",
    "b1=Button(root,text = \"Add\",command=function1,padx=20,pady=20,bg=\"red\",fg=\"blue\")\n",
    "b2=Button(root,text = \"Sub\",command=function2,padx=20,pady=20,bg=\"blue\",fg=\"red\")\n",
    "b3=Button(root,text = \"Mult\",padx=20,pady=20)\n",
    "b4=Button(root,text = \"Div\",padx=20,pady=20)\n",
    "\n",
    "e1=Entry(root,width = 20)\n",
    "e1.insert(0,\"Enter the First Name\")\n",
    "e2=Entry(root,show=\"*\",width = 20)\n",
    "e2.insert(0,\"Enter the Last Name\")\n",
    "\n",
    "# placing the widget/object\n",
    "l1.grid(row=0,column=0)\n",
    "b1.grid(row=0,column=1)\n",
    "e1.grid(row=0,column=2)\n",
    "l2.grid(row=1,column=0)\n",
    "b2.grid(row=1,column=1)\n",
    "e2.grid(row=1,column=2)\n",
    "l3.grid(row=2,column=0)\n",
    "b3.grid(row=2,column=1)\n",
    "l4.grid(row=3,column=0)\n",
    "b4.grid(row=3,column=1)"
   ]
  },
  {
   "cell_type": "code",
   "execution_count": null,
   "metadata": {},
   "outputs": [],
   "source": [
    "root.mainloop()"
   ]
  },
  {
   "cell_type": "code",
   "execution_count": null,
   "metadata": {},
   "outputs": [],
   "source": [
    "from tkinter import *"
   ]
  },
  {
   "cell_type": "code",
   "execution_count": null,
   "metadata": {},
   "outputs": [],
   "source": [
    "# create basic 4 functions\n",
    "# take care of previous value\n",
    "# take care of BODMAS\n",
    "\n",
    "root = Tk()\n",
    "\n",
    "root.title(\"Basic Calculator\")\n",
    "def click(num):\n",
    "    current=e.get()\n",
    "    e.delete(0,END)\n",
    "    e.insert(0,str(current)+str(num))\n",
    "    #e.insert(0,num)\n",
    "\n",
    "def add():\n",
    "    global one\n",
    "    global opn\n",
    "    opn=\"+\"\n",
    "    # use s\n",
    "    #global s\n",
    "    # check if + is pressed for te first time with the help of another variable or the value of e\n",
    "    one=int(e.get())\n",
    "    e.delete(0,END)\n",
    "\n",
    "def sub():\n",
    "    pass\n",
    "def mult():\n",
    "    pass\n",
    "def div():\n",
    "    pass\n",
    "\n",
    "def equal():\n",
    "    global ans\n",
    "    two=int(e.get())\n",
    "    e.delete(0,END)\n",
    "    if opn==\"+\":\n",
    "        ans = one+two\n",
    "    elif opn==\"-\":\n",
    "        ans==ans-two\n",
    "    e.insert(0,ans)\n",
    "\n",
    "# user defined function specifying actions\n",
    "def capture(event):\n",
    "    print(event.keysym)\n",
    "\n",
    "e = Entry (root, width = 50,borderwidth=20)\n",
    "\n",
    "# bind has 2 parameters - event and action\n",
    "# we can capture mouse and keyboard events\n",
    "\n",
    "e.bind(\"<Key>\",capture)\n",
    "\n",
    "e.grid(row=0,column=0,columnspan=3,padx=20,pady=20)\n",
    "\n",
    "button1 = Button(root, text = \"1\",padx=30,pady=20,command = lambda:click(1))\n",
    "button2 = Button(root, text = \"2\",padx=30,pady=20,command = lambda:click(2))\n",
    "button3 = Button(root, text = \"3\",padx=30,pady=20,command = lambda:click(3))\n",
    "button4 = Button(root, text = \"4\",padx=30,pady=20,command = lambda:click(4))\n",
    "button5 = Button(root, text = \"5\",padx=30,pady=20,command = lambda:click(5))\n",
    "button6 = Button(root, text = \"6\",padx=30,pady=20,command = lambda:click(6))\n",
    "button7 = Button(root, text = \"7\",padx=30,pady=20,command = lambda:click(7))\n",
    "button8 = Button(root, text = \"8\",padx=30,pady=20,command = lambda:click(8))\n",
    "button9 = Button(root, text = \"9\",padx=30,pady=20,command = lambda:click(9))\n",
    "button0 = Button(root, text = \"0\",padx=30,pady=20,command = lambda:click(0))\n",
    "button_a=Button(root,text=\"+\",padx=30,pady=20,command=add)\n",
    "button_m=Button(root,text=\"*\",padx=30,pady=20,command=mult)\n",
    "button_e=Button(root,text=\"=\",padx=30,pady=20,command=equal)\n",
    "\n",
    "\n",
    "button1.grid(row = 1,column=0)\n",
    "button2.grid(row = 1,column=1)\n",
    "button3.grid(row = 1,column=2)\n",
    "button4.grid(row = 2,column=0)\n",
    "button5.grid(row = 2,column=1)\n",
    "button6.grid(row = 2,column=2)\n",
    "button7.grid(row = 3,column=0)\n",
    "button8.grid(row = 3,column=1)\n",
    "button9.grid(row = 3,column=2)\n",
    "button0.grid(row = 4,column=0)\n",
    "button_a.grid(row=4,column=1)\n",
    "button_e.grid(row=4,column=2)\n",
    "button_m.grid(row=5,column=0)"
   ]
  },
  {
   "cell_type": "code",
   "execution_count": null,
   "metadata": {},
   "outputs": [],
   "source": [
    "root.mainloop()"
   ]
  },
  {
   "cell_type": "code",
   "execution_count": null,
   "metadata": {},
   "outputs": [],
   "source": [
    "# Assignment for Sep 26th 2020 is to do for subtraction, multiplication, division"
   ]
  },
  {
   "cell_type": "code",
   "execution_count": null,
   "metadata": {},
   "outputs": [],
   "source": [
    "# Sep 27th 2020\n",
    "# Below is the sequence to get series of numbers and mathematical operations (without BODMAS)\n",
    "\"\"\"\"\n",
    "1. Take a global variable to capture the first number\n",
    "\n",
    "2. Whenever a mathematical operator symbol is pressed, \n",
    "it should store what operator (for eg variable called OPN) has to be performed.\n",
    "And should then give the option to enter the second number.\n",
    "For eg, if * is pressed, it should a) clear the number & b) store multiply in a variable\n",
    "\n",
    "3. User should be entering the next number\n",
    "\n",
    "4. If the user enters another mathematical operator, program should perform the operation (OPN) stored in previous variable\n",
    "and store the result in a global variable (ANS)\n",
    "\n",
    "5. This cycle should continue until user presses \"=\" sign and final result should be shown on text bar.\n",
    "All global variables and OPN variable should get reset to their original values after showing the final result.\n",
    "\"\"\"\""
   ]
  },
  {
   "cell_type": "code",
   "execution_count": null,
   "metadata": {},
   "outputs": [],
   "source": [
    "# Benefit of event handling is that we can control the user input\n",
    "# if we want user to input only integers, we can capture the input and perform our choice of actions :)"
   ]
  },
  {
   "cell_type": "code",
   "execution_count": null,
   "metadata": {},
   "outputs": [],
   "source": [
    "# taking notes from audio/video meeting\n",
    "# first the voice is getting converted into digital\n",
    "# NLP is applied on digital data\n",
    "# NLP stands for Natural Language Processing\n",
    "# NLP will capture words, convert into tokens, tokens will be combined into sentences and thend erived meaning\n",
    "# this require corpus (combination of words and dictionaries)"
   ]
  },
  {
   "cell_type": "code",
   "execution_count": null,
   "metadata": {},
   "outputs": [],
   "source": [
    "# Oct 03rd 2020\n",
    "# Continuing with tkinter"
   ]
  },
  {
   "cell_type": "code",
   "execution_count": null,
   "metadata": {},
   "outputs": [],
   "source": [
    "from tkinter import *\n",
    "\n",
    "root = Tk()\n",
    "root.title(\"Adding Frame\")\n",
    "\n",
    "def prnt():\n",
    "    l = Label(root,text=\"Thanks\")\n",
    "    l.pack()\n",
    "\n",
    "#######################################\n",
    "frame = LabelFrame(root,text = \"Place everything here !\",padx=10,pady=10)\n",
    "frame.pack()\n",
    "\n",
    "button1 = Button(frame, text = \"1\",padx=30,pady=20,command = prnt)\n",
    "button2 = Button(frame, text = \"2\",padx=30,pady=20,command = prnt)\n",
    "button1.pack()\n",
    "button2.pack()\n",
    "\n",
    "root.mainloop()"
   ]
  },
  {
   "cell_type": "code",
   "execution_count": null,
   "metadata": {},
   "outputs": [],
   "source": []
  },
  {
   "cell_type": "code",
   "execution_count": null,
   "metadata": {},
   "outputs": [],
   "source": [
    "# we can use combination of pack and grid with frame and its elements inside it\n",
    "# for eg, we can use pack with frame and use grid within frame\n",
    "# we can also use grid with frame\n",
    "\n",
    "root = Tk()\n",
    "\n",
    "root.title(\"Adding Frame\")\n",
    "\n",
    "def prnt():\n",
    "    print(\"Thanks !\")\n",
    "\n",
    "#######################################\n",
    "frame1 = LabelFrame(root,text = \"Place everything here !\",padx=10,pady=10)\n",
    "frame1.grid(row = 0,column=0)\n",
    "\n",
    "button1 = Button(frame1, text = \"1\",padx=30,pady=20,command = prnt)\n",
    "button2 = Button(frame1, text = \"2\",padx=30,pady=20,command = prnt)\n",
    "button1.grid(row = 0,column=0)\n",
    "button2.grid(row = 1,column=1)\n",
    "\n",
    "#######################################\n",
    "frame2 = LabelFrame(root,text = \"Place nothing here !\",padx=10,pady=10)\n",
    "frame2.grid(row = 2,column=0)\n",
    "\n",
    "button3 = Button(frame2, text = \"1\",padx=30,pady=20,command = prnt)\n",
    "button4 = Button(frame2, text = \"2\",padx=30,pady=20,command = prnt)\n",
    "button3.grid(row = 0,column=0)\n",
    "button4.grid(row = 1,column=1)\n",
    "\n",
    "root.mainloop()"
   ]
  },
  {
   "cell_type": "code",
   "execution_count": null,
   "metadata": {},
   "outputs": [],
   "source": []
  },
  {
   "cell_type": "code",
   "execution_count": null,
   "metadata": {},
   "outputs": [],
   "source": [
    "from tkinter import messagebox\n",
    "root = Tk()\n",
    "\n",
    "root.title(\"Adding Frame\")\n",
    "\n",
    "def prnt():\n",
    "    resp = messagebox.askokcancel(\"Application Status\",\"Do you like my program\")\n",
    "    if resp==0:\n",
    "        Label(frame1,text=resp).grid(row=1,column=0)\n",
    "    else:\n",
    "        print(\"Bye\")\n",
    "    # showinfo, showwarning, showerror, askquestion, askokcancel, askyesno\n",
    "\n",
    "#######################################\n",
    "frame1 = LabelFrame(root,text = \"Place everything here !\",padx=10,pady=10)\n",
    "frame1.grid(row = 0,column=0)\n",
    "\n",
    "button1 = Button(frame1, text = \"1\",padx=30,pady=20,command = prnt)\n",
    "button2 = Button(frame1, text = \"2\",padx=30,pady=20,command = prnt)\n",
    "button1.grid(row = 0,column=0)\n",
    "button2.grid(row = 1,column=1)\n",
    "\n",
    "root.mainloop()\n",
    "\n",
    "# similarly, you can capture the values of each button and take your actions accordingly"
   ]
  },
  {
   "cell_type": "code",
   "execution_count": null,
   "metadata": {},
   "outputs": [],
   "source": []
  },
  {
   "cell_type": "code",
   "execution_count": null,
   "metadata": {},
   "outputs": [],
   "source": [
    "from tkinter import messagebox\n",
    "root = Tk()\n",
    "\n",
    "root.title(\"Adding Frame\")\n",
    "\n",
    "def prnt():\n",
    "    resp=messagebox.askquestion(\"Application Status\",\"Thanks for visiting !\")\n",
    "    Label(frame1,text=resp).grid(row=1,column=0)\n",
    "\n",
    "#######################################\n",
    "# inside of frame\n",
    "frame1 = LabelFrame(root,text = \"Place everything here !\",padx=10,pady=10)\n",
    "frame1.grid(row = 0,column=0)\n",
    "\n",
    "button1 = Button(frame1, text = \"1\",padx=30,pady=20,command = prnt)\n",
    "button2 = Button(frame1, text = \"2\",padx=30,pady=20,command = prnt)\n",
    "button1.grid(row = 0,column=0)\n",
    "button2.grid(row = 1,column=1)\n",
    "\n",
    "#######################################\n",
    "# outside of frame\n",
    "def prntcheck():\n",
    "    print(check1.get())\n",
    "    print(check2.get())\n",
    "    print(check3.get())\n",
    "    print(check4.get())\n",
    "    print(\"** break **\")\n",
    "\n",
    "def takeaction():\n",
    "    pass\n",
    "\n",
    "# integer variable\n",
    "\n",
    "check1 = IntVar()\n",
    "check2 = IntVar()\n",
    "check3 = IntVar()\n",
    "check4 = IntVar()\n",
    "\n",
    "c1 = Checkbutton(root, text = \"School\",variable=check1)\n",
    "c2 = Checkbutton(root, text = \"Playground\",variable=check2)\n",
    "c3 = Checkbutton(root, text = \"Theatre\",variable=check3)\n",
    "c4 = Checkbutton(root, text = \"Music\",variable=check4)\n",
    "\n",
    "c1.grid(row=1,column=0)\n",
    "c2.grid(row=2,column=0)\n",
    "c3.grid(row=1,column=1)\n",
    "c4.grid(row=2,column=1)\n",
    "\n",
    "button3 = Button(root, text = \"My Button !\",padx=30,pady=20,command = prntcheck)\n",
    "button4 = Button(root, text = \"Just like that\",padx=30,pady=20,command = prntcheck)\n",
    "button3.grid(row = 3,column=0)\n",
    "button4.grid(row = 3,column=1)\n",
    "\n",
    "root.mainloop()"
   ]
  },
  {
   "cell_type": "code",
   "execution_count": null,
   "metadata": {},
   "outputs": [],
   "source": []
  },
  {
   "cell_type": "code",
   "execution_count": null,
   "metadata": {},
   "outputs": [],
   "source": [
    "from tkinter import messagebox\n",
    "root = Tk()\n",
    "\n",
    "root.title(\"Adding Frame\")\n",
    "\n",
    "def prnt():\n",
    "    resp=messagebox.askquestion(\"Application Status\",\"Thanks for visiting !\")\n",
    "    Label(frame1,text=resp).grid(row=1,column=0)\n",
    "    \n",
    "    # showinfo, showwarning, showerror, askquestion, askokcancel, askyesno\n",
    "\n",
    "#######################################\n",
    "# inside of frame\n",
    "frame1 = LabelFrame(root,text = \"Place everything here !\",padx=10,pady=10)\n",
    "frame1.grid(row = 0,column=0)\n",
    "\n",
    "button1 = Button(frame1, text = \"1\",padx=30,pady=20,command = prnt)\n",
    "button2 = Button(frame1, text = \"2\",padx=30,pady=20,command = prnt)\n",
    "button1.grid(row = 0,column=0)\n",
    "button2.grid(row = 1,column=1)\n",
    "\n",
    "#######################################\n",
    "# outside of frame\n",
    "def prntcheck():\n",
    "    print(check1.get())\n",
    "    print(check2.get())\n",
    "    print(check3.get())\n",
    "    print(check4.get())\n",
    "    print(\"** break **\")\n",
    "    if check1.get()==1:\n",
    "        button4 = Button(root, text = \"2\",padx=30,pady=20)\n",
    "\n",
    "check1 = IntVar()\n",
    "check2 = IntVar()\n",
    "check3 = IntVar()\n",
    "check4 = IntVar()\n",
    "\n",
    "c1 = Checkbutton(root, text = \"Checkbox1\",variable=check1)\n",
    "c2 = Checkbutton(root, text = \"Checkbox2\",variable=check2)\n",
    "c3 = Checkbutton(root, text = \"Checkbox3\",variable=check3)\n",
    "c4 = Checkbutton(root, text = \"Checkbox4\",variable=check4)\n",
    "\n",
    "c1.grid(row=1,column=0)\n",
    "c2.grid(row=2,column=0)\n",
    "c3.grid(row=1,column=1)\n",
    "c4.grid(row=2,column=1)\n",
    "\n",
    "button3 = Button(root, text = \"1\",padx=30,pady=20,command = prntcheck)\n",
    "button4 = Button(root, text = \"2\",padx=30,pady=20)\n",
    "button3.grid(row = 3,column=0)\n",
    "button4.grid(row = 3,column=1)\n",
    "\n",
    "def radioclick(val):\n",
    "    print(val)\n",
    "    print(\"Hello\")\n",
    "\n",
    "r1 = IntVar()\n",
    "r2 = IntVar()\n",
    "r3 = IntVar()\n",
    "#r.set(\"Amazon\")\n",
    "\n",
    "rb1=Radiobutton(root, text = \"Amazon\", variable = r1, value = 1, command = lambda: radioclick(r1.get()))\n",
    "rb2=Radiobutton(root, text = \"Facebook\", variable = r1, value = 2 , command = lambda:radioclick(r1.get()))\n",
    "rb3=Radiobutton(root, text = \"Microsoft\", variable=r3, value=3, command=lambda:radioclick(r3.get()))\n",
    "\n",
    "rb1.grid(row=4,column=0)\n",
    "rb2.grid(row=5,column=0)\n",
    "rb3.grid(row=6,column=0)\n",
    "\n",
    "root.mainloop()\n",
    "# radiobuttons starts with 1 and not 0\n",
    "# we can manage the groups of radiobuttons with the help of variables (r in this case)\n",
    "# if we choose r as variable in the Radiobuttons, it will group/combine them in the same group of radiobuttons\n",
    "# you can use StringVar() instead of IntVar() if you want to work with strings"
   ]
  },
  {
   "cell_type": "code",
   "execution_count": null,
   "metadata": {},
   "outputs": [],
   "source": [
    "# how to print value of checkbox without button\n",
    "# disabling and enabling of buttons"
   ]
  },
  {
   "cell_type": "code",
   "execution_count": null,
   "metadata": {},
   "outputs": [],
   "source": [
    "# Assignment is to play with Checkboxes and radiobuttons"
   ]
  },
  {
   "cell_type": "code",
   "execution_count": null,
   "metadata": {},
   "outputs": [],
   "source": [
    "# Oct 10th 2020\n",
    "# drop downs, sliders, ImageViewer"
   ]
  },
  {
   "cell_type": "code",
   "execution_count": null,
   "metadata": {},
   "outputs": [],
   "source": [
    "from tkinter import *"
   ]
  },
  {
   "cell_type": "code",
   "execution_count": null,
   "metadata": {},
   "outputs": [],
   "source": [
    "root=Tk()\n",
    "\n",
    "var = StringVar()\n",
    "\n",
    "option = OptionMenu(root, var, \"Mon\", \"Tue\" , \"Wed\" , \"Thu\" , \"Fri\" , \"Sat\")\n",
    "option.pack()\n",
    "root.mainloop()"
   ]
  },
  {
   "cell_type": "code",
   "execution_count": null,
   "metadata": {},
   "outputs": [],
   "source": [
    "root=Tk()\n",
    "var1 = StringVar()\n",
    "option1 = OptionMenu(root,var1,\"Mon\", \"Tue\" , \"Wed\" , \"Thu\" , \"Fri\" , \"Sat\")\n",
    "option1.grid(row = 0 , column=0)\n",
    "\n",
    "var2 = IntVar()\n",
    "option2 = OptionMenu(root,var2,10, 20 , 30 , 40 ,50)\n",
    "option2.grid(row = 0 , column=1)\n",
    "root.mainloop()\n"
   ]
  },
  {
   "cell_type": "code",
   "execution_count": null,
   "metadata": {},
   "outputs": [],
   "source": [
    "# set values\n",
    "root=Tk()\n",
    "var1 = StringVar()\n",
    "option1 = OptionMenu(root,var1,\"Mon\", \"Tue\" , \"Wed\" , \"Thu\" , \"Fri\" , \"Sat\")\n",
    "var1.set(\"Mon\")\n",
    "option1.grid(row = 0 , column=0)\n",
    "\n",
    "var2 = IntVar()\n",
    "option2 = OptionMenu(root,var2,10, 20 , 30 , 40 ,50)\n",
    "option2.grid(row = 0 , column=1)\n",
    "var2.set(10)\n",
    "root.mainloop()"
   ]
  },
  {
   "cell_type": "code",
   "execution_count": null,
   "metadata": {},
   "outputs": [],
   "source": [
    "root=Tk()\n",
    "def selectdrop():\n",
    "    lab = Label(root, text = var1.get())\n",
    "    lab.grid(row = 2,column=0)\n",
    "    lab = Label(root, text = var2.get())\n",
    "    lab.grid(row = 2,column=1)\n",
    "\n",
    "var1 = StringVar()\n",
    "option1 = OptionMenu(root,var1,\"Mon\", \"Tue\" , \"Wed\" , \"Thu\" , \"Fri\" , \"Sat\")\n",
    "option1.grid(row = 0 , column=0)\n",
    "\n",
    "var2 = IntVar()\n",
    "option2 = OptionMenu(root,var2,10, 20 , 30 , 40 ,50)\n",
    "option2.grid(row = 0 , column=1)\n",
    "\n",
    "show = Button(root,text = \"What is selected ?\", command = selectdrop)\n",
    "show.grid(row = 1,column = 1)\n",
    "root.mainloop()"
   ]
  },
  {
   "cell_type": "code",
   "execution_count": null,
   "metadata": {},
   "outputs": [],
   "source": [
    "root=Tk()\n",
    "def selectdrop():\n",
    "    lab = Label(root, text = var1.get())\n",
    "    lab.pack()\n",
    "    lab = Label(root, text = var2.get())\n",
    "    lab.pack()\n",
    "\n",
    "var1 = StringVar()\n",
    "option1 = OptionMenu(root,var1,\"Mon\", \"Tue\" , \"Wed\" , \"Thu\" , \"Fri\" , \"Sat\")\n",
    "option1.grid(row = 0 , column=0)\n",
    "\n",
    "var2 = IntVar()\n",
    "option2 = OptionMenu(root,var2,10, 20 , 30 , 40 ,50)\n",
    "option2.grid(row = 0 , column=1)\n",
    "\n",
    "show = Button(root,text = \"What is selected ?\", command = selectdrop)\n",
    "show.grid(row = 1,column = 1)\n",
    "root.mainloop()"
   ]
  },
  {
   "cell_type": "code",
   "execution_count": null,
   "metadata": {},
   "outputs": [],
   "source": [
    "root  =Tk()\n",
    "def showscale():\n",
    "    l = Label(root,text = v.get())\n",
    "    l.grid(row = 3,column = 0)\n",
    "    l = Label(root,text = h.get())\n",
    "    l.grid(row = 3,column = 1)\n",
    "\n",
    "# from_ and to will take integer or float values\n",
    "\n",
    "v = Scale(root, from_=0, to = 100)\n",
    "h = Scale(root, from_=10, to = 20, orient = HORIZONTAL)\n",
    "\n",
    "h.grid(row = 0,column = 0)\n",
    "v.grid(row = 1,column = 0)\n",
    "\n",
    "b = Button(root,text = \"Show height and weight\",command = showscale)\n",
    "b.grid(row = 2, column = 0)\n",
    "\n",
    "root.mainloop()\n",
    "# we may not be able to assign text or create a label associated with it"
   ]
  },
  {
   "cell_type": "code",
   "execution_count": null,
   "metadata": {},
   "outputs": [],
   "source": []
  },
  {
   "cell_type": "code",
   "execution_count": null,
   "metadata": {},
   "outputs": [],
   "source": [
    "from PIL import ImageTk, Image"
   ]
  },
  {
   "cell_type": "code",
   "execution_count": null,
   "metadata": {},
   "outputs": [],
   "source": [
    "root = Tk()\n",
    "\n",
    "root.title(\" !! Image Viewer !! \")\n",
    "\n",
    "global ctr\n",
    "ctr=0\n",
    "def forward():\n",
    "    global img_label\n",
    "    global ctr\n",
    "    ctr = ctr+1\n",
    "    # to remove the existing image which is displayed\n",
    "    img_label.grid_forget()\n",
    "    \n",
    "    if ctr<12:\n",
    "        img_label=Label(image=img_list[ctr])\n",
    "        img_label.grid(row=0,column=0,columnspan=3)\n",
    "    else:\n",
    "        img_label=Label(image=img_list[11])\n",
    "        img_label.grid(row=0,column=0,columnspan=3)\n",
    "        print(\"You have reached the last image\")\n",
    "        ctr=11\n",
    "    \n",
    "def backward():\n",
    "    global img_label   \n",
    "    global ctr\n",
    "    ctr = ctr-1\n",
    "    img_label.grid_forget()\n",
    "    \n",
    "    if ctr>=0:\n",
    "        img_label=Label(image=img_list[ctr])\n",
    "        img_label.grid(row=0,column=0,columnspan=3)\n",
    "    else:\n",
    "        img_label=Label(image=img_list[0])\n",
    "        img_label.grid(row=0,column=0,columnspan=3)\n",
    "        print(\"You have reached the first image\")\n",
    "        ctr=0\n",
    "\n",
    "img1 = ImageTk.PhotoImage(Image.open(r\"D:\\ClaimsVision\\training\\damage\\2.jpg\"))\n",
    "img2 = ImageTk.PhotoImage(Image.open(r\"D:\\ClaimsVision\\training\\damage\\4.jpg\"))\n",
    "img3 = ImageTk.PhotoImage(Image.open(r\"D:\\ClaimsVision\\training\\damage\\5.jpg\"))\n",
    "img4 = ImageTk.PhotoImage(Image.open(r\"D:\\ClaimsVision\\training\\damage\\6.jpg\"))\n",
    "img5 = ImageTk.PhotoImage(Image.open(r\"D:\\ClaimsVision\\training\\damage\\7.jpg\"))\n",
    "img6 = ImageTk.PhotoImage(Image.open(r\"D:\\ClaimsVision\\training\\damage\\8.jpg\"))\n",
    "img7 = ImageTk.PhotoImage(Image.open(r\"D:\\ClaimsVision\\training\\damage\\9.jpg\"))\n",
    "img8 = ImageTk.PhotoImage(Image.open(r\"D:\\ClaimsVision\\training\\damage\\11.jpg\"))\n",
    "img9 = ImageTk.PhotoImage(Image.open(r\"D:\\ClaimsVision\\training\\damage\\13.jpg\"))\n",
    "img10 = ImageTk.PhotoImage(Image.open(r\"D:\\ClaimsVision\\training\\damage\\14.jpg\"))\n",
    "img11 = ImageTk.PhotoImage(Image.open(r\"D:\\ClaimsVision\\training\\damage\\15.jpg\"))\n",
    "img12 = ImageTk.PhotoImage(Image.open(r\"D:\\ClaimsVision\\training\\damage\\16.jpg\"))\n",
    "\n",
    "img_list=[img1,img2,img3,img4,img5,img6,img7,img8,img9,img10,img11,img12]\n",
    "\n",
    "img_label=Label(image=img1)\n",
    "img_label.grid(row=0,column=0,columnspan=3)\n",
    "\n",
    "prev = Button(root,text = \"<<\",command = lambda:backward())\n",
    "nextt=Button(root,text = \">>\",command = lambda:forward())\n",
    "\n",
    "prev.grid(row = 1,column = 0)\n",
    "\n",
    "nextt.grid(row = 1,column = 2)\n",
    "root.mainloop()"
   ]
  },
  {
   "cell_type": "code",
   "execution_count": null,
   "metadata": {},
   "outputs": [],
   "source": [
    "# Assignment is to change the text of Button when pressed\n",
    "# for eg Button should show \"Open\" initially and then when pressed, it show \"Close\"\n",
    "# and then when pressed again, it should show \"Open\"\n",
    "# like a toggle button"
   ]
  },
  {
   "cell_type": "code",
   "execution_count": null,
   "metadata": {},
   "outputs": [],
   "source": [
    "# Assignment is to show string value whenever a slider is changed\n",
    "# showvalue = 0 while defining the Scale\n",
    "# the integer values should not be printed rather string values should be printed basis your own criterion\n",
    "# choosse different criterion for both vertical and horizontal sliders"
   ]
  },
  {
   "cell_type": "code",
   "execution_count": null,
   "metadata": {},
   "outputs": [],
   "source": [
    "# search the folder\n",
    "# we can create our own windows - like a dialogbox\n",
    "# part of Operating System, Assembly Language\n",
    "# all languages - C / C++ - Assembly Language - Binary (through OS)"
   ]
  },
  {
   "cell_type": "code",
   "execution_count": null,
   "metadata": {},
   "outputs": [],
   "source": [
    "# Oct 11th 2020\n",
    "# Q&A\n",
    "# root.quit() is to quite the program"
   ]
  },
  {
   "cell_type": "code",
   "execution_count": null,
   "metadata": {},
   "outputs": [],
   "source": [
    "from tkinter import Tk\n",
    "from tkinter import Button, Label, LabelFrame\n",
    "from tkinter import messagebox\n",
    "root = Tk()\n",
    "\n",
    "root.title(\"Adding Frame\")\n",
    "\n",
    "def prnt():\n",
    "    resp = messagebox.askokcancel(\"Application Status\",\"Do you like my program\")\n",
    "    if resp==0:\n",
    "        Label(frame1,text=resp).grid(row=1,column=0)\n",
    "    else:\n",
    "        print(\"Bye\")\n",
    "        root.quit()\n",
    "    # showinfo, showwarning, showerror, askquestion, askokcancel, askyesno\n",
    "\n",
    "#######################################\n",
    "frame1 = LabelFrame(root,text = \"Place everything here !\",padx=10,pady=10)\n",
    "frame1.grid(row = 0,column=0)\n",
    "\n",
    "button1 = Button(frame1, text = \"1\",padx=30,pady=20,command = prnt)\n",
    "button2 = Button(frame1, text = \"2\",padx=30,pady=20,command = prnt)\n",
    "button1.grid(row = 0,column=0)\n",
    "button2.grid(row = 1,column=1)\n",
    "\n",
    "root.mainloop()"
   ]
  },
  {
   "cell_type": "code",
   "execution_count": null,
   "metadata": {},
   "outputs": [],
   "source": [
    "# Oct 17th 2020\n",
    "# New Window, Dialog Box, "
   ]
  },
  {
   "cell_type": "code",
   "execution_count": null,
   "metadata": {},
   "outputs": [],
   "source": [
    "root = Tk()\n",
    "root.title(\"Thanks for looking into it !!\")\n",
    "\n",
    "top = Toplevel()\n",
    "top.title(\"Ohh !!,  New Window\")\n",
    "\n",
    "root.mainloop()"
   ]
  },
  {
   "cell_type": "code",
   "execution_count": null,
   "metadata": {},
   "outputs": [],
   "source": [
    "from tkinter import *\n",
    "from PIL import ImageTk, Image \n",
    "root = Tk()\n",
    "root.title(\"Thanks for looking into it !!\")\n",
    "\n",
    "top = Toplevel()\n",
    "top.title(\"Image !!\")\n",
    "img = ImageTk.PhotoImage(Image.open(r\"D:\\ClaimsVision\\training\\damage\\2.jpg\"))\n",
    "label = Label(top, image = img)\n",
    "label.pack()\n",
    "\n",
    "root.mainloop()"
   ]
  },
  {
   "cell_type": "code",
   "execution_count": null,
   "metadata": {},
   "outputs": [],
   "source": [
    "root = Tk()\n",
    "root.title(\"Thanks for looking into it !!\")\n",
    "def anotherwindow():\n",
    "    global img1\n",
    "    mid = Toplevel()\n",
    "    mid.title(\"Image 2\")\n",
    "    img1 = ImageTk.PhotoImage(Image.open(r\"C:\\Users\\pc\\anotherimage.jpg\"))\n",
    "    label = Label(mid, image = img1)\n",
    "    label.pack()\n",
    "    bt1 = Button(mid, text = \"Close Window\", command = mid.destory).pack()\n",
    "    \n",
    "def openwindow():\n",
    "    global img\n",
    "    top = Toplevel() # creates a new window\n",
    "    top.title(\"Image !!\")\n",
    "    img = ImageTk.PhotoImage(Image.open(r\"C:\\Users\\pc\\drawfile.png\")) # created a image var\n",
    "    label = Label(top, image = img) # placing the image in the new window\n",
    "    label.pack()\n",
    "    #another=Button(top,text = \"Another Image\", command = anotherwindow).pack()\n",
    "    bt = Button(top, text = \"Close Window\", command = top.destory).pack()\n",
    "\n",
    "btn = Button(root, text = \"Press to open the image\", command = openwindow)\n",
    "btn.pack()\n",
    "\n",
    "root.mainloop()\n",
    "# root.quit hangs my system\n",
    "# top.destroy should work"
   ]
  },
  {
   "cell_type": "code",
   "execution_count": null,
   "metadata": {},
   "outputs": [],
   "source": [
    "# Assignment # 1 is to create a new messagebox of your choice with the help of command Toplevel()"
   ]
  },
  {
   "cell_type": "code",
   "execution_count": null,
   "metadata": {},
   "outputs": [],
   "source": [
    "# open filedialogbox\n",
    "from tkinter import filedialog\n",
    "root=Tk()\n",
    "root.file=filedialog.askopenfilename(initialdir=\"C:/Users/pc\",title = \"Select a File\", filetypes=((\"JPG Files\",\"*.jpg\"),(\"Doc Files\",\"*.docx\"),(\"Excel Files\",\"*.xlsx\"),(\"Pickle Files\",\"*.pkl\"),(\"All Files\",\"*.*\")))\n",
    "root.mainloop()"
   ]
  },
  {
   "cell_type": "code",
   "execution_count": null,
   "metadata": {},
   "outputs": [],
   "source": [
    "root=Tk()\n",
    "root.file=filedialog.askopenfilename(initialdir=\"C:/Users/pc\",title = \"Select a File\", filetypes=((\"JPG Files\",\"*.jpg\"),(\"Doc Files\",\"*.docx\"),(\"Excel Files\",\"*.xlsx\"),(\"Pickle Files\",\"*.pkl\"),(\"All Files\",\"*.*\")))\n",
    "img = ImageTk.PhotoImage(Image.open(root.file))\n",
    "print(root.file)\n",
    "img_lbl=Label(root,image = img).pack()\n",
    "root.mainloop()"
   ]
  },
  {
   "cell_type": "code",
   "execution_count": null,
   "metadata": {},
   "outputs": [],
   "source": [
    "from tkinter import *\n",
    "from tkinter import filedialog\n",
    "from PIL import ImageTk, Image"
   ]
  },
  {
   "cell_type": "code",
   "execution_count": null,
   "metadata": {},
   "outputs": [],
   "source": [
    "root=Tk()\n",
    "def fileopen():\n",
    "    global img\n",
    "    root.file=filedialog.askopenfilename(initialdir=\"D:/ClaimsVision\",title = \"Select a File\", filetypes=((\"JPG Files\",\"*.jpg\"),(\"Doc Files\",\"*.docx\"),(\"Excel Files\",\"*.xlsx\"),(\"Pickle Files\",\"*.pkl\"),(\"All Files\",\"*.*\")))\n",
    "    img = ImageTk.PhotoImage(Image.open(root.file))\n",
    "    img_lbl=Label(root,image = img).pack()\n",
    "btn = Button(root,text = \"Click to Select\",command = fileopen)\n",
    "btn.pack()\n",
    "root.mainloop()"
   ]
  },
  {
   "cell_type": "code",
   "execution_count": null,
   "metadata": {},
   "outputs": [],
   "source": [
    "# Assignment is to try to select the image with the help of grid"
   ]
  },
  {
   "cell_type": "code",
   "execution_count": null,
   "metadata": {},
   "outputs": [],
   "source": [
    "# Menu options\n",
    "from tkinter import *\n",
    "root = Tk()\n",
    "def filecommand(p):\n",
    "    print(\"File > \", p)\n",
    "\n",
    "def optcommand(p):\n",
    "    print(\"Options > \", p)\n",
    "#def showcolor():\n",
    "#    color_menu=Menu(app_menu)\n",
    "#    app_menu.add_cascade(label = \"Color\", menu=color_menu)\n",
    "# Overall menu being created\n",
    "app_menu=Menu(root)\n",
    "# Overall menu being added to the root container\n",
    "# this has created a base structure of menu items\n",
    "root.config(menu=app_menu)\n",
    "\n",
    "# file menu created - This means the first option in the overall menu\n",
    "file_menu=Menu(app_menu)\n",
    "# add file_menu in the overall menu with add_cascade - 02nd level created\n",
    "app_menu.add_cascade(label = \"File\", menu=file_menu)\n",
    "\n",
    "# now we come to 03rd level\n",
    "# further options added to \"File\" menu option\n",
    "file_menu.add_command(label=\"New\",command=lambda:filecommand(\"New\"))\n",
    "file_menu.add_separator()\n",
    "file_menu.add_command(label=\"Next\",command=lambda:filecommand(\"Next\"))\n",
    "\n",
    "open_menu=Menu(file_menu)\n",
    "file_menu.add_cascade(label=\"open\", menu=open_menu)\n",
    "\n",
    "# Options menu created - This means the second option in the overall menu\n",
    "opt_menu=Menu(app_menu)\n",
    "app_menu.add_cascade(label = \"Options\", menu=opt_menu)\n",
    "# further options added to \"Options\" menu option\n",
    "opt_menu.add_command(label=\"Color\",command=lambda:optcommand(\"Color\"))\n",
    "opt_menu.add_separator()\n",
    "opt_menu.add_command(label=\"Size\",command=lambda:optcommand(\"Size\"))\n",
    "\n",
    "root.mainloop()"
   ]
  },
  {
   "cell_type": "code",
   "execution_count": null,
   "metadata": {},
   "outputs": [],
   "source": [
    "# Assignment\n",
    "# try to add another menu with the help of add_cascade\n",
    "# open_menu=Menu(file_menu)\n",
    "# file_menu.add_cascade(label=\"open\", menu=open_menu)"
   ]
  },
  {
   "cell_type": "code",
   "execution_count": null,
   "metadata": {},
   "outputs": [],
   "source": [
    "# working with color picker\n",
    "from tkinter import colorchooser\n",
    "root=Tk()\n",
    "def choose():\n",
    "    color = colorchooser.askcolor()[0]\n",
    "    print(type(color))\n",
    "    colorlabel=Label(root,text=color).pack()\n",
    "btn = Button(root,text=\"Choose Color\",command = choose).pack()\n",
    "root.mainloop()"
   ]
  },
  {
   "cell_type": "code",
   "execution_count": null,
   "metadata": {},
   "outputs": [],
   "source": [
    "from tkinter import colorchooser\n",
    "root=Tk()\n",
    "def choose():\n",
    "    color = colorchooser.askcolor()[1]\n",
    "    #colorlabel1=Label(root,text=color).pack()\n",
    "    colorlabel2=Label(root,text=\"Thanks for selecting me !\", bg=color).pack()\n",
    "btn = Button(root,text=\"Choose Color\",command = choose).pack()\n",
    "root.mainloop()"
   ]
  },
  {
   "cell_type": "code",
   "execution_count": null,
   "metadata": {},
   "outputs": [],
   "source": [
    "# Start thinking about the project\n",
    "# This is to automate anything like school management, library management, hospital management, anything\n",
    "# think about what it will be\n",
    "# design your interface"
   ]
  },
  {
   "cell_type": "code",
   "execution_count": null,
   "metadata": {},
   "outputs": [],
   "source": [
    "# Oct 22nd\n",
    "# find files/folders in the directory\n",
    "\n",
    "import os\n",
    "path = r\"C:\\Users\\pc\"\n",
    "\n",
    "filename = os.listdir(path)\n",
    "print(type(filename))\n",
    "for f in filename:\n",
    "    print(f)\n",
    "\n",
    "#print(filename)"
   ]
  },
  {
   "cell_type": "code",
   "execution_count": null,
   "metadata": {},
   "outputs": [],
   "source": [
    "# Assignment is to use below and print the filenames on a label in the window container\n",
    "# use if not os.path.isfile(f) to check if it is file or folder and take necessary action\n",
    "# if f.endswith(\".txt\"), take necessary action"
   ]
  },
  {
   "cell_type": "code",
   "execution_count": null,
   "metadata": {},
   "outputs": [],
   "source": [
    "# Oct 24th 2020\n",
    "\n",
    "# how to open any program from python button (tkinter)\n",
    "from tkinter import filedialog\n",
    "\n",
    "root=Tk()\n",
    "def openprogram():\n",
    "    prog = filedialog.askopenfilename()\n",
    "    os.system(prog)\n",
    "\n",
    "bt = Button(root, text = \"Click\", command = openprogram).pack()\n",
    "root.mainloop()\n",
    "\n",
    "# this program will not do anything and we will have to change how we pass the variable"
   ]
  },
  {
   "cell_type": "code",
   "execution_count": null,
   "metadata": {},
   "outputs": [],
   "source": [
    "# os.system will run any file provided inside it\n",
    "import os\n",
    "from tkinter import *\n",
    "from tkinter import filedialog\n",
    "root=Tk()\n",
    "def openprogram():\n",
    "    prog = filedialog.askopenfilename()\n",
    "    os.system('\"%s\"' % prog)\n",
    "\n",
    "bt = Button(root, text = \"Click\", command = openprogram).pack()\n",
    "root.mainloop()"
   ]
  },
  {
   "cell_type": "code",
   "execution_count": null,
   "metadata": {},
   "outputs": [],
   "source": [
    "# this is hard cpoding where we specify the applicatin to be opened\n",
    "root=Tk()\n",
    "def openprogram():\n",
    "    os.system('C:/users/pc/desktop/new.txt')\n",
    "def openexcel():\n",
    "    os.system('C:/users/pc/desktop/newexcel.xlsx')\n",
    "    \n",
    "bt1 = Button(root, text = \"Open Notepad\", command = openprogram).pack()\n",
    "bt2 = Button(root, text = \"Open Excel\", command = openexcel).pack()\n",
    "root.mainloop()"
   ]
  },
  {
   "cell_type": "code",
   "execution_count": null,
   "metadata": {},
   "outputs": [],
   "source": [
    "# work with right click"
   ]
  },
  {
   "cell_type": "code",
   "execution_count": null,
   "metadata": {},
   "outputs": [],
   "source": [
    "from tkinter import *\n",
    "root=Tk()\n",
    "\n",
    "def filecommand(p):\n",
    "    print(\"File > \", p)\n",
    "\n",
    "def optcommand(p):\n",
    "    print(\"Options > \", p)\n",
    "    \n",
    "app_menu=Menu(root,tearoff=False)\n",
    "# Overall menu being added to the root container\n",
    "# this has created a base structure of menu items\n",
    "root.config(menu=app_menu)\n",
    "\n",
    "# file menu created - This means the first option in the overall menu\n",
    "file_menu=Menu(app_menu,tearoff=False)\n",
    "# add file_menu in the overall menu with add_cascade - 02nd level created\n",
    "app_menu.add_cascade(label = \"File\", menu=file_menu)\n",
    "\n",
    "# now we come to 03rd level\n",
    "# further options added to \"File\" menu option\n",
    "file_menu.add_command(label=\"New\",command=lambda:filecommand(\"New\"))\n",
    "file_menu.add_separator()\n",
    "file_menu.add_command(label=\"Next\",command=lambda:filecommand(\"Next\"))\n",
    "\n",
    "open_menu=Menu(file_menu,tearoff=False)\n",
    "file_menu.add_cascade(label=\"open\", menu=open_menu)\n",
    "\n",
    "# Options menu created - This means the second option in the overall menu\n",
    "opt_menu=Menu(app_menu,tearoff=False)\n",
    "app_menu.add_cascade(label = \"Options\", menu=opt_menu)\n",
    "# further options added to \"Options\" menu option\n",
    "opt_menu.add_command(label=\"Color\",command=lambda:optcommand(\"Color\"))\n",
    "opt_menu.add_separator()\n",
    "opt_menu.add_command(label=\"Size\",command=lambda:optcommand(\"Size\"))\n",
    "\n",
    "\n",
    "# e is the event which is passed - Button-3 in this case which refers to right click\n",
    "def rightpopup(e):\n",
    "    file_menu.tk_popup(e.x_root,e.y_root)\n",
    "    #print(e.x_root)\n",
    "    #print(e.y_root)\n",
    "    # we can specify our custom integer values for coordinates\n",
    "# e.x_root and e.y_root takes X and Y coordinates of the root container and pops the menu there\n",
    "\n",
    "\n",
    "root.bind(\"<Button-3>\",rightpopup)\n",
    "# when bind executes, it passes the event to the function called inside it\n",
    "# event can be keyboard or mouse event - pressing of a key or movement or click of mouse\n",
    "\n",
    "root.mainloop()"
   ]
  },
  {
   "cell_type": "code",
   "execution_count": null,
   "metadata": {},
   "outputs": [],
   "source": [
    "# Treeview is a sort of row which has child rows\n",
    "# import ttk separately\n",
    "from tkinter import ttk\n",
    "root=Tk()\n",
    "\n",
    "# Treeview is a functin which creates a Tree\n",
    "tree=ttk.Treeview(root)\n",
    "\n",
    "# Step # 1\n",
    "# defining our columns which will have data\n",
    "# we will not define cols which will not have data for eg our main col\n",
    "# main col will contain informatin about Parent\n",
    "tree[\"columns\"] = (\"nm\",\"id\",\"add\")\n",
    "\n",
    "# step # 2\n",
    "# formatting our columns\n",
    "# #0 col will only have information about Parent\n",
    "## Below is for main col\n",
    "# width is how broad it will appear when it will run\n",
    "# minwidth is how small can it be when shrinked by a user\n",
    "\n",
    "tree.column(\"#0\",width=80,minwidth=10)\n",
    "# then comes our data cols\n",
    "# anchor is the text alignment; W refers to West or left aligned and E refers to right aligned and CENTER refers to middle aligned\n",
    "tree.column(\"nm\",anchor=E,width=120)\n",
    "tree.column(\"id\",anchor=CENTER,width=80)\n",
    "tree.column(\"add\",anchor=W,width=100)\n",
    "\n",
    "# Step # 3\n",
    "# showing the headings to user\n",
    "tree.heading(\"#0\",text=\"Parent Col\",anchor=W)\n",
    "tree.heading(\"nm\",text=\"Customer Name\",anchor=W)\n",
    "tree.heading(\"id\",text=\"Reference ID\",anchor=CENTER)\n",
    "tree.heading(\"add\",text=\"Customer Address\",anchor=W)\n",
    "\n",
    "# step # 4\n",
    "#enterring data in the parent rows\n",
    "#parent=\"\" remain as it is\n",
    "# index defins the id of record\n",
    "# text defines the value of main col\n",
    "# values require the actual data values\n",
    "\n",
    "tree.insert(parent=\"\",index=\"end\",iid=0,text=\"NCR\",values=(\"Ranjan\",999,\"Janak Puri\"))\n",
    "tree.insert(parent=\"\",index=\"end\",iid=1,text=\"Bangalore\",values=(\"Sachin\",989,\"Gurgaon\"))\n",
    "tree.insert(parent=\"\",index=\"end\",iid=2,text=\"Noida\",values=(\"Rahul\",901,\"Noida\"))\n",
    "tree.insert(parent=\"\",index=\"end\",iid=3,text=\"Canada\",values=(\"Harry\",123,\"Brampton\"))\n",
    "tree.insert(parent=\"\",index=\"end\",iid=4,text=\"Canada\",values=(\"Jim\",567,\"Ontario\"))\n",
    "tree.insert(parent=\"\",index=\"end\",iid=5,text=\"NewZealand\",values=(\"Brian\",444,\"Auckland\"))\n",
    "\n",
    "# step # 5\n",
    "# moving the data as child rows with the help of move command\n",
    "tree.insert(parent=\"\",index=\"end\",iid=6,text=\"SouthIndia\",values=(\"Brian\",444,\"Bangalore\"))\n",
    "tree.insert(parent=\"\",index=\"end\",iid=7,text=\"NorthIndia\",values=(\"Ted\",555,\"Bangalore\"))\n",
    "\n",
    "# trick is tree.move which gets 3 parameters - move what, where to move (start,end)\n",
    "tree.move('6',\"2\",'2')\n",
    "tree.move('7','5','5')\n",
    "tree.pack()\n",
    "root.mainloop()"
   ]
  },
  {
   "cell_type": "code",
   "execution_count": null,
   "metadata": {},
   "outputs": [],
   "source": [
    "# Assignment is to create 3 levels of Tree\n",
    "# This means Country > India > Delhi > Placenames (like Janak Puri, South extn, Model Town)"
   ]
  },
  {
   "cell_type": "code",
   "execution_count": null,
   "metadata": {},
   "outputs": [],
   "source": [
    "# scroll bars\n",
    "\n",
    "from tkinter import ttk\n",
    "root=Tk()\n",
    "\n",
    "# Create a Frame\n",
    "frame = Frame(root)\n",
    "frame.pack(fill=BOTH,expand=1)\n",
    "\n",
    "# Create a Canvas\n",
    "canvas=Canvas(frame)\n",
    "canvas.pack(side=LEFT,fill=BOTH,expand=1)\n",
    "\n",
    "# Add a scrollbar\n",
    "# the trick is that we are attaching to the frame but canvas is moving\n",
    "scroll = Scrollbar(frame,orient=VERTICAL,command=canvas.yview)\n",
    "scroll.pack(side=RIGHT,fill=Y)\n",
    "\n",
    "# Configure the canvas\n",
    "# attaching or binding canvas to scrollbar\n",
    "canvas.configure(yscrollcommand=scroll.set)\n",
    "canvas.bind(\"<Configure>\",lambda e:canvas.configure(scrollregion=canvas.bbox(\"all\")))\n",
    "# attaching the scrollbar also means that whenever the scrollbar is moved, it should know what region or areas to be moved\n",
    "# bbox means bounding box\n",
    "\n",
    "# Create another frame inside the canvas\n",
    "sframe=Frame(canvas)\n",
    "\n",
    "# add that new frame to a window in the canvas\n",
    "canvas.create_window((0,0),window=sframe,anchor=NW)\n",
    "\n",
    "for i in range(100):\n",
    "    Button(sframe,text=f'Button {i}').pack()\n",
    "\n",
    "root.mainloop()\n",
    "# root > frame (scrollbar) > canvas > secondframe (buttons attached on second frame) > secondcanvas\n",
    "# when scrollbar is moved, the secondframe is moved but not the initial frame"
   ]
  },
  {
   "cell_type": "code",
   "execution_count": null,
   "metadata": {},
   "outputs": [],
   "source": [
    "# Done with tkinter - Thanks"
   ]
  },
  {
   "cell_type": "code",
   "execution_count": null,
   "metadata": {},
   "outputs": [],
   "source": [
    "# Oct 25th 2020"
   ]
  },
  {
   "cell_type": "code",
   "execution_count": null,
   "metadata": {},
   "outputs": [],
   "source": [
    "from tkinter import *\n",
    "from tkcalendar import *"
   ]
  },
  {
   "cell_type": "code",
   "execution_count": null,
   "metadata": {},
   "outputs": [],
   "source": [
    "root=Tk()\n",
    "def selectdate():\n",
    "    lab.config(text = calendar.get_date())\n",
    "\n",
    "bt = Button(root,text = \"Select Date\",command = selectdate)\n",
    "bt.pack(pady=50)\n",
    "lab = Label(root, text = \"\")\n",
    "lab.pack(pady=50)\n",
    "calendar=Calendar(root,selectmode=\"day\")\n",
    "calendar.pack(pady=100)\n",
    "root.mainloop()"
   ]
  },
  {
   "cell_type": "code",
   "execution_count": null,
   "metadata": {},
   "outputs": [],
   "source": [
    "import pyodbc\n",
    "# Connect SQL Server DB with Python"
   ]
  },
  {
   "cell_type": "code",
   "execution_count": null,
   "metadata": {},
   "outputs": [],
   "source": [
    "# install pyodbc library through Anaconda Powershell Prompt\n",
    "# python object database connectivity\n",
    "import pyodbc\n",
    "\n",
    "for d in pyodbc.drivers():\n",
    "    print(d)"
   ]
  },
  {
   "cell_type": "code",
   "execution_count": null,
   "metadata": {},
   "outputs": [],
   "source": [
    "server = 'DESKTOP-EOUJV2S\\SQLEXPRESS'\n",
    "dbname = 'iplteams'\n",
    "\n",
    "\n",
    "cn = pyodbc.connect('DRIVER={ODBC Driver 17 for SQL Server}; SERVER= ' + server + ';DATABASE='+ dbname + ' ;Trusted_Connection=yes;')\n",
    "#cn = pyodbc.connect('DRIVER={ODBC Driver 17 for SQL Server}; SERVER = DESKTOP-EOUJV2S\\SQLEXPRESS; DATABASE=connectpython; Trusted_Connection=yes')\n",
    "crsr = cn.cursor()\n",
    "\n",
    "#qry1='update name_address set Middle=\\'K.\\'where City=\\'Indore\\''\n",
    "#crsr.execute(qry1)\n",
    "qry1='select * from players'\n",
    "\n",
    "crsr.execute(qry1)\n",
    "\n",
    "for r in crsr:\n",
    "    print(r)\n",
    "\n",
    "#cn.commit()\n",
    "\n",
    "cn.close()"
   ]
  },
  {
   "cell_type": "code",
   "execution_count": null,
   "metadata": {},
   "outputs": [],
   "source": [
    "# query1 = insert into tablename(col1,col2,col3) value(?,?,?)\n",
    "# cn.execute(query1, (entrybox1.get(), entrybox2.get(), entrybox3.get()))\n",
    "# cn.commit()"
   ]
  },
  {
   "cell_type": "code",
   "execution_count": null,
   "metadata": {},
   "outputs": [],
   "source": [
    "server = 'DESKTOP-EOUJV2S\\SQLEXPRESS'\n",
    "dbname = 'iplteams'\n",
    "\n",
    "\n",
    "cn = pyodbc.connect('DRIVER={ODBC Driver 17 for SQL Server}; SERVER= ' + server + ';DATABASE='+ dbname + ' ;Trusted_Connection=yes;')\n",
    "#cn = pyodbc.connect('DRIVER={ODBC Driver 17 for SQL Server}; SERVER = DESKTOP-EOUJV2S\\SQLEXPRESS; DATABASE=connectpython; Trusted_Connection=yes')\n",
    "crsr = cn.cursor()\n",
    "\n",
    "qry1='playersagecountry 32'\n",
    "\n",
    "crsr.execute(qry1)\n",
    "\n",
    "for r in crsr:\n",
    "    print(type(r))\n",
    "    print(r[0],r[1])\n",
    "\n",
    "\n",
    "#cn.commit()\n",
    "\n",
    "cn.close()"
   ]
  },
  {
   "cell_type": "code",
   "execution_count": null,
   "metadata": {},
   "outputs": [],
   "source": [
    "server = 'DESKTOP-EOUJV2S\\SQLEXPRESS'\n",
    "dbname = 'iplteams'\n",
    "\n",
    "\n",
    "cn = pyodbc.connect('DRIVER={ODBC Driver 17 for SQL Server}; SERVER= ' + server + ';DATABASE='+ dbname + ' ;Trusted_Connection=yes;')\n",
    "#cn = pyodbc.connect('DRIVER={ODBC Driver 17 for SQL Server}; SERVER = DESKTOP-EOUJV2S\\SQLEXPRESS; DATABASE=connectpython; Trusted_Connection=yes')\n",
    "crsr = cn.cursor()\n",
    "\n",
    "qry1='select age from Players order by age desc'\n",
    "\n",
    "crsr.execute(qry1)\n",
    "\n",
    "age = crsr.fetchone()[0]\n",
    "\n",
    "print(age)\n",
    "cn.close()"
   ]
  },
  {
   "cell_type": "code",
   "execution_count": null,
   "metadata": {},
   "outputs": [],
   "source": [
    "server = 'DESKTOP-EOUJV2S\\SQLEXPRESS'\n",
    "dbname = 'iplteams'\n",
    "\n",
    "\n",
    "cn = pyodbc.connect('DRIVER={ODBC Driver 17 for SQL Server}; SERVER= ' + server + ';DATABASE='+ dbname + ' ;Trusted_Connection=yes;')\n",
    "#cn = pyodbc.connect('DRIVER={ODBC Driver 17 for SQL Server}; SERVER = DESKTOP-EOUJV2S\\SQLEXPRESS; DATABASE=connectpython; Trusted_Connection=yes')\n",
    "crsr = cn.cursor()\n",
    "\n",
    "age=32\n",
    "qry1='playersagecountry '+ str(age)\n",
    "\n",
    "crsr.execute(qry1)\n",
    "\n",
    "for r in crsr:\n",
    "    print(r)\n",
    "    print(\"Name: r[0]\")\n",
    "    print(r[1])\n",
    "\n",
    "#cn.commit()\n",
    "\n",
    "cn.close()"
   ]
  },
  {
   "cell_type": "code",
   "execution_count": null,
   "metadata": {},
   "outputs": [],
   "source": [
    "try:\n",
    "    import tkinter as tk\n",
    "    from tkinter import ttk\n",
    "except ImportError:\n",
    "    import Tkinter as tk\n",
    "    import ttk\n",
    "\n",
    "from tkcalendar import Calendar, DateEntry\n",
    "\n",
    "def example1():\n",
    "    def print_sel():\n",
    "        print(cal.selection_get())\n",
    "        print(type(cal.selection_get()))\n",
    "\n",
    "    top = tk.Toplevel(root)\n",
    "\n",
    "    cal = Calendar(top,\n",
    "                   font=\"Arial 14\", selectmode='day',\n",
    "                   cursor=\"hand1\", year=2018, month=2, day=5)\n",
    "    cal.pack(fill=\"both\", expand=True)\n",
    "    ttk.Button(top, text=\"ok\", command=print_sel).pack()\n",
    "\n",
    "def example2():\n",
    "    top = tk.Toplevel(root)\n",
    "\n",
    "    ttk.Label(top, text='Choose date').pack(padx=10, pady=10)\n",
    "\n",
    "    cal = DateEntry(top, width=12, background='darkblue',\n",
    "                    foreground='white', borderwidth=2)\n",
    "    cal.pack(padx=10, pady=10)\n",
    "\n",
    "root = tk.Tk()\n",
    "s = ttk.Style(root)\n",
    "s.theme_use('clam')\n",
    "\n",
    "ttk.Button(root, text='Calendar', command=example1).pack(padx=10, pady=10)\n",
    "ttk.Button(root, text='DateEntry', command=example2).pack(padx=10, pady=10)\n",
    "\n",
    "root.mainloop()"
   ]
  },
  {
   "cell_type": "code",
   "execution_count": null,
   "metadata": {},
   "outputs": [],
   "source": [
    "import datetime"
   ]
  },
  {
   "cell_type": "code",
   "execution_count": null,
   "metadata": {},
   "outputs": [],
   "source": [
    "d=datetime.date.year\n",
    "print(d)"
   ]
  },
  {
   "cell_type": "code",
   "execution_count": null,
   "metadata": {},
   "outputs": [],
   "source": []
  },
  {
   "cell_type": "code",
   "execution_count": null,
   "metadata": {},
   "outputs": [],
   "source": [
    "# Below activities will make the program/project smarter"
   ]
  },
  {
   "cell_type": "code",
   "execution_count": null,
   "metadata": {},
   "outputs": [],
   "source": [
    "# things to take care in your project/application\n",
    "# 1. tkinter\n",
    "# 2. SQL Server\n",
    "# 3. Classes and Objects\n",
    "# 4. Exception Handling\n",
    "# 5. Logs to be created and should be sent to a file (under folder currentdate)\n",
    "# 6. args and kwargs\n",
    "# 7. all validations should be taken care of\n",
    "# (for eg negative balance, 0 car inventory, 0 banquets available, 0 doctors available for test)\n",
    "# -1 room available\n",
    "# use drop down values wherever possible\n",
    "# use validation for eg should give message if any amount is significantly high"
   ]
  },
  {
   "cell_type": "code",
   "execution_count": null,
   "metadata": {},
   "outputs": [],
   "source": [
    "# 1. identify parent/child class relationship\n",
    "# 2. identify the logs which you want to capture\n",
    "# 3. whenever the program is initiated or tigerred, you should create a currentdate folder and then a file to store logs\n",
    "# for eg banklogs/12-Dec/logs.txt\n",
    "# banklogs/13-Dec/logs.txt ;  banklogs/15-Dec/logs.txt\n",
    "# logs file should capture start time and end time of the application\n",
    "# preferably the name of the user also who has accessed the file (this can be done only if you create multiple users)\n",
    "# create a table which should have usernames and passwords\n",
    "# first time user should have an option to set the password which goes into a table\n",
    "# every time the user logs in, the SQL query should validate the username and password to finally give the user a entry/access\n",
    "# if the credentials match, the application should appear else messagebox should appear as \"invalid user\" and should then close\n",
    "# logs file should also capture the exception thrown by the application\n",
    "# code can be improved and end-users can get training for better usage of application\n",
    "# below should be within try block\n",
    "# 1. all user inputs , 2. all SQL queries pushed or pulled to/from DB, 3. all packages when imported"
   ]
  },
  {
   "cell_type": "code",
   "execution_count": null,
   "metadata": {},
   "outputs": [],
   "source": [
    "\"\"\"select name from doctors where a=\"abc\"\n",
    "\n",
    "select customername from customer where a=\"Sanjay\"\n",
    "what will happen if no customer exists by the name of Sanjay\n",
    "NULL\n",
    "update transaction values(\"Sanjay\", 10000)\n",
    "it should show message \"Customer doesnt exist - please create an account first\"\n",
    "\"\"\"\""
   ]
  },
  {
   "cell_type": "code",
   "execution_count": null,
   "metadata": {},
   "outputs": [],
   "source": [
    "# datetime module is quite helpful while working with dates and times\n",
    "# datetime has 2 further submodules - date and time"
   ]
  },
  {
   "cell_type": "code",
   "execution_count": null,
   "metadata": {},
   "outputs": [],
   "source": [
    "import datetime as dt"
   ]
  },
  {
   "cell_type": "code",
   "execution_count": null,
   "metadata": {},
   "outputs": [],
   "source": [
    "# datetime.date expects yyyy,mm,dd\n",
    "\n",
    "d = dt.date(2020,12,17)\n",
    "print(d)\n",
    "print(type(d))"
   ]
  },
  {
   "cell_type": "code",
   "execution_count": null,
   "metadata": {},
   "outputs": [],
   "source": [
    "import os\n",
    "a = 10.5\n",
    "import sys\n",
    "print(sys.getsizeof(a))"
   ]
  },
  {
   "cell_type": "code",
   "execution_count": null,
   "metadata": {},
   "outputs": [],
   "source": [
    "# capturing current date\n",
    "\n",
    "\n",
    "tod = dt.date.today()\n",
    "print(tod)\n",
    "print(type(tod))"
   ]
  },
  {
   "cell_type": "code",
   "execution_count": null,
   "metadata": {},
   "outputs": [],
   "source": [
    "# capturing year, month, date, weekday of current date\n",
    "# Monday is considered as 0\n",
    "\n",
    "year = dt.date.today().year\n",
    "day = dt.date.today().day\n",
    "month = dt.date.today().month\n",
    "wkday = dt.date.today().weekday()\n",
    "print(\"Date is \", year , day , month, \"and   Weekday is\", wkday)"
   ]
  },
  {
   "cell_type": "code",
   "execution_count": null,
   "metadata": {},
   "outputs": [],
   "source": [
    "# Assignment is to figure out an alternative of weekday() which captures Monday as 1\n",
    "# instead of .weekday() which considers Monday as 0"
   ]
  },
  {
   "cell_type": "code",
   "execution_count": null,
   "metadata": {},
   "outputs": [],
   "source": [
    "# adding  or subtracting days to current date\n",
    "\n",
    "add = dt.timedelta(days=-2)\n",
    "print(type(add))\n",
    "print(tod+add)"
   ]
  },
  {
   "cell_type": "code",
   "execution_count": null,
   "metadata": {},
   "outputs": [],
   "source": [
    "# we can use '+' or '-' on datetime objects\n",
    "\n",
    "add = dt.date(2020,12,10)\n",
    "dys = tod-add\n",
    "print(dys)"
   ]
  },
  {
   "cell_type": "code",
   "execution_count": null,
   "metadata": {},
   "outputs": [],
   "source": [
    "# we can use .days() function on datetime.date object\n",
    "print(dys.days)"
   ]
  },
  {
   "cell_type": "code",
   "execution_count": null,
   "metadata": {},
   "outputs": [],
   "source": [
    "# Assignment # 1 is to calculate the days remaining for India's Republic Day\n",
    "# Assignment # 2 is to calculate the age if anyone enters his date of birth"
   ]
  },
  {
   "cell_type": "code",
   "execution_count": null,
   "metadata": {},
   "outputs": [],
   "source": [
    "t_today = dt.datetime.today()\n",
    "dt_now = dt.datetime.now()\n",
    "dt_utcnow = dt.datetime.utcnow()\n",
    "\n",
    "print(dt_today)\n",
    "print(dt_now)\n",
    "print(dt_utcnow)"
   ]
  },
  {
   "cell_type": "code",
   "execution_count": null,
   "metadata": {},
   "outputs": [],
   "source": [
    "# pytz is the library/module which is required to work on timezones\n",
    "# we will have to install this library - pytz"
   ]
  },
  {
   "cell_type": "code",
   "execution_count": null,
   "metadata": {},
   "outputs": [],
   "source": [
    "import pytz"
   ]
  },
  {
   "cell_type": "code",
   "execution_count": null,
   "metadata": {},
   "outputs": [],
   "source": [
    "for tz in pytz.all_timezones:\n",
    "    print(tz)"
   ]
  },
  {
   "cell_type": "code",
   "execution_count": null,
   "metadata": {},
   "outputs": [],
   "source": [
    "# .today() and .now() are similar however .now() gives the option to pass timezone\n",
    "\n",
    "dt_today = dt.datetime.today()\n",
    "dt_now = dt.datetime.now(tz=pytz.timezone('US/Pacific'))\n",
    "\n",
    "print(dt_today)\n",
    "print(dt_now)"
   ]
  },
  {
   "cell_type": "code",
   "execution_count": null,
   "metadata": {},
   "outputs": [],
   "source": [
    "# get only date without time\n",
    "\n",
    "print(dt.date.today())"
   ]
  },
  {
   "cell_type": "code",
   "execution_count": null,
   "metadata": {},
   "outputs": [],
   "source": [
    "# Dec 19th 2020\n",
    "\n",
    "# similar to today, there is function named now() which returns current date and current time\n",
    "cur_dtm = dt.datetime.now()\n",
    "print(cur_dtm)"
   ]
  },
  {
   "cell_type": "code",
   "execution_count": null,
   "metadata": {},
   "outputs": [],
   "source": [
    "# create time object\n",
    "# hours, mins, secs, microseconds(optional)\n",
    "tm = dt.time(20,0,10,10000)\n",
    "print(tm)\n",
    "print(type(tm))"
   ]
  },
  {
   "cell_type": "code",
   "execution_count": null,
   "metadata": {},
   "outputs": [],
   "source": [
    "# specify both date and time\n",
    "dtm = dt.datetime(2020,12,19,9,10,10)\n",
    "print(dtm)"
   ]
  },
  {
   "cell_type": "code",
   "execution_count": null,
   "metadata": {},
   "outputs": [],
   "source": [
    "#print(dtm-cur_dtm)\n",
    "print(cur_dtm-dtm)"
   ]
  },
  {
   "cell_type": "code",
   "execution_count": null,
   "metadata": {},
   "outputs": [],
   "source": [
    "timevar = dt.timedelta(hours=12)\n",
    "print(dtm+timevar)"
   ]
  },
  {
   "cell_type": "code",
   "execution_count": null,
   "metadata": {},
   "outputs": [],
   "source": []
  },
  {
   "cell_type": "code",
   "execution_count": null,
   "metadata": {},
   "outputs": [],
   "source": []
  },
  {
   "cell_type": "code",
   "execution_count": null,
   "metadata": {},
   "outputs": [],
   "source": []
  },
  {
   "cell_type": "code",
   "execution_count": null,
   "metadata": {},
   "outputs": [],
   "source": [
    "# How to save sensitive / confidential information for eg username and password of emails\n",
    "# we can use environmental variables or any specific config file (for eg XML)"
   ]
  },
  {
   "cell_type": "code",
   "execution_count": null,
   "metadata": {},
   "outputs": [],
   "source": [
    "# Option # 1\n",
    "# XML stands for Xtensible Markup Language which is quite similar to Python dictionary or JSON (Javascript Object Notation)\n",
    "# use XML file to store information and then use the same file to get information\n",
    "# generally XML files are in the form of key value pairs"
   ]
  },
  {
   "cell_type": "code",
   "execution_count": null,
   "metadata": {},
   "outputs": [],
   "source": [
    "# install xmltodict using pip install xmltodict on Anaconda powershell prompt\n",
    "import xmltodict"
   ]
  },
  {
   "cell_type": "code",
   "execution_count": null,
   "metadata": {},
   "outputs": [],
   "source": [
    "# first create XML file"
   ]
  },
  {
   "cell_type": "code",
   "execution_count": null,
   "metadata": {},
   "outputs": [],
   "source": [
    "file = open (\"details.xml\",\"rb\")\n",
    "crd = file.read()"
   ]
  },
  {
   "cell_type": "code",
   "execution_count": null,
   "metadata": {},
   "outputs": [],
   "source": [
    "print(crd)"
   ]
  },
  {
   "cell_type": "code",
   "execution_count": null,
   "metadata": {},
   "outputs": [],
   "source": [
    "crd_dict = xmltodict.parse(crd)\n",
    "print(crd_dict)"
   ]
  },
  {
   "cell_type": "code",
   "execution_count": null,
   "metadata": {},
   "outputs": [],
   "source": [
    "print(crd_dict['credentials']['username'])\n",
    "# we cann use as many key:value pairs as we want"
   ]
  },
  {
   "cell_type": "code",
   "execution_count": null,
   "metadata": {},
   "outputs": [],
   "source": []
  },
  {
   "cell_type": "code",
   "execution_count": null,
   "metadata": {},
   "outputs": [],
   "source": [
    "# Option # 2\n",
    "# Use environment variables\n",
    "# Control Panel > System & Security > System(View amount of RAM and processor speed) > Advanced System Settings\n",
    "# > Advanced > Environment Variables > User > New...\n",
    "\n",
    "#OR\n",
    "\n",
    "# type env in search bar > Environment Variables > User > New..."
   ]
  },
  {
   "cell_type": "code",
   "execution_count": null,
   "metadata": {},
   "outputs": [],
   "source": [
    "import os"
   ]
  },
  {
   "cell_type": "code",
   "execution_count": null,
   "metadata": {},
   "outputs": [],
   "source": [
    "email_user = os.environ.get('email_ID')\n",
    "email_pwd = os.environ.get('email_pwd')"
   ]
  },
  {
   "cell_type": "code",
   "execution_count": null,
   "metadata": {},
   "outputs": [],
   "source": [
    "print(email_user)\n",
    "print(email_pwd)\n",
    "# this will not work unless we restart our computer after creating environment variables"
   ]
  },
  {
   "cell_type": "code",
   "execution_count": null,
   "metadata": {},
   "outputs": [],
   "source": [
    "for k,v in os.environ.items():\n",
    "    print(k,v)"
   ]
  },
  {
   "cell_type": "code",
   "execution_count": 4,
   "metadata": {},
   "outputs": [],
   "source": [
    "import datetime"
   ]
  },
  {
   "cell_type": "code",
   "execution_count": 7,
   "metadata": {},
   "outputs": [
    {
     "name": "stdout",
     "output_type": "stream",
     "text": [
      "2021-02-23\n",
      "<class 'datetime.date'>\n"
     ]
    },
    {
     "data": {
      "text/plain": [
       "'2021-02-23'"
      ]
     },
     "execution_count": 7,
     "metadata": {},
     "output_type": "execute_result"
    }
   ],
   "source": [
    "dt = datetime.date.today()\n",
    "dt = str(dt)"
   ]
  },
  {
   "cell_type": "code",
   "execution_count": null,
   "metadata": {},
   "outputs": [],
   "source": [
    "import smtplib\n",
    "import xmltodict"
   ]
  },
  {
   "cell_type": "code",
   "execution_count": null,
   "metadata": {},
   "outputs": [],
   "source": [
    "# smtp stands for simple mail transfer protocol\n",
    "# smtp is the protocol which is used by all email engines (gmail, yahoo, outlook, , etc)\n",
    "# have to install by pip install smtplib before importing it"
   ]
  },
  {
   "cell_type": "code",
   "execution_count": null,
   "metadata": {},
   "outputs": [],
   "source": [
    "# we have to make gmail less secure to get outsider or third party application (python in this case)\n",
    "# we do it by turning on the \"less secure apps\" settings\n",
    "# it is recommended to turn off the settings after the program/application ends"
   ]
  },
  {
   "cell_type": "code",
   "execution_count": null,
   "metadata": {},
   "outputs": [],
   "source": [
    "file = open (\"app_credentials.xml\",\"rb\")\n",
    "crd = file.read()\n",
    "crd_dict = xmltodict.parse(crd)\n",
    "email_usr = crd_dict['credentials']['username']\n",
    "email_pwd = crd_dict['credentials']['password']\n"
   ]
  },
  {
   "cell_type": "code",
   "execution_count": 2,
   "metadata": {},
   "outputs": [],
   "source": [
    "import smtplib\n",
    "import xmltodict\n",
    "\n",
    "to=\"aviral270608@gmail.com\"\n",
    "sub = \"Dec 23rd Test 1\"\n",
    "body = \"Hello, How are you. This is a test message from Python\"\n",
    "\n",
    "\n",
    "with smtplib.SMTP(\"smtp.gmail.com\", 587) as email:\n",
    "    email.ehlo() # ehlo is used to establish a connection\n",
    "    email.starttls() # this is for encrypting our traffic\n",
    "    email.ehlo() # ehlo is used to establish a connection\n",
    "    email.login(\"greatestpythoncoder287@gmail.com\", \"A@2008viral\")\n",
    "    #msg = f'To:{to}\\n\\n' + 'Subject:{sub}\\n\\n{body}'\n",
    "    msg = \"To:\" + to + \"\\r\\n\" + \"Subject:\" + sub + \"\\r\\n\" + body\n",
    "    email.sendmail(to, to, msg)"
   ]
  },
  {
   "cell_type": "code",
   "execution_count": null,
   "metadata": {},
   "outputs": [],
   "source": [
    "# Assignment is to try this from different email engine"
   ]
  },
  {
   "cell_type": "code",
   "execution_count": null,
   "metadata": {},
   "outputs": [],
   "source": [
    "# we will look into how to schedule an email\n",
    "# This mean how an automated email can be sent - for eg every Monday, or every Month 01st day"
   ]
  },
  {
   "cell_type": "code",
   "execution_count": null,
   "metadata": {},
   "outputs": [],
   "source": [
    "# We will then ssubsequently see how we can integrate whatsapp with Python"
   ]
  },
  {
   "cell_type": "code",
   "execution_count": null,
   "metadata": {},
   "outputs": [],
   "source": [
    "# Google Maps provides API which is in the form of a function\n",
    "# for eg google.maps(\"Gurugram Sector 29\")\n",
    "# iot will return latitude and longituyde of the globe\n",
    "# API refers to Application Programming Interface\n",
    "# wikipedia has API which return the content on wikipedia\n",
    "# wiki.get(\"smtp\") it will return content about smtp"
   ]
  },
  {
   "cell_type": "code",
   "execution_count": null,
   "metadata": {},
   "outputs": [],
   "source": [
    "# Jan 03rd 2021\n",
    "# Wishing Everyone a very Bright and Propseprous New Year !!"
   ]
  },
  {
   "cell_type": "code",
   "execution_count": null,
   "metadata": {},
   "outputs": [],
   "source": [
    "# Review Computer Networks"
   ]
  },
  {
   "cell_type": "code",
   "execution_count": null,
   "metadata": {},
   "outputs": [],
   "source": [
    "# Lets see how to schedule programs/functions\n",
    "# install library called schedule"
   ]
  },
  {
   "cell_type": "code",
   "execution_count": null,
   "metadata": {},
   "outputs": [],
   "source": [
    "# schedule library is used to schedule functions\n",
    "# it can schedule at regular intervals like every second, minute, hour, day day ofweek\n",
    "# it can schedule at specific time of the day or week"
   ]
  },
  {
   "cell_type": "code",
   "execution_count": null,
   "metadata": {},
   "outputs": [],
   "source": [
    "import time\n",
    "import schedule"
   ]
  },
  {
   "cell_type": "code",
   "execution_count": null,
   "metadata": {},
   "outputs": [],
   "source": [
    "def prnt():\n",
    "    print(\"I am Present\")\n",
    "    \n",
    "schedule.every(5).seconds.do(prnt)\n",
    "\n",
    "while True:\n",
    "    schedule.run_pending()\n",
    "    time.sleep(1)"
   ]
  },
  {
   "cell_type": "code",
   "execution_count": null,
   "metadata": {},
   "outputs": [],
   "source": [
    "# for specific time"
   ]
  },
  {
   "cell_type": "code",
   "execution_count": null,
   "metadata": {},
   "outputs": [],
   "source": [
    "def prnt():\n",
    "    print(\"Thanks\")\n",
    "schedule.every().day.at(\"11:00\").do(prnt)\n",
    "\n",
    "while True:\n",
    "    schedule.run_pending()\n",
    "    time.sleep(1)"
   ]
  },
  {
   "cell_type": "code",
   "execution_count": null,
   "metadata": {},
   "outputs": [],
   "source": [
    "# for specific day of week"
   ]
  },
  {
   "cell_type": "code",
   "execution_count": null,
   "metadata": {},
   "outputs": [],
   "source": [
    "def prnt():\n",
    "    print(\"Thanks\")\n",
    "schedule.every(5).saturday.at(\"09:30\").do(prnt)\n",
    "\n",
    "while True:\n",
    "    schedule.run_pending()\n",
    "    time.sleep(1)"
   ]
  },
  {
   "cell_type": "code",
   "execution_count": null,
   "metadata": {},
   "outputs": [],
   "source": [
    "# Assignment is to schedule your tkinter file/project with the help of schedule library\n",
    "# dont use .every(5) seconds or minutes but use specific time of day"
   ]
  },
  {
   "cell_type": "code",
   "execution_count": null,
   "metadata": {},
   "outputs": [],
   "source": [
    "# we may want our scheduled program to run without worrying about actual application\n",
    "# this can be achieved with concept of \"windows service\"\n",
    "# there are multiple services which run at the background\n",
    "# type services.msc at search or run to view services"
   ]
  },
  {
   "cell_type": "code",
   "execution_count": null,
   "metadata": {},
   "outputs": [],
   "source": [
    "# we can create a windows service with the help of Python program"
   ]
  },
  {
   "cell_type": "code",
   "execution_count": null,
   "metadata": {},
   "outputs": [],
   "source": [
    "# Jan 07th 2021"
   ]
  },
  {
   "cell_type": "code",
   "execution_count": null,
   "metadata": {},
   "outputs": [],
   "source": [
    "# Lets revise Computer Networks"
   ]
  },
  {
   "cell_type": "code",
   "execution_count": null,
   "metadata": {},
   "outputs": [],
   "source": [
    "# Lets review the Project"
   ]
  },
  {
   "cell_type": "code",
   "execution_count": null,
   "metadata": {},
   "outputs": [],
   "source": [
    "# Jan 10th 2021"
   ]
  },
  {
   "cell_type": "code",
   "execution_count": null,
   "metadata": {},
   "outputs": [],
   "source": [
    "# A mutable object is data type which can be changed\n",
    "# An immutable object is data type which cannot be changed"
   ]
  },
  {
   "cell_type": "code",
   "execution_count": null,
   "metadata": {},
   "outputs": [],
   "source": [
    "a = [1,2,3]"
   ]
  },
  {
   "cell_type": "code",
   "execution_count": null,
   "metadata": {},
   "outputs": [],
   "source": [
    "a[0] = \"Great\""
   ]
  },
  {
   "cell_type": "code",
   "execution_count": null,
   "metadata": {},
   "outputs": [],
   "source": [
    "a"
   ]
  },
  {
   "cell_type": "code",
   "execution_count": null,
   "metadata": {},
   "outputs": [],
   "source": [
    "# Mutable examples - List, Dictionary\n",
    "# Immutable Object - Tuple, String, Set"
   ]
  },
  {
   "cell_type": "code",
   "execution_count": null,
   "metadata": {},
   "outputs": [],
   "source": [
    "# What is a Set\n",
    "# A set is collection of items\n",
    "# Set is immutable which means that values cannot be changed"
   ]
  },
  {
   "cell_type": "code",
   "execution_count": null,
   "metadata": {},
   "outputs": [],
   "source": [
    "a = {1,2,3,4,5,\"Ranjan\",\"Raman\"}\n",
    "b = set([2,4,6,9.9, True, \"Super\"]) # constructor called set and with round brackets\n",
    "print(type(a))\n",
    "print(type(b))\n",
    "print(a)\n",
    "print(b)"
   ]
  },
  {
   "cell_type": "code",
   "execution_count": null,
   "metadata": {},
   "outputs": [],
   "source": [
    "c = set(1,2,\"Super\", False)\n",
    "# set() takes an argument to convert it into set and the argument has to be a list or any other data type"
   ]
  },
  {
   "cell_type": "code",
   "execution_count": null,
   "metadata": {},
   "outputs": [],
   "source": [
    "c = (1,2,\"Super\", False)\n",
    "print(type(c))"
   ]
  },
  {
   "cell_type": "code",
   "execution_count": null,
   "metadata": {},
   "outputs": [],
   "source": [
    "# we cannot access with the help of subscript\n",
    "a[0]"
   ]
  },
  {
   "cell_type": "code",
   "execution_count": null,
   "metadata": {},
   "outputs": [],
   "source": [
    "a{0}"
   ]
  },
  {
   "cell_type": "code",
   "execution_count": null,
   "metadata": {},
   "outputs": [],
   "source": [
    "# we can see the values of set but cannot change\n",
    "for x in a:\n",
    "    print(x)"
   ]
  },
  {
   "cell_type": "code",
   "execution_count": null,
   "metadata": {},
   "outputs": [],
   "source": [
    "# A set always takes unique values \n",
    "# which means if we put redundant/duplicate values, it wont consider duplicate ones and just retain 1 unique value\n",
    "# why set doesnt consider Boolean True ?? \n",
    "# True and 1 are similar\n",
    "# False and 0 are similar\n",
    "# all unique strings will be sorted in ascending order"
   ]
  },
  {
   "cell_type": "code",
   "execution_count": null,
   "metadata": {},
   "outputs": [],
   "source": [
    "class abc:\n",
    "    pass"
   ]
  },
  {
   "cell_type": "code",
   "execution_count": null,
   "metadata": {},
   "outputs": [],
   "source": [
    "a = {100,3.99,1,1,101,1,99,1,1,2,2,2,2,abc,2,\"True\",\"True\",\"False\",\"AA\",True,False,0}"
   ]
  },
  {
   "cell_type": "code",
   "execution_count": null,
   "metadata": {},
   "outputs": [],
   "source": [
    "a"
   ]
  },
  {
   "cell_type": "code",
   "execution_count": null,
   "metadata": {},
   "outputs": [],
   "source": [
    "lista = list(a)\n",
    "lista\n",
    "len(lista)\n",
    "lista\n",
    "# we can convert set into a list with the list constructor"
   ]
  },
  {
   "cell_type": "code",
   "execution_count": null,
   "metadata": {},
   "outputs": [],
   "source": [
    "a.add(1)"
   ]
  },
  {
   "cell_type": "code",
   "execution_count": null,
   "metadata": {},
   "outputs": [],
   "source": [
    "a"
   ]
  },
  {
   "cell_type": "code",
   "execution_count": null,
   "metadata": {},
   "outputs": [],
   "source": [
    "a.add(10)"
   ]
  },
  {
   "cell_type": "code",
   "execution_count": null,
   "metadata": {},
   "outputs": [],
   "source": [
    "a"
   ]
  },
  {
   "cell_type": "code",
   "execution_count": null,
   "metadata": {},
   "outputs": [],
   "source": [
    "a.add(200)"
   ]
  },
  {
   "cell_type": "code",
   "execution_count": null,
   "metadata": {},
   "outputs": [],
   "source": [
    "a"
   ]
  },
  {
   "cell_type": "code",
   "execution_count": null,
   "metadata": {},
   "outputs": [],
   "source": [
    "a.update(2,4,6,8,10)"
   ]
  },
  {
   "cell_type": "code",
   "execution_count": null,
   "metadata": {},
   "outputs": [],
   "source": [
    "a.update([\"False\",100,False,9.9,10.77,200.193,\"Amazing\",399.01])"
   ]
  },
  {
   "cell_type": "code",
   "execution_count": null,
   "metadata": {},
   "outputs": [],
   "source": [
    "a"
   ]
  },
  {
   "cell_type": "code",
   "execution_count": null,
   "metadata": {},
   "outputs": [],
   "source": [
    "# A set doesnt add duplicate/redundant values"
   ]
  },
  {
   "cell_type": "code",
   "execution_count": null,
   "metadata": {},
   "outputs": [],
   "source": [
    "# remove method removes an element but it will throw an error if the element is not available in the set\n",
    "# discard method should be used in case we are not sure if the element is available within the set or not\n",
    "# pop method removes random element from the set -this is dangerous"
   ]
  },
  {
   "cell_type": "code",
   "execution_count": null,
   "metadata": {},
   "outputs": [],
   "source": [
    "a.remove(10)"
   ]
  },
  {
   "cell_type": "code",
   "execution_count": null,
   "metadata": {},
   "outputs": [],
   "source": [
    "a"
   ]
  },
  {
   "cell_type": "code",
   "execution_count": null,
   "metadata": {},
   "outputs": [],
   "source": [
    "a.discard(50)"
   ]
  },
  {
   "cell_type": "code",
   "execution_count": null,
   "metadata": {},
   "outputs": [],
   "source": [
    "a.remove(19)"
   ]
  },
  {
   "cell_type": "code",
   "execution_count": null,
   "metadata": {},
   "outputs": [],
   "source": [
    "a.pop()"
   ]
  },
  {
   "cell_type": "code",
   "execution_count": null,
   "metadata": {},
   "outputs": [],
   "source": [
    "# Union and Intersection of Sets\n",
    "# Union means combining all the elements\n",
    "# Intersection means taking common elements"
   ]
  },
  {
   "cell_type": "code",
   "execution_count": null,
   "metadata": {},
   "outputs": [],
   "source": [
    "# Union can be done by either using '|' or a.union(b)\n",
    "# | is symbol below backspace\n",
    "# multiple union can be done by a.union(b,c)\n",
    "# Intersection can be done by '&' or a.intersection(b)\n",
    "# multiple intersection can be done by a.intersection(b,c)"
   ]
  },
  {
   "cell_type": "code",
   "execution_count": null,
   "metadata": {},
   "outputs": [],
   "source": [
    "a = {1,2,3,4,5}\n",
    "b = {1,\"Hi\",\"Hello\",\"Thanks\"}\n",
    "c = {1,2,\"Hi\",\"Thanks\",\"Wow\",\"Hangman\"}\n",
    "\n",
    "print(a|b)\n",
    "print(a.union(b))\n",
    "print(\"A intersection B\")\n",
    "print(a&b)\n",
    "print(a.intersection(b))\n",
    "print(\"A intersection C\\n\")\n",
    "print(a&c)\n",
    "print(a.intersection(c))\n",
    "\n",
    "print(\"Multiple Unions\")\n",
    "print(a.union(b,c))\n",
    "print(\"Multiple Intersections\")\n",
    "print(a.intersection(b,c))"
   ]
  },
  {
   "cell_type": "code",
   "execution_count": null,
   "metadata": {},
   "outputs": [],
   "source": [
    "print(a|b|c)\n",
    "print(a&b&c)\n",
    "# multiple unions and intersections"
   ]
  },
  {
   "cell_type": "code",
   "execution_count": null,
   "metadata": {},
   "outputs": [],
   "source": [
    "# Difference of Sets\n",
    "# difference creates a new set with values of first set - common values\n",
    "# difference can be calculated by '-' or a.difference(b)\n",
    "# a-b will remove common elements and retain left over elements in a\n",
    "# b-a will remove common elements and retain left over elements in b\n",
    "# we can even do a.difference(b,c) means finding difference of 3 sets whereby elements of a will be retained"
   ]
  },
  {
   "cell_type": "code",
   "execution_count": null,
   "metadata": {},
   "outputs": [],
   "source": [
    "print(a)\n",
    "print(b)\n",
    "print(c)"
   ]
  },
  {
   "cell_type": "code",
   "execution_count": null,
   "metadata": {},
   "outputs": [],
   "source": [
    "a-b"
   ]
  },
  {
   "cell_type": "code",
   "execution_count": null,
   "metadata": {},
   "outputs": [],
   "source": [
    "b-a"
   ]
  },
  {
   "cell_type": "code",
   "execution_count": null,
   "metadata": {},
   "outputs": [],
   "source": [
    "a.difference(b)"
   ]
  },
  {
   "cell_type": "code",
   "execution_count": null,
   "metadata": {},
   "outputs": [],
   "source": [
    "b.difference(a)"
   ]
  },
  {
   "cell_type": "code",
   "execution_count": null,
   "metadata": {},
   "outputs": [],
   "source": [
    "a.difference(b,c)"
   ]
  },
  {
   "cell_type": "code",
   "execution_count": null,
   "metadata": {},
   "outputs": [],
   "source": [
    "# Assignment\n",
    "# Review 5 other functions of sets"
   ]
  },
  {
   "cell_type": "code",
   "execution_count": null,
   "metadata": {},
   "outputs": [],
   "source": [
    "# A is subset of C\n",
    "# C is superset of A and B\n",
    "# green and red small sets are subsets of B and A respectively and also further subsets of C\n",
    "# sets are used for analysis"
   ]
  },
  {
   "cell_type": "code",
   "execution_count": null,
   "metadata": {},
   "outputs": [],
   "source": [
    "# Continuing from Jan 10th\n",
    "# why set wasnt able to accept Boolean True ?"
   ]
  },
  {
   "cell_type": "code",
   "execution_count": null,
   "metadata": {},
   "outputs": [],
   "source": [
    "st = {1,0,22,True,False,True,False}\n",
    "print(st)"
   ]
  },
  {
   "cell_type": "code",
   "execution_count": null,
   "metadata": {},
   "outputs": [],
   "source": [
    "# Jan 14th 2021\n",
    "# List Comprehension\n",
    "# List comprehension are used to create new lists from iterables\n",
    "# Usually list comprehensions contain for loops and in few scenarios, it contains for loops and if conditions\n",
    "# it is used to optimize the code which means make the code run faster\n",
    "# because we make/convert 3-4 lines into single line"
   ]
  },
  {
   "cell_type": "code",
   "execution_count": null,
   "metadata": {},
   "outputs": [],
   "source": [
    "# for loop\n",
    "numbers = [1,2,3,4,5,6]\n",
    "# creating another list called n_list with the help of list comprehension\n",
    "n_list = [n for n in numbers]\n",
    "print(n_list)"
   ]
  },
  {
   "cell_type": "code",
   "execution_count": null,
   "metadata": {},
   "outputs": [],
   "source": [
    "n_list =[]\n",
    "for n in numbers:\n",
    "    n_list.append(n)\n",
    "print(n_list)"
   ]
  },
  {
   "cell_type": "code",
   "execution_count": null,
   "metadata": {},
   "outputs": [],
   "source": [
    "# another example with for loop\n",
    "n_list2 = [n*n*n for n in numbers]\n",
    "print(n_list2)\n",
    "\n",
    "# generic way to look at list comprehension\n",
    "# [action loop/condition]\n",
    "# above action is inside [] hence they become part of new list"
   ]
  },
  {
   "cell_type": "code",
   "execution_count": null,
   "metadata": {},
   "outputs": [],
   "source": [
    "# for loop with if condition\n",
    "odds = [11,13,15,17,19,21,23,25,27]\n",
    "odd_list = [n for n in odds if n%3==0]\n",
    "print(odd_list)"
   ]
  },
  {
   "cell_type": "code",
   "execution_count": null,
   "metadata": {},
   "outputs": [],
   "source": [
    "# if above code would have been written without list comprehension\n",
    "odd_list=[]\n",
    "for n in odds:\n",
    "    if n%3==0:\n",
    "        odd_list.append(n)"
   ]
  },
  {
   "cell_type": "code",
   "execution_count": null,
   "metadata": {},
   "outputs": [],
   "source": [
    "# with the help of nested for loop\n",
    "t = [l for l in \"Great\" for m in range(3)]\n",
    "print(t)"
   ]
  },
  {
   "cell_type": "code",
   "execution_count": null,
   "metadata": {},
   "outputs": [],
   "source": [
    "t=[]\n",
    "for l in \"Great\":\n",
    "    for m in range(3):\n",
    "        t.append(l)\n",
    "print(t)\n",
    "\n",
    "#[action  loop/condition]\n",
    "# [l becomes action    nested for loop become conditions]"
   ]
  },
  {
   "cell_type": "code",
   "execution_count": null,
   "metadata": {},
   "outputs": [],
   "source": [
    "n=0\n",
    "t = [n for n in range(3)]\n",
    "print(t)\n",
    "# while is not permitted with list comprehension"
   ]
  },
  {
   "cell_type": "code",
   "execution_count": null,
   "metadata": {},
   "outputs": [],
   "source": [
    "# Assignment is to create list comprehension with the help of nested for loop and nested if condition\n",
    "# this means that we have to use 2 for loops and 2 if conditions"
   ]
  },
  {
   "cell_type": "code",
   "execution_count": null,
   "metadata": {},
   "outputs": [],
   "source": [
    "# Jan 16th 2021\n",
    "# Tuples\n",
    "# Tuples are immutable data type which means we cannot change the data once created\n",
    "# It accepts duplicate values unlike Sets"
   ]
  },
  {
   "cell_type": "code",
   "execution_count": null,
   "metadata": {},
   "outputs": [],
   "source": []
  },
  {
   "cell_type": "code",
   "execution_count": null,
   "metadata": {},
   "outputs": [],
   "source": [
    "# Jan 23rd 2021\n",
    "# Octal and Hexadecimal\n",
    "# There are 4 number notations - Decimal, Binary, Octal, Hexadecimal\n",
    "# Base of Decimal is 10 (there are 10 unique numbers - 0 to 9)\n",
    "# Base of Binary is 2 (there are 2 unique numbers - 1 and 0)\n",
    "# Base of Octal is 8 (there are 8 unique numbers - 0 to 7)\n",
    "# Base of Hexadecimal is 16 (there are 16 unique numbers - 0 to 9 and A to F)\n",
    "# Within Hexadecimal\n",
    "# A = 10\n",
    "# B = 11\n",
    "# C = 12\n",
    "# D = 13\n",
    "# E = 14\n",
    "# F = 15"
   ]
  },
  {
   "cell_type": "code",
   "execution_count": null,
   "metadata": {},
   "outputs": [],
   "source": [
    "# Convert binary to Octal\n",
    "# Decimal 10 is 1010 in binary\n",
    "# Convert binary 101010 in Octal\n",
    "# 1. Take all digits in group of 3\n",
    "# 101 010\n",
    "# 2. Convert each group of binary to Decimal\n",
    "# 1*2**2 + 0*2**1 + 1*2**0\n",
    "# 4+0+1 = 5\n",
    "# 101 = 5   010 = 2\n",
    "# 5    2\n",
    "# 3. Resultant should be taken from left to right\n",
    "# answer is (52)Octal"
   ]
  },
  {
   "cell_type": "code",
   "execution_count": null,
   "metadata": {},
   "outputs": [],
   "source": [
    "# Convert Decimal to Octal\n",
    "# 99\n",
    "# 1. Divide 99 by 8 and take the remainder\n",
    "# 2. Continue to divide until we reach number lesser than 8\n",
    "# 99 / 8 = 12 3\n",
    "# 12 / 8 = 1  4\n",
    "# Since 1 is < 8, we stop\n",
    "# wwe start the Octal number from quotiet to remainder\n",
    "# the last quotient/aswer is 1 where we stopped\n",
    "# The Octal notation becomes 143\n",
    "# 64 / 8 = 8 0\n",
    "# 8 / 8 = 1 0\n",
    "# (100)octal"
   ]
  },
  {
   "cell_type": "code",
   "execution_count": null,
   "metadata": {},
   "outputs": [],
   "source": [
    "# Convert 190 (decimal) to Octal - Rakshit\n",
    "# 190 / 8 = 23  6\n",
    "# 23 / 8 = 2    7\n",
    "# (276)Octal\n",
    "# OR 276 to the base of 8"
   ]
  },
  {
   "cell_type": "code",
   "execution_count": null,
   "metadata": {},
   "outputs": [],
   "source": [
    "# Convert 111110 to Octal - Shaurya\n",
    "111 110\n",
    "210 210 (Index) just to convert to Binary \n",
    "1*2**2 + 1*2**1 + 1*2**0 = 4+2+1 = 7\n",
    "1*2**2 + 1*2**1 + 0*2**0 = 4+2+0 = 6\n",
    "\n",
    "(76)Octal"
   ]
  },
  {
   "cell_type": "code",
   "execution_count": null,
   "metadata": {},
   "outputs": [],
   "source": [
    "# Binary to Hexadecimal\n",
    "# 11101110\n",
    "# 1. Divide in the group of 4s and not 3s\n",
    "# 2. Convert each group into Decimal seperately\n",
    "# 3. Assign all values from 10 to 15 from A to F\n",
    "# Step 1 = 11101110 divide into group of 4s = 1110 1110 \n",
    "# Step 2 = Convert binary to Decimal\n",
    "# 1110 = 14\n",
    "# 1110 = 14\n",
    "\n",
    "# Step 3. Mapping numbers to Hexa notation\n",
    "# (EE)hexadecimal\n",
    "# EE to the base of 16"
   ]
  },
  {
   "cell_type": "code",
   "execution_count": null,
   "metadata": {},
   "outputs": [],
   "source": [
    "# 1011100111 - Amritraj\n",
    "# 1. 0010  1110  0111\n",
    "# 2.  2    14    7\n",
    "# 3.  (2E7)Hexadecimal"
   ]
  },
  {
   "cell_type": "code",
   "execution_count": null,
   "metadata": {},
   "outputs": [],
   "source": [
    "# Convert to Decimal to Hexadecimal\n",
    "# 190 to Hexadecimal\n",
    "# 190 / 16 = 11  14\n",
    "# answer is BE\n",
    "\n",
    "# 231 to hexa\n",
    "# 231 / 16 = 14  7\n",
    "# (E7) Hexadecimal\n",
    "# 9999 to Hexa\n",
    "# 9999 / 16 = 624 15\n",
    "# 624 / 16 = 39   0\n",
    "# 39 / 16 = 2    7\n",
    "# (270F) Hexadecimal"
   ]
  },
  {
   "cell_type": "code",
   "execution_count": null,
   "metadata": {},
   "outputs": [],
   "source": [
    "# Convert 91 to Octal - Amritraj\n",
    "# 91 / 8 = 11  3\n",
    "# 11 / 8 = 1   3\n",
    "# (133)Octal\n",
    "# Convert 120 to octal\n",
    "# 120 / 8 = 15 0\n",
    "# 15 / 8 = 1   7\n",
    "(170)Octal"
   ]
  },
  {
   "cell_type": "code",
   "execution_count": null,
   "metadata": {},
   "outputs": [],
   "source": [
    "# Convert 11010110 (binary) to Octal (groups of 3)\n",
    "# 011 010 110 \n",
    "# 3   2    6\n",
    "# (326)Octal"
   ]
  },
  {
   "cell_type": "code",
   "execution_count": null,
   "metadata": {},
   "outputs": [],
   "source": [
    "# Jan 24th 2021\n",
    "# Convert 303 to Hexadecimal\n",
    "# 1. 303 / 16 = 18 15\n",
    "# 2. 18 / 16 = 1   2\n",
    "# 1215 = (12F)Hexadecimal"
   ]
  },
  {
   "cell_type": "code",
   "execution_count": null,
   "metadata": {},
   "outputs": [],
   "source": [
    "# Convert 111001100 to Hexadecimal\n",
    "# 0001 1100 1100\n",
    "# 1    12   12\n",
    "# (1CC)"
   ]
  },
  {
   "cell_type": "code",
   "execution_count": null,
   "metadata": {},
   "outputs": [],
   "source": [
    "# Convert 10111001010 to Octal\n",
    "#  010  111  001  010\n",
    "#  2    7    1    2\n",
    "# (2712)Octal or to the base of 8"
   ]
  },
  {
   "cell_type": "code",
   "execution_count": null,
   "metadata": {},
   "outputs": [],
   "source": [
    "# create text boxes dynamically\n",
    "from tkinter import *\n",
    "root = Tk()\n",
    "def updatequery():\n",
    "    # capture values from text boxes and create the query\n",
    "    # update tablename set column1 = value, column2 = value where clause\n",
    "def update_button():\n",
    "    upd_button = Button(root,text=\"Update\",command = updatequery)\n",
    "    upd_button.grid(row=8,column=0,columnspan=2)\n",
    "def prntcheck():\n",
    "    if check1.get()==1:\n",
    "        name_entry=Entry(root,width=20)\n",
    "        name_entry.insert(0,\"Enter the Name\")\n",
    "        name_entry.grid(row=4,column=0)\n",
    "    if check2.get()==1:\n",
    "        age_entry=Entry(root,width=20)\n",
    "        age_entry.insert(0,\"Enter the Age\")\n",
    "        age_entry.grid(row=5,column=0)\n",
    "    if check3.get()==1:\n",
    "        add_entry=Entry(root,width=20)\n",
    "        add_entry.insert(0,\"Enter the Address\")\n",
    "        add_entry.grid(row=6,column=0)\n",
    "    if check4.get()==1:\n",
    "        phone_entry=Entry(root,width=20)\n",
    "        phone_entry.insert(0,\"Enter the Phone\")\n",
    "        phone_entry.grid(row=7,column=0)\n",
    "    update_button()\n",
    "\n",
    "check1 = IntVar()\n",
    "check2 = IntVar()\n",
    "check3 = IntVar()\n",
    "check4 = IntVar()\n",
    "\n",
    "c1 = Checkbutton(root, text = \"Name\",variable=check1)\n",
    "c2 = Checkbutton(root, text = \"Age\",variable=check2)\n",
    "c3 = Checkbutton(root, text = \"Address\",variable=check3)\n",
    "c4 = Checkbutton(root, text = \"Phone\",variable=check4)\n",
    "\n",
    "c1.grid(row=1,column=0)\n",
    "c2.grid(row=2,column=0)\n",
    "c3.grid(row=1,column=1)\n",
    "c4.grid(row=2,column=1)\n",
    "\n",
    "button3 = Button(root, text = \"Edit\",padx=20,pady=10,command = prntcheck)\n",
    "button3.grid(row=3,column = 0, columnspan=2)\n",
    "root.mainloop()"
   ]
  },
  {
   "cell_type": "code",
   "execution_count": null,
   "metadata": {},
   "outputs": [],
   "source": [
    "# Jan 23rd 2021\n",
    "# Assignment # 1 is to reasearch why do we require different numbern notations\n",
    "# 1. Concise/compact representation\n",
    "# why it was invested - why was it even required at the first place\n",
    "# Asignment # 2 is to create a program to convert below\n",
    "# a. Decimal to Octal\n",
    "# b. Binary to Octal\n",
    "# c. Decimal to Hexadecimal\n",
    "# d. Binary to Hexadecimal\n",
    "# any combination you want "
   ]
  },
  {
   "cell_type": "code",
   "execution_count": null,
   "metadata": {},
   "outputs": [],
   "source": [
    "# Jan 24 2021\n",
    "for i in range(5):\n",
    "    print(i)\n",
    "    if i==7:\n",
    "        break\n",
    "else:\n",
    "    print(\"Thank You\")\n",
    "\n",
    "# else block will run only if the for loop doesnt break\n",
    "# break means breaking in between and not exiting the loop"
   ]
  },
  {
   "cell_type": "code",
   "execution_count": null,
   "metadata": {},
   "outputs": [],
   "source": [
    "n = [\"Amritraj\",\"Aviral\",\"Medhansh\",\"Rakshit\",\"Shaurya\"]\n",
    "for i in n:\n",
    "    if i==\"Shaurya\":\n",
    "        print(\"Ohh , I found it \")\n",
    "        break\n",
    "else:\n",
    "    print(\"I couldnt find\")"
   ]
  },
  {
   "cell_type": "code",
   "execution_count": null,
   "metadata": {},
   "outputs": [],
   "source": [
    "# enumerate is used to capture the index of loop\n",
    "city = [\"Delhi\",\"Mumbai\",\"London\",\"Sydney\",\"NewYork\"]\n",
    "index = 0\n",
    "for i in city:\n",
    "    print(i, index)\n",
    "    index=index+1"
   ]
  },
  {
   "cell_type": "code",
   "execution_count": null,
   "metadata": {},
   "outputs": [],
   "source": [
    "city = [\"Delhi\",\"Mumbai\",\"London\",\"Sydney\",\"NewYork\"]\n",
    "for index,name in enumerate(city):\n",
    "    print(name,\" is at the position \", index)"
   ]
  },
  {
   "cell_type": "code",
   "execution_count": null,
   "metadata": {},
   "outputs": [],
   "source": [
    "numbers = [100,200,95,76,78,39]\n",
    "for i,k in enumerate(numbers):\n",
    "    print(i,\"is the index\")\n",
    "    print(k,\"is the actual value\")\n",
    "# enumerate by default gives you index and value together"
   ]
  },
  {
   "cell_type": "code",
   "execution_count": null,
   "metadata": {},
   "outputs": [],
   "source": [
    "numbers = [100,200,95,76,78,39]\n",
    "for k in numbers:\n",
    "    print(numbers"
   ]
  },
  {
   "cell_type": "code",
   "execution_count": null,
   "metadata": {},
   "outputs": [],
   "source": [
    "d = {\"Name\":\"Sachin\", \"Address\":\"Delhi\", \"Age\":30}\n",
    "for k,v in d.items():\n",
    "    print(k,v)"
   ]
  },
  {
   "cell_type": "code",
   "execution_count": null,
   "metadata": {},
   "outputs": [],
   "source": [
    "d = {\"Name\":\"Sachin\", \"Address\":\"Delhi\", \"Age\":30}\n",
    "for k,key in enumerate(d):\n",
    "    print(k,key)"
   ]
  },
  {
   "cell_type": "code",
   "execution_count": null,
   "metadata": {},
   "outputs": [],
   "source": [
    "for i,s in enumerate(\"ThanksyouforvisitingDelhi\"):\n",
    "    print(i,s)"
   ]
  },
  {
   "cell_type": "code",
   "execution_count": null,
   "metadata": {},
   "outputs": [],
   "source": [
    "for i,c in enumerate(country, start=5):\n",
    "    print(i,c)\n",
    "# we can use start parameter to change the starting value of enumerate\n",
    "# default is 0 because Python is a 0 index language"
   ]
  },
  {
   "cell_type": "code",
   "execution_count": null,
   "metadata": {},
   "outputs": [],
   "source": [
    "# enumerate will work with iterables for eg list, dict, string"
   ]
  },
  {
   "cell_type": "code",
   "execution_count": null,
   "metadata": {},
   "outputs": [],
   "source": [
    "# zip\n",
    "combination=[]\n",
    "country = [\"India\",\"England\", \"Germany\",\"SriLanka\",\"Australia\"]\n",
    "city = [\"Delhi\", \"London\",\"Munich\",\"Colombo\"]\n",
    "for j in zip(country,city):\n",
    "    combination.append(j)\n",
    "print(combination)\n",
    "print(type(combination))"
   ]
  },
  {
   "cell_type": "code",
   "execution_count": null,
   "metadata": {},
   "outputs": [],
   "source": [
    "# Assignment # 1 is to use \"for-else\" within your own loop"
   ]
  },
  {
   "cell_type": "code",
   "execution_count": null,
   "metadata": {},
   "outputs": [],
   "source": [
    "# Assignment # 2 is to try enumerate with sets"
   ]
  },
  {
   "cell_type": "code",
   "execution_count": null,
   "metadata": {},
   "outputs": [],
   "source": [
    "# Jan 27th 2021"
   ]
  },
  {
   "cell_type": "code",
   "execution_count": null,
   "metadata": {},
   "outputs": [],
   "source": [
    "# Iterable & Iterators\n",
    "# Generators"
   ]
  },
  {
   "cell_type": "code",
   "execution_count": null,
   "metadata": {},
   "outputs": [],
   "source": [
    "# Iterable - it is a combination of items where we can iterate on.\n",
    "# It will start and end on its own and will not give flexibility for user choice\n",
    "\n",
    "# Iterator - it is a combination of items where we can iterate on but with our choice of iteration count.\n",
    "# It will not move ahead unless specified\n",
    "\n",
    "# Generator - putting iterator in a class or function with a yield keyword instead of return makes the function as generator"
   ]
  },
  {
   "cell_type": "code",
   "execution_count": null,
   "metadata": {},
   "outputs": [],
   "source": [
    "l = [1,2,3,4,5]\n",
    "for i in l:\n",
    "    print(i)"
   ]
  },
  {
   "cell_type": "code",
   "execution_count": null,
   "metadata": {},
   "outputs": [],
   "source": [
    "l = [1,2,3,4,5]\n",
    "print(type(l))\n",
    "print(dir(l))\n",
    "# dir means it will give directory or set of all functins which are created within it\n",
    "# list is a an iterable and it doesnt have a function called __next__\n",
    "# an iterator will have a function __next__"
   ]
  },
  {
   "cell_type": "code",
   "execution_count": null,
   "metadata": {},
   "outputs": [],
   "source": [
    "d = {\"name\":\"sachin\"}\n",
    "print(dir(d))"
   ]
  },
  {
   "cell_type": "code",
   "execution_count": null,
   "metadata": {},
   "outputs": [],
   "source": [
    "# making l as iterator\n",
    "n = l.__iter__()\n",
    "print(dir(n))\n",
    "print(type(n))"
   ]
  },
  {
   "cell_type": "code",
   "execution_count": null,
   "metadata": {},
   "outputs": [],
   "source": [
    "# definition of iterator\n",
    "# Technically, in Python, an iterator is an object which implements the iterator protocol\n",
    "# which consist of the methods __iter__() and __next__()"
   ]
  },
  {
   "cell_type": "code",
   "execution_count": null,
   "metadata": {},
   "outputs": [],
   "source": [
    "# In below example lets observe that usual return returns the value and\n",
    "# the function starts all over again when called again"
   ]
  },
  {
   "cell_type": "code",
   "execution_count": null,
   "metadata": {},
   "outputs": [],
   "source": [
    "def increment(n):\n",
    "    n = n + 10\n",
    "    print(\"First Time\")\n",
    "    return n # it returned and exited from here\n",
    "    \n",
    "    n = n + 100\n",
    "    print(\"Second Time\")\n",
    "    return n\n",
    "    \n",
    "i = increment(500)\n",
    "print(i)\n",
    "print(i)\n",
    "print(i)\n",
    "print(next(i))"
   ]
  },
  {
   "cell_type": "code",
   "execution_count": null,
   "metadata": {},
   "outputs": [],
   "source": [
    "# But if we use \"yield\" instead of \"return\", the function gets converted into generator"
   ]
  },
  {
   "cell_type": "code",
   "execution_count": null,
   "metadata": {},
   "outputs": [],
   "source": [
    "def increment(n):\n",
    "    n = n + 10\n",
    "    print(\"First Time\")\n",
    "    yield n\n",
    "    \n",
    "    n = n + 100\n",
    "    print(\"Second Time\")\n",
    "    yield n\n",
    "    \n",
    "    n=n*2\n",
    "    print(\"Third Time\")\n",
    "    yield n\n",
    "    \n",
    "i = increment(500)\n",
    "\n",
    "#print(i)\n",
    "print(next(i))\n",
    "print(next(i))\n",
    "print(next(i))\n",
    "\n",
    "# if we call next whenever the state is finished/completed, iterator/generator will raise Exception \"StopIteration\"\n",
    "# when we use generators, it creates __next__ and __iter__ on its own. We create genertors with the use of keyword \"yield\"\n",
    "# this varaible is now a generator which is helping us to control the values\n",
    "print(type(i))\n",
    "# print(type(increment))\n",
    "# yield will retirn but will memorize the state or the value of variable"
   ]
  },
  {
   "cell_type": "code",
   "execution_count": null,
   "metadata": {},
   "outputs": [],
   "source": [
    "class increment():\n",
    "    def __init__(self,s,e):\n",
    "        self.start = s\n",
    "        self.end = e\n",
    "    def __iter__():\n",
    "        return self\n",
    "    def prnt():\n",
    "        print()\n",
    "        print()\n",
    "    def __next__(self):\n",
    "        if self.start > self.end:\n",
    "            raise StopIteration\n",
    "        old = self.start\n",
    "        self.start+=10\n",
    "        return old\n",
    "\n",
    "i = increment(100,200)\n",
    "\n",
    "print(next(i))\n",
    "print(next(i))\n",
    "print(next(i))\n",
    "print(next(i))\n",
    "\n",
    "print(next(i))\n",
    "print(next(i))\n",
    "print(next(i))\n",
    "print(next(i))"
   ]
  },
  {
   "cell_type": "code",
   "execution_count": null,
   "metadata": {},
   "outputs": [],
   "source": [
    "class increment():\n",
    "    def __init__(self,s,e):\n",
    "        self.start = s\n",
    "        self.end = e\n",
    "    def __iter__():\n",
    "        return self\n",
    "    def prnt():\n",
    "        print()\n",
    "        print()\n",
    "    def __next__(self):\n",
    "        if self.start > self.end:\n",
    "            raise StopIteration\n",
    "        old = self.start\n",
    "        self.start+=10\n",
    "        return old\n",
    "\n",
    "i = increment(100,200)\n",
    "\n",
    "print(next(i))\n",
    "print(next(i))\n"
   ]
  },
  {
   "cell_type": "code",
   "execution_count": null,
   "metadata": {},
   "outputs": [],
   "source": [
    "def inc(l):\n",
    "    for i in l:\n",
    "        #print(i)\n",
    "        yield i\n",
    "\n",
    "l = [0,2,4,6,8]\n",
    "\n",
    "n = inc(l)\n",
    "print(next(n))\n",
    "print(next(n))\n",
    "print(next(n))\n",
    "print(type(n))"
   ]
  },
  {
   "cell_type": "code",
   "execution_count": null,
   "metadata": {},
   "outputs": [],
   "source": [
    "def inc(l):\n",
    "    for i in l:\n",
    "        print(\"from the loop\",i)\n",
    "    return i\n",
    "\n",
    "l = [0,2,4,6,8]\n",
    "\n",
    "n = inc(l)\n",
    "print(\"outside of loop\",n)"
   ]
  },
  {
   "cell_type": "code",
   "execution_count": null,
   "metadata": {},
   "outputs": [],
   "source": [
    "#There are 2 benefits of iterator\n",
    "#1. Gives flexibility to user. It remembers the state\n",
    "#2. Reduces/Optimizes memory"
   ]
  },
  {
   "cell_type": "code",
   "execution_count": null,
   "metadata": {},
   "outputs": [],
   "source": [
    "# Feb 06th 2021\n",
    "# Multithreading\n",
    "# making actions/functions work simultaneously"
   ]
  },
  {
   "cell_type": "code",
   "execution_count": null,
   "metadata": {},
   "outputs": [],
   "source": [
    "from threading import Thread"
   ]
  },
  {
   "cell_type": "code",
   "execution_count": null,
   "metadata": {},
   "outputs": [],
   "source": [
    "import time"
   ]
  },
  {
   "cell_type": "code",
   "execution_count": null,
   "metadata": {},
   "outputs": [],
   "source": [
    "def timer(name,delay,repeat):\n",
    "    print(\"Timer\" + name + \"Started\")\n",
    "    while repeat>0:\n",
    "        time.sleep(delay)\n",
    "        print(name + str(time.time()))\n",
    "        repeat=repeat-1\n",
    "    print(\"timer\"+name+\"completed\")\n",
    "    \n",
    "t1=Thread(target=timer,args=(\"Delhi\",1,5))\n",
    "t2=Thread(target=timer,args=(\"London\",1,5))\n",
    "t3=Thread(target=timer,args=(\"Sydney\",1,5))\n",
    "#t3 =Thread(target = functioname)\n",
    "t1.start()\n",
    "t2.start()\n",
    "t3.start()\n",
    "# timer(\"Delhi\",1,5)\n",
    "# timer(\"London\",1,5)\n",
    "# timer(\"Sydney\",1,5)\n",
    "print(\"Main Completed\")"
   ]
  },
  {
   "cell_type": "code",
   "execution_count": null,
   "metadata": {},
   "outputs": [],
   "source": [
    "print(time.time())"
   ]
  },
  {
   "cell_type": "code",
   "execution_count": null,
   "metadata": {},
   "outputs": [],
   "source": [
    "# Assignment is to use MultiThreading with any 3 different functions of your choice"
   ]
  },
  {
   "cell_type": "code",
   "execution_count": null,
   "metadata": {},
   "outputs": [],
   "source": [
    "# Feb 07th 2021\n",
    "# Python - Analytics, ML, Visualization\n",
    "# R - Analytics, ML, Visualization\n",
    "# HTML - Web based front end\n",
    "# Java - Desktop/Web based apps\n",
    "# Ruby - probably same as Python\n",
    "# CSS - Styling of front end\n",
    "# C, C++, C# - Most powerful and most widely used languages\n",
    "# C is non-OOP, C++ is OOP (classes and objects) and C# has lot of in built libraries for web based and desktop based events\n",
    "# C# and Java both are powerful but in India, usually people use C#\n",
    "# Javascript - Javascript is scripting language to do validations on front end\n",
    "# ASP - similar to Javascript but ASP is from Microsoft\n",
    "# Nodejs - Nodejas is server side scripting/validation. server is where you application is hosted/deployed\n",
    "# Php - similar to HTML\n",
    "# HLSL (High level shading language) - dont know\n",
    "# Markdown - dont know\n",
    "# Scala - language used on Big Data\n",
    "# Hadoop - Big data (intelligent way of storing data so that accessibility is faster)\n",
    "# Apache - Big Data (intelligent way of storing data so that accessibility is faster)\n",
    "# spark - langua eused on big data\n",
    "# PySpark - Python wrapper of Spark, Python used on Big Data\n",
    "# Swift - Mobile development language\n",
    "# Perl - \n",
    "\n",
    "# Databases\n",
    "# Oracle\n",
    "# SQL Server\n",
    "# MySQL\n",
    "# NoSQL\n",
    "# MongoDB\n",
    "# MariaDB\n",
    "# MS-Access\n",
    "# SQL -  Structured Query Language\n",
    "\n",
    "# APIs - what are APIs\n",
    "# we usually connect DBs with the help of Connection string (the string which you use to connect DB)\n",
    "# looking fopr price\n",
    "# calling customer serrvice\n",
    "# buying a car\n",
    "# we create connectiovitgy between multiple modules of application through URLs - https://carprice/get\n",
    "# Application Pagramming Interface\n",
    "\n",
    "\n",
    "# AI, ML, NLP, DL, CV"
   ]
  },
  {
   "cell_type": "code",
   "execution_count": null,
   "metadata": {},
   "outputs": [],
   "source": [
    "# Artificial Intelligence is a subject which talks about replicating human senses\n",
    "# Vision, Speech, Text\n",
    "# If these dimensions are around specific rules (if condition block) then it is NOT AI\n",
    "# AI > Deep Learning Algos > Computer Vision \n",
    "# AI > NLP > Natural language Processing > includes lot of processing on text\n",
    "# AI > Speech > Voce gets converted into Digital (PCM)\n",
    "\n",
    "# ML is field of predcition with the help of structured data\n",
    "# ML doesnt involbve images, text, speech\n",
    "# DL has based of ML"
   ]
  }
 ],
 "metadata": {
  "kernelspec": {
   "display_name": "Python 3 (ipykernel)",
   "language": "python",
   "name": "python3"
  },
  "language_info": {
   "codemirror_mode": {
    "name": "ipython",
    "version": 3
   },
   "file_extension": ".py",
   "mimetype": "text/x-python",
   "name": "python",
   "nbconvert_exporter": "python",
   "pygments_lexer": "ipython3",
   "version": "3.9.5"
  }
 },
 "nbformat": 4,
 "nbformat_minor": 4
}
