{
 "cells": [
  {
   "cell_type": "code",
   "execution_count": 1,
   "metadata": {},
   "outputs": [
    {
     "name": "stdin",
     "output_type": "stream",
     "text": [
      "How many stars do you want? 12\n"
     ]
    },
    {
     "name": "stdout",
     "output_type": "stream",
     "text": [
      "* * * * * * * * * * * * 12\n",
      "\n",
      "* * * * * * * * * * * 11\n",
      "\n",
      "* * * * * * * * * * 10\n",
      "\n",
      "* * * * * * * * * 9\n",
      "\n",
      "* * * * * * * * 8\n",
      "\n",
      "* * * * * * * 7\n",
      "\n",
      "* * * * * * 6\n",
      "\n",
      "* * * * * 5\n",
      "\n",
      "* * * * 4\n",
      "\n",
      "* * * 3\n",
      "\n",
      "* * 2\n",
      "\n",
      "* 1\n",
      "\n",
      "0\n",
      "\n"
     ]
    }
   ],
   "source": [
    "c = int(input(\"How many stars do you want?\"))\n",
    "\n",
    "for i in range(c+1):\n",
    "    for a in range(c):\n",
    "        print(\"*\" , end = \" \")\n",
    "    print(c)\n",
    "    print()\n",
    "    c = c - 1"
   ]
  },
  {
   "cell_type": "code",
   "execution_count": null,
   "metadata": {},
   "outputs": [],
   "source": []
  },
  {
   "cell_type": "code",
   "execution_count": null,
   "metadata": {},
   "outputs": [],
   "source": []
  },
  {
   "cell_type": "code",
   "execution_count": null,
   "metadata": {},
   "outputs": [],
   "source": []
  }
 ],
 "metadata": {
  "kernelspec": {
   "display_name": "Python 3",
   "language": "python",
   "name": "python3"
  },
  "language_info": {
   "codemirror_mode": {
    "name": "ipython",
    "version": 3
   },
   "file_extension": ".py",
   "mimetype": "text/x-python",
   "name": "python",
   "nbconvert_exporter": "python",
   "pygments_lexer": "ipython3",
   "version": "3.7.6"
  }
 },
 "nbformat": 4,
 "nbformat_minor": 4
}
