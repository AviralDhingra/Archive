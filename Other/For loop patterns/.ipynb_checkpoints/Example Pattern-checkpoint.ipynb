{
 "cells": [
  {
   "cell_type": "code",
   "execution_count": null,
   "metadata": {},
   "outputs": [],
   "source": [
    "# 'for loops' and patterns\n",
    "# this wil require you to know about nested for loops"
   ]
  },
  {
   "cell_type": "code",
   "execution_count": null,
   "metadata": {},
   "outputs": [],
   "source": [
    "n = int(input(\"How many maximum stars do you want? \"))\n",
    "\n",
    "for i in range(1 , n + 1 , 1):\n",
    "    for a in range(i):\n",
    "        print(\"*\" , end = \" \")\n",
    "    print(i)    "
   ]
  },
  {
   "cell_type": "code",
   "execution_count": 1,
   "metadata": {},
   "outputs": [
    {
     "name": "stdout",
     "output_type": "stream",
     "text": [
      "How many maximum stars do you want? 5\n",
      "* 1\n",
      "* * 2\n",
      "* * * 3\n",
      "* * * * 4\n",
      "* * * * * 5\n",
      "* * * * * 5\n",
      "* * * * 4\n",
      "* * * 3\n",
      "* * 2\n",
      "* 1\n"
     ]
    }
   ],
   "source": [
    "n = int(input(\"How many maximum stars do you want? \"))\n",
    "\n",
    "for i in range(1 , n + 1 , 1):\n",
    "    for a in range(i):\n",
    "        print(\"*\" , end = \" \")\n",
    "    print(i)\n",
    "\n",
    "for j in range(n , 0 , -1):\n",
    "    for c in range(j):\n",
    "        print(\"*\" , end = \" \")\n",
    "    print(j)"
   ]
  },
  {
   "cell_type": "code",
   "execution_count": null,
   "metadata": {},
   "outputs": [],
   "source": []
  }
 ],
 "metadata": {
  "kernelspec": {
   "display_name": "Python 3",
   "language": "python",
   "name": "python3"
  },
  "language_info": {
   "codemirror_mode": {
    "name": "ipython",
    "version": 3
   },
   "file_extension": ".py",
   "mimetype": "text/x-python",
   "name": "python",
   "nbconvert_exporter": "python",
   "pygments_lexer": "ipython3",
   "version": "3.8.3"
  }
 },
 "nbformat": 4,
 "nbformat_minor": 4
}
