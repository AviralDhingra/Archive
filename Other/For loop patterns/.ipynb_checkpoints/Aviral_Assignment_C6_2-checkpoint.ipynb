{
 "cells": [
  {
   "cell_type": "code",
   "execution_count": 23,
   "metadata": {},
   "outputs": [
    {
     "name": "stdout",
     "output_type": "stream",
     "text": [
      "* * * * * * * \n",
      "* * * * * \n",
      "* * * * \n",
      "* * \n"
     ]
    }
   ],
   "source": [
    "c = 7\n",
    "for i in range(4):\n",
    "    for a in range(c+6 , 0 , -2):\n",
    "        print(\"*\" , end = \" \")\n",
    "    print()\n",
    "    c = c - 3"
   ]
  },
  {
   "cell_type": "code",
   "execution_count": 1,
   "metadata": {},
   "outputs": [
    {
     "name": "stdout",
     "output_type": "stream",
     "text": [
      "* * * * * * * \n",
      "  * * * * * \n",
      "    * * * \n",
      "      * \n"
     ]
    }
   ],
   "source": [
    "c = 7\n",
    "for i in range(4):\n",
    "    for _ in range(i):\n",
    "        print(\" \" , end = \" \")\n",
    "    for _ in range(c , 0 , -1):\n",
    "        print(\"*\" , end = \" \")\n",
    "    print()\n",
    "    c = c - 2"
   ]
  },
  {
   "cell_type": "code",
   "execution_count": null,
   "metadata": {},
   "outputs": [],
   "source": []
  }
 ],
 "metadata": {
  "kernelspec": {
   "display_name": "Python 3",
   "language": "python",
   "name": "python3"
  },
  "language_info": {
   "codemirror_mode": {
    "name": "ipython",
    "version": 3
   },
   "file_extension": ".py",
   "mimetype": "text/x-python",
   "name": "python",
   "nbconvert_exporter": "python",
   "pygments_lexer": "ipython3",
   "version": "3.8.3"
  }
 },
 "nbformat": 4,
 "nbformat_minor": 4
}
