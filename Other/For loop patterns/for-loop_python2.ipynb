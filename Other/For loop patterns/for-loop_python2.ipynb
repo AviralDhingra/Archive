{
 "cells": [
  {
   "cell_type": "code",
   "execution_count": 5,
   "metadata": {},
   "outputs": [
    {
     "name": "stdin",
     "output_type": "stream",
     "text": [
      "Please give a number(preferably > 20): 30\n"
     ]
    },
    {
     "name": "stdout",
     "output_type": "stream",
     "text": [
      "1\n",
      "2\n",
      "3\n",
      "4\n",
      "5 10 15 20 25 30 35 40 45 50 \n",
      "6\n",
      "7\n",
      "8 16 24 32 40 48 56 64 72 80 \n",
      "9\n",
      "10 15 20 25 30 35 40 45 50 55 60 65 70 75 80 85 90 95 100 \n",
      "11\n",
      "12\n",
      "13\n",
      "14\n",
      "15 20 25 30 35 40 45 50 55 60 65 70 75 80 85 90 95 100 105 110 115 120 125 130 135 140 145 150 \n",
      "16 24 32 40 48 56 64 72 80 88 96 104 112 120 128 136 144 152 160 \n",
      "17\n",
      "18\n",
      "19\n",
      "20 25 30 35 40 45 50 55 60 65 70 75 80 85 90 95 100 105 110 115 120 125 130 135 140 145 150 155 160 165 170 175 180 185 190 195 200 \n",
      "21\n",
      "22\n",
      "23\n",
      "24 32 40 48 56 64 72 80 88 96 104 112 120 128 136 144 152 160 168 176 184 192 200 208 216 224 232 240 \n",
      "25 30 35 40 45 50 55 60 65 70 75 80 85 90 95 100 105 110 115 120 125 130 135 140 145 150 155 160 165 170 175 180 185 190 195 200 205 210 215 220 225 230 235 240 245 250 \n",
      "26\n",
      "27\n",
      "28\n",
      "29\n"
     ]
    }
   ],
   "source": [
    "inp = int(input(\"Please give a number(preferably > 20):\"))\n",
    "\n",
    "for i in range(1 , inp , 1):\n",
    "    c = i*10\n",
    "    if (i%5 == 0):\n",
    "        for n in range(i , c+1 , 5):\n",
    "            print(n , end = \" \")\n",
    "        print()\n",
    "    elif (i%8 == 0):\n",
    "        for g in range(i , c+1 , 8):\n",
    "            print(g , end = \" \")\n",
    "        print()\n",
    "    else :\n",
    "        print(i)  "
   ]
  },
  {
   "cell_type": "code",
   "execution_count": null,
   "metadata": {},
   "outputs": [],
   "source": []
  }
 ],
 "metadata": {
  "kernelspec": {
   "display_name": "Python 3",
   "language": "python",
   "name": "python3"
  },
  "language_info": {
   "codemirror_mode": {
    "name": "ipython",
    "version": 3
   },
   "file_extension": ".py",
   "mimetype": "text/x-python",
   "name": "python",
   "nbconvert_exporter": "python",
   "pygments_lexer": "ipython3",
   "version": "3.7.6"
  }
 },
 "nbformat": 4,
 "nbformat_minor": 4
}
