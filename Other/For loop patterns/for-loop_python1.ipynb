{
 "cells": [
  {
   "cell_type": "code",
   "execution_count": 1,
   "metadata": {},
   "outputs": [
    {
     "name": "stdin",
     "output_type": "stream",
     "text": [
      "Please enter how many even numbers you want to print ::  10\n"
     ]
    },
    {
     "name": "stdout",
     "output_type": "stream",
     "text": [
      "2\n",
      "4 (I am divisible by 4)\n",
      "6\n",
      "8 (I am divisible by 4)\n",
      "10\n",
      "12 (I am divisible by 4)\n",
      "14\n",
      "16 (I am divisible by 4)\n",
      "18\n",
      "20 (I am divisible by 4)\n"
     ]
    }
   ],
   "source": [
    "inp = int(input(\"Please enter how many even numbers you want to print :: \"))\n",
    "c = 0\n",
    "for i in range(inp):\n",
    "    c=c+2\n",
    "    remainder = c % 4\n",
    "    if (remainder == 0):\n",
    "        print(c , \"(I am divisible by 4)\")\n",
    "    else :\n",
    "        print(c)"
   ]
  },
  {
   "cell_type": "code",
   "execution_count": null,
   "metadata": {},
   "outputs": [],
   "source": []
  }
 ],
 "metadata": {
  "kernelspec": {
   "display_name": "Python 3",
   "language": "python",
   "name": "python3"
  },
  "language_info": {
   "codemirror_mode": {
    "name": "ipython",
    "version": 3
   },
   "file_extension": ".py",
   "mimetype": "text/x-python",
   "name": "python",
   "nbconvert_exporter": "python",
   "pygments_lexer": "ipython3",
   "version": "3.7.6"
  }
 },
 "nbformat": 4,
 "nbformat_minor": 4
}
