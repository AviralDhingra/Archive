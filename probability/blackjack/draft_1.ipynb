{
 "cells": [
  {
   "cell_type": "code",
   "execution_count": 3,
   "metadata": {},
   "outputs": [],
   "source": [
    "# Importing\n",
    "import itertools"
   ]
  },
  {
   "cell_type": "code",
   "execution_count": 4,
   "metadata": {},
   "outputs": [
    {
     "data": {
      "text/plain": [
       "{1: 4, 2: 4, 3: 4, 4: 4, 5: 4, 6: 4, 7: 4, 8: 4, 9: 4, 10: 16}"
      ]
     },
     "execution_count": 4,
     "metadata": {},
     "output_type": "execute_result"
    }
   ],
   "source": [
    "# Creating A Deck\n",
    "deck = {}\n",
    "for i in range(1, 10):\n",
    "    deck[i] = 4\n",
    "deck[10] = 4*4 # Each Number has 4 same value cards & all faces (3: k, q, k) + 10 is considered 10\n",
    "\n",
    "deck"
   ]
  },
  {
   "cell_type": "code",
   "execution_count": 5,
   "metadata": {},
   "outputs": [
    {
     "name": "stdout",
     "output_type": "stream",
     "text": [
      "Total Cards: 52\n"
     ]
    }
   ],
   "source": [
    "# Counting The Individual Cards\n",
    "cards = []\n",
    "for i in range(1, len(deck)+1):\n",
    "    values = list(deck.keys())\n",
    "    for j in range(deck[i]):\n",
    "        cards.append(values[i-1])\n",
    "        \n",
    "print(f'Total Cards: {len(cards)}')"
   ]
  },
  {
   "cell_type": "code",
   "execution_count": null,
   "metadata": {},
   "outputs": [],
   "source": [
    "# Getting All Combinations Possible Of the Cards That Can Be Drawn\n",
    "all_combinations = []\n",
    "for L in range(0, len(cards)+1):\n",
    "    for subset in itertools.combinations(cards, L):\n",
    "        all_combinations.append(subset)"
   ]
  },
  {
   "cell_type": "code",
   "execution_count": null,
   "metadata": {},
   "outputs": [],
   "source": [
    "# ALl Possible Combinations For Achieving 21\n",
    "sum_c = 0\n",
    "for x in range(len(cards)):\n",
    "    if sum_c == 21:\n",
    "        status = 'Black Jack (21)'\n",
    "    elif sum_c > 21:\n",
    "        status = 'Bust (>21)'\n",
    "    elif sum_c < 21:\n",
    "        sum_c += cards[x]\n",
    "    if status:\n",
    "        print(status)\n",
    "        break\n",
    "    else:\n",
    "        pass"
   ]
  },
  {
   "cell_type": "code",
   "execution_count": null,
   "metadata": {},
   "outputs": [],
   "source": []
  }
 ],
 "metadata": {
  "interpreter": {
   "hash": "42a423a2e38fb08643bb7a26605e6bd5d16e17cc033b19aeae01023eda4071c6"
  },
  "kernelspec": {
   "display_name": "Python 3.9.7 64-bit ('probability-110iVl0z': pipenv)",
   "name": "python3"
  },
  "language_info": {
   "codemirror_mode": {
    "name": "ipython",
    "version": 3
   },
   "file_extension": ".py",
   "mimetype": "text/x-python",
   "name": "python",
   "nbconvert_exporter": "python",
   "pygments_lexer": "ipython3",
   "version": "3.9.7"
  },
  "orig_nbformat": 4
 },
 "nbformat": 4,
 "nbformat_minor": 2
}
