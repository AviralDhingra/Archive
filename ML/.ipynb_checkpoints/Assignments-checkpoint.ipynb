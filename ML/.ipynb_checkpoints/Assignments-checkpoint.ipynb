{
 "cells": [
  {
   "cell_type": "code",
   "execution_count": null,
   "metadata": {},
   "outputs": [],
   "source": [
    ">>> a = np.random.rand(8,13,13)\n",
    ">>> b = np.random.rand(8,13,13)\n",
    "print(np.shape(a@b))\n",
    "print(np.shape(np.matmul(a, b)))"
   ]
  },
  {
   "cell_type": "code",
   "execution_count": null,
   "metadata": {},
   "outputs": [],
   "source": [
    "np.shape(c)"
   ]
  },
  {
   "cell_type": "code",
   "execution_count": null,
   "metadata": {},
   "outputs": [],
   "source": [
    "np.shape(d)"
   ]
  },
  {
   "cell_type": "code",
   "execution_count": null,
   "metadata": {},
   "outputs": [],
   "source": [
    "print(np.shape(e))\n",
    "e"
   ]
  },
  {
   "cell_type": "code",
   "execution_count": null,
   "metadata": {},
   "outputs": [],
   "source": [
    "a = np.random.rand(2,3,3)\n",
    "b = np.random.rand(2,3,3)\n",
    "c = (a@b)\n",
    "d = np.dot(a,b)\n",
    "e = np.matmul(a,b)"
   ]
  },
  {
   "cell_type": "markdown",
   "metadata": {},
   "source": [
    "## ----------------------------------------------------------------------------------------------------------------------------------"
   ]
  },
  {
   "cell_type": "code",
   "execution_count": null,
   "metadata": {},
   "outputs": [],
   "source": [
    "# Assignment # 1\n",
    "# Create a 4 dimensional array and experiment to access various different values\n",
    "\n",
    "# Assignment # 2\n",
    "# Download \"medical insurance claim fraud.csv\" from kaggle.com\n",
    "# Create DataFrame from this downloaded csv\n",
    "\n",
    "# Assignment # 3\n",
    "# Create DataFrame from any of your existing SQL Server table "
   ]
  },
  {
   "cell_type": "code",
   "execution_count": null,
   "metadata": {},
   "outputs": [],
   "source": [
    "array = np.array([[[[1, 2, 3], [20, 57, 78]], [[20, 8, 39], [58, 47, 81]], [[52,63, 45], [89, 96 ,12]]], [[1, 2, 3], [20, 57, 78]], [[20, 8, 39], [58, 47, 81]], [[52,63, 45], [89, 96 ,12]] ], [[1, 2, 3], [20, 57, 78]], [[20, 8, 39], [58, 47, 81]], [[52,63, 45], [89, 96 ,12]]]) "
   ]
  },
  {
   "cell_type": "code",
   "execution_count": null,
   "metadata": {},
   "outputs": [],
   "source": [
    "array = np.array([[[[1,2,3] , [5,6,7]], [[1,2,3] , [5,6,7]], [[1,2,3] , [5,6,7]], [[1,2,3] , [5,6,7]]], [[[1,2,3] , [5,6,7]], [[1,2,3] , [5,6,7]], [[1,2,3] , [5,6,7]], [[1,2,3] , [5,6,7]]]])"
   ]
  },
  {
   "cell_type": "code",
   "execution_count": null,
   "metadata": {},
   "outputs": [],
   "source": [
    "print(np.shape(array))\n",
    "array"
   ]
  },
  {
   "cell_type": "code",
   "execution_count": null,
   "metadata": {},
   "outputs": [],
   "source": [
    "#########################################################################################################################"
   ]
  },
  {
   "cell_type": "code",
   "execution_count": null,
   "metadata": {},
   "outputs": [],
   "source": [
    "import numpy as np\n",
    "import pandas as pd"
   ]
  },
  {
   "cell_type": "code",
   "execution_count": null,
   "metadata": {},
   "outputs": [],
   "source": [
    "df = pd.read_csv(r\"medical_aid_claims.csv\")"
   ]
  },
  {
   "cell_type": "code",
   "execution_count": null,
   "metadata": {},
   "outputs": [],
   "source": [
    "df"
   ]
  },
  {
   "cell_type": "code",
   "execution_count": null,
   "metadata": {},
   "outputs": [],
   "source": [
    "df.shape"
   ]
  },
  {
   "cell_type": "code",
   "execution_count": null,
   "metadata": {},
   "outputs": [],
   "source": [
    "#########################################################################################################################"
   ]
  },
  {
   "cell_type": "code",
   "execution_count": null,
   "metadata": {},
   "outputs": [],
   "source": [
    "# how to get data from sql server\n",
    "import pyodbc\n",
    "server = 'DESKTOP-OLDBM90\\SQLEXPRESS'\n",
    "dbname = 'try_db'\n",
    "cn = pyodbc.connect('DRIVER={ODBC Driver 17 for SQL Server}; SERVER= ' + server + ';DATABASE='+ dbname + ' ;Trusted_Connection=yes;')\n",
    "crsr = cn.cursor()\n",
    "\n",
    "qry='select * from table_1'\n",
    "\n",
    "query = pd.read_sql_query(qry,cn)\n",
    "\n",
    "df = pd.DataFrame(query,columns=['Name','Age','Matches','Country'])\n",
    "\n",
    "print(df)\n",
    "cn.close()"
   ]
  },
  {
   "cell_type": "markdown",
   "metadata": {},
   "source": [
    "## ----------------------------------------------------------------------------------------------------------------------------------"
   ]
  },
  {
   "cell_type": "code",
   "execution_count": null,
   "metadata": {},
   "outputs": [],
   "source": [
    "# Assignment # 1\n",
    "# Create a Pandas DataFrame from Numpy array which you have created in earlier assignment"
   ]
  },
  {
   "cell_type": "code",
   "execution_count": null,
   "metadata": {},
   "outputs": [],
   "source": [
    "import numpy as np\n",
    "import pandas as pd"
   ]
  },
  {
   "cell_type": "code",
   "execution_count": null,
   "metadata": {},
   "outputs": [],
   "source": [
    "array = np.array([[[[1,2,3] , [5,6,7]], [[1,2,3] , [5,6,7]], [[1,2,3] , [5,6,7]], [[1,2,3] , [5,6,7]]], [[[1,2,3] , [5,6,7]], [[1,2,3] , [5,6,7]], [[1,2,3] , [5,6,7]], [[1,2,3] , [5,6,7]]]])\n",
    "print(np.shape(array))\n",
    "print()\n",
    "print(array)"
   ]
  },
  {
   "cell_type": "code",
   "execution_count": null,
   "metadata": {},
   "outputs": [],
   "source": [
    "# Error : The Normal Way Does Not Work With Anything More Than A 2D Array\n",
    "\n",
    "\"\"\"\n",
    "a_df = pd.DataFrame(array)\n",
    "a_df = pd.DataFrame(array, columns = ['w', 'x', 'y', 'z'])\n",
    "\"\"\"\n",
    "im = array\n",
    "arr = np.column_stack(list(map(np.ravel, np.meshgrid(*map(np.arange, im.shape), indexing=\"ij\"))) + [im.ravel()])\n",
    "pd.DataFrame(arr, columns = ['mode', 'x', 'y', 'z', 'val'])\n",
    "\n"
   ]
  },
  {
   "cell_type": "code",
   "execution_count": null,
   "metadata": {},
   "outputs": [],
   "source": [
    "df"
   ]
  },
  {
   "cell_type": "code",
   "execution_count": null,
   "metadata": {},
   "outputs": [],
   "source": [
    "array_2d = np.array([[1, 2], [3, 4]])\n",
    "print(np.shape(array_2d))\n",
    "print()\n",
    "print(array_2d)"
   ]
  },
  {
   "cell_type": "code",
   "execution_count": null,
   "metadata": {},
   "outputs": [],
   "source": [
    "a2d_df = pd.DataFrame(array_2d)\n",
    "a2d_df"
   ]
  },
  {
   "cell_type": "code",
   "execution_count": null,
   "metadata": {},
   "outputs": [],
   "source": [
    "a2d_df = pd.DataFrame(array_2d, columns=['C1', 'C2'])\n",
    "a2d_df"
   ]
  },
  {
   "cell_type": "code",
   "execution_count": null,
   "metadata": {},
   "outputs": [],
   "source": [
    "# Assignment # 2\n",
    "# Study and reasearch online for the difference between .loc and .iloc\n",
    "\n",
    "\"\"\"\n",
    "Loc is label-based, which means that you have to specify rows and columns based on their row and column labels (Strings)\n",
    "                                                                                                \n",
    "Iloc is integer position-based, so you have to specify rows and columns by their integer position values (Integer)\n",
    "\"\"\""
   ]
  },
  {
   "cell_type": "code",
   "execution_count": null,
   "metadata": {},
   "outputs": [],
   "source": [
    "# Assignment # 3\n",
    "# Practice multiple conditions on the dataset which you have downloaded - with and , or , ~"
   ]
  },
  {
   "cell_type": "code",
   "execution_count": null,
   "metadata": {},
   "outputs": [],
   "source": [
    "# Loading DataBase\n",
    "\n",
    "df = pd.read_csv(r\"medical_aid_claims.csv\")\n",
    "pd.set_option(\"display.max_columns\",100)\n",
    "df.head()"
   ]
  },
  {
   "cell_type": "code",
   "execution_count": null,
   "metadata": {},
   "outputs": [],
   "source": [
    "age_premium_filter = (df[\"number_of_claims\"] > 1) & (df[\"cause\"] == \"other\")\n",
    "df[age_premium_filter]"
   ]
  },
  {
   "cell_type": "code",
   "execution_count": null,
   "metadata": {},
   "outputs": [],
   "source": [
    "age_filter = (df[\"number_of_claims\"] > 1) | (df[\"employer\"] == \"Vipe\")\n",
    "df[age_filter]"
   ]
  },
  {
   "cell_type": "code",
   "execution_count": null,
   "metadata": {},
   "outputs": [],
   "source": [
    "filter_state = df[\"gender\"] == \"male\"\n",
    "df[~filter_state]"
   ]
  },
  {
   "cell_type": "code",
   "execution_count": null,
   "metadata": {},
   "outputs": [],
   "source": []
  }
 ],
 "metadata": {
  "kernelspec": {
   "display_name": "Python 3",
   "language": "python",
   "name": "python3"
  },
  "language_info": {
   "codemirror_mode": {
    "name": "ipython",
    "version": 3
   },
   "file_extension": ".py",
   "mimetype": "text/x-python",
   "name": "python",
   "nbconvert_exporter": "python",
   "pygments_lexer": "ipython3",
   "version": "3.8.5"
  }
 },
 "nbformat": 4,
 "nbformat_minor": 4
}
