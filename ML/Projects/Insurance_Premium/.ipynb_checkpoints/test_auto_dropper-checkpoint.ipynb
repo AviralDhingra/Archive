{
 "cells": [
  {
   "cell_type": "code",
   "execution_count": null,
   "id": "3b73cf3f",
   "metadata": {},
   "outputs": [],
   "source": [
    "def auto_dropper(data, manual=True):\n",
    "    data = data\n",
    "    print(data)\n",
    "    print(type(data))"
   ]
  },
  {
   "cell_type": "code",
   "execution_count": null,
   "id": "2abc959c",
   "metadata": {},
   "outputs": [],
   "source": [
    "auto_dropper(data)"
   ]
  },
  {
   "cell_type": "code",
   "execution_count": null,
   "id": "bf19477b",
   "metadata": {},
   "outputs": [],
   "source": [
    "import itertools\n",
    "a = [['age', 'gender', 'bmi', 'children', 'smoker', 'region']]\n",
    "list(itertools.product(*a))"
   ]
  },
  {
   "cell_type": "code",
   "execution_count": null,
   "id": "a191c204",
   "metadata": {},
   "outputs": [],
   "source": [
    "import itertools\n",
    "a = [['age'], ['gender'], ['bmi'], ['children'], ['smoker'], ['region']]\n",
    "list(itertools.product(*a))"
   ]
  },
  {
   "cell_type": "code",
   "execution_count": null,
   "id": "5ccde0dd",
   "metadata": {},
   "outputs": [],
   "source": [
    "def permutations(iterable, r=None):\n",
    "    # permutations('ABCD', 2) --> AB AC AD BA BC BD CA CB CD DA DB DC\n",
    "    # permutations(range(3)) --> 012 021 102 120 201 210\n",
    "    pool = tuple(iterable)\n",
    "    n = len(pool)\n",
    "    r = n if r is None else r\n",
    "    if r > n:\n",
    "        return\n",
    "    indices = list(range(n))\n",
    "    cycles = range(n, n-r, -1)\n",
    "    yield tuple(pool[i] for i in indices[:r])\n",
    "    while n:\n",
    "        for i in reversed(range(r)):\n",
    "            cycles[i] -= 1\n",
    "            if cycles[i] == 0:\n",
    "                indices[i:] = indices[i+1:] + indices[i:i+1]\n",
    "                cycles[i] = n - i\n",
    "            else:\n",
    "                j = cycles[i]\n",
    "                indices[i], indices[-j] = indices[-j], indices[i]\n",
    "                yield tuple(pool[i] for i in indices[:r])\n",
    "                break\n",
    "        else:\n",
    "            return"
   ]
  },
  {
   "cell_type": "code",
   "execution_count": null,
   "id": "7296fd2c",
   "metadata": {},
   "outputs": [],
   "source": [
    "v = permutations(['age', 'gender', 'bmi', 'children', 'smoker', 'region'], 1)"
   ]
  },
  {
   "cell_type": "code",
   "execution_count": null,
   "id": "50e6927a",
   "metadata": {},
   "outputs": [],
   "source": [
    "print(v)"
   ]
  },
  {
   "cell_type": "code",
   "execution_count": null,
   "id": "b9c874e9",
   "metadata": {},
   "outputs": [],
   "source": [
    "a = ['age']\n",
    "b = ['gender']\n",
    "c = ['bmi']\n",
    "d = ['children']\n",
    "e = ['smoker']\n",
    "f = ['region']"
   ]
  },
  {
   "cell_type": "code",
   "execution_count": null,
   "id": "dd36b802",
   "metadata": {},
   "outputs": [],
   "source": [
    "z = list(itertools.product(a, b, c, d, e, f))"
   ]
  },
  {
   "cell_type": "code",
   "execution_count": null,
   "id": "290d212c",
   "metadata": {},
   "outputs": [],
   "source": [
    "print(z)\n",
    "print(type(z))"
   ]
  },
  {
   "cell_type": "code",
   "execution_count": null,
   "id": "52ad57df",
   "metadata": {},
   "outputs": [],
   "source": [
    "all_combinations = [list(zip(each_permutation, list2)) for each_permutation in itertools.permutations(list1, len(list2))]"
   ]
  },
  {
   "cell_type": "code",
   "execution_count": null,
   "id": "67614c72",
   "metadata": {},
   "outputs": [],
   "source": [
    "def combinations(iterable, r):\n",
    "    pool = tuple(iterable)\n",
    "    n = len(pool)\n",
    "    for indices in permutations(range(n), r):\n",
    "        if sorted(indices) == list(indices):\n",
    "            yield tuple(pool[i] for i in indices)\n",
    "    return iterable"
   ]
  },
  {
   "cell_type": "code",
   "execution_count": null,
   "id": "21f29254",
   "metadata": {},
   "outputs": [],
   "source": [
    "v = combinations(['age', 'gender', 'bmi', 'children', 'smoker', 'region'], 1)"
   ]
  },
  {
   "cell_type": "code",
   "execution_count": null,
   "id": "30bd8fbf",
   "metadata": {},
   "outputs": [],
   "source": [
    "print(v)\n",
    "print(type(v))"
   ]
  },
  {
   "cell_type": "code",
   "execution_count": null,
   "id": "63192267",
   "metadata": {},
   "outputs": [],
   "source": [
    "l = ['age', 'gender', 'bmi', 'children', 'smoker', 'region']\n",
    "# 012 => 0, 1, 2, 01, 02, 12\n",
    "\n",
    "for x in range(0, len(l)):\n",
    "    for i in range(0, len(l[x:])):\n",
    "        for j in range(0, i):\n",
    "            print(l[j])\n",
    "        print(\"\\n\")"
   ]
  },
  {
   "cell_type": "code",
   "execution_count": null,
   "id": "08541012",
   "metadata": {},
   "outputs": [],
   "source": [
    "for x in range(0, len(l)):\n",
    "    for i in range(0, x+1):\n",
    "        for j in range(0, i):\n",
    "            print(l[j])\n",
    "        print(\"\\n\")"
   ]
  },
  {
   "cell_type": "code",
   "execution_count": null,
   "id": "2723cfbb",
   "metadata": {},
   "outputs": [],
   "source": [
    "for x in range(1, len(l)):\n",
    "    for i in range(0, x+1):\n",
    "        for j in range(0, i):\n",
    "            print(l[j])\n",
    "        print(\"\\n\")"
   ]
  },
  {
   "cell_type": "code",
   "execution_count": null,
   "id": "1d3845d8",
   "metadata": {},
   "outputs": [],
   "source": [
    "l = ['age', 'gender', 'bmi', 'children', 'smoker', 'region']\n",
    "\n",
    "for x in range(0, len(l)):\n",
    "    for i in range(x, len(l)):\n",
    "        for j in range(0, i):\n",
    "            print(l[j])\n",
    "        print(\"\\n\")"
   ]
  },
  {
   "cell_type": "code",
   "execution_count": 6,
   "id": "f2a0138c",
   "metadata": {},
   "outputs": [
    {
     "name": "stdout",
     "output_type": "stream",
     "text": [
      "\n",
      "\n",
      "age\n",
      "\n",
      "\n",
      "age\n",
      "gender\n",
      "\n",
      "\n",
      "age\n",
      "gender\n",
      "bmi\n",
      "\n",
      "\n",
      "age\n",
      "gender\n",
      "bmi\n",
      "children\n",
      "\n",
      "\n",
      "age\n",
      "gender\n",
      "bmi\n",
      "children\n",
      "smoker\n",
      "\n",
      "\n",
      "age\n",
      "gender\n",
      "bmi\n",
      "children\n",
      "smoker\n",
      "region\n",
      "\n",
      "\n",
      "\n",
      "\n",
      "gender\n",
      "\n",
      "\n",
      "gender\n",
      "bmi\n",
      "\n",
      "\n",
      "gender\n",
      "bmi\n",
      "children\n",
      "\n",
      "\n",
      "gender\n",
      "bmi\n",
      "children\n",
      "smoker\n",
      "\n",
      "\n",
      "gender\n",
      "bmi\n",
      "children\n",
      "smoker\n",
      "region\n",
      "\n",
      "\n",
      "\n",
      "\n",
      "bmi\n",
      "\n",
      "\n",
      "bmi\n",
      "children\n",
      "\n",
      "\n",
      "bmi\n",
      "children\n",
      "smoker\n",
      "\n",
      "\n",
      "bmi\n",
      "children\n",
      "smoker\n",
      "region\n",
      "\n",
      "\n",
      "\n",
      "\n",
      "children\n",
      "\n",
      "\n",
      "children\n",
      "smoker\n",
      "\n",
      "\n",
      "children\n",
      "smoker\n",
      "region\n",
      "\n",
      "\n",
      "\n",
      "\n",
      "smoker\n",
      "\n",
      "\n",
      "smoker\n",
      "region\n",
      "\n",
      "\n",
      "\n",
      "\n",
      "region\n",
      "\n",
      "\n"
     ]
    }
   ],
   "source": [
    "l = ['age', 'gender', 'bmi', 'children', 'smoker', 'region']\n",
    "for x in range(0, len(l)):\n",
    "#     print(x)\n",
    "    for i in range(x, len(l)+1):\n",
    "            for j in range(x, i):\n",
    "                print(l[j])\n",
    "#                 print(x)\n",
    "#             print(x)\n",
    "            print(\"\\n\")\n",
    "#     i = 0\n",
    "#     j = 0"
   ]
  },
  {
   "cell_type": "code",
   "execution_count": null,
   "id": "d647df23",
   "metadata": {},
   "outputs": [],
   "source": [
    "len(l)"
   ]
  },
  {
   "cell_type": "code",
   "execution_count": 7,
   "id": "cd72f171",
   "metadata": {},
   "outputs": [
    {
     "name": "stdout",
     "output_type": "stream",
     "text": [
      "\n",
      "\n",
      "0\n",
      "\n",
      "\n",
      "0\n",
      "1\n",
      "\n",
      "\n",
      "0\n",
      "1\n",
      "2\n",
      "\n",
      "\n",
      "0\n",
      "1\n",
      "2\n",
      "3\n",
      "\n",
      "\n",
      "0\n",
      "1\n",
      "2\n",
      "3\n",
      "4\n",
      "\n",
      "\n",
      "\n",
      "\n",
      "1\n",
      "\n",
      "\n",
      "1\n",
      "2\n",
      "\n",
      "\n",
      "1\n",
      "2\n",
      "3\n",
      "\n",
      "\n",
      "1\n",
      "2\n",
      "3\n",
      "4\n",
      "\n",
      "\n",
      "\n",
      "\n",
      "2\n",
      "\n",
      "\n",
      "2\n",
      "3\n",
      "\n",
      "\n",
      "2\n",
      "3\n",
      "4\n",
      "\n",
      "\n",
      "\n",
      "\n",
      "3\n",
      "\n",
      "\n",
      "3\n",
      "4\n",
      "\n",
      "\n",
      "\n",
      "\n",
      "4\n",
      "\n",
      "\n"
     ]
    }
   ],
   "source": [
    "l = [0, 1, 2, 3, 4]\n",
    "for x in range(0, len(l)):\n",
    "#     print(x)\n",
    "    for i in range(x, len(l)+1):\n",
    "            for j in range(x, i):\n",
    "                print(l[j])\n",
    "#                 print(x)\n",
    "#             print(x)\n",
    "            print(\"\\n\")\n",
    "#     i = 0\n",
    "#     j = 0"
   ]
  },
  {
   "cell_type": "code",
   "execution_count": 10,
   "id": "a37f1d7b",
   "metadata": {},
   "outputs": [
    {
     "name": "stdout",
     "output_type": "stream",
     "text": [
      "()\n",
      "('age',)\n",
      "('gender',)\n",
      "('bmi',)\n",
      "('children',)\n",
      "('smoker',)\n",
      "('region',)\n",
      "('age', 'gender')\n",
      "('age', 'bmi')\n",
      "('age', 'children')\n",
      "('age', 'smoker')\n",
      "('age', 'region')\n",
      "('gender', 'bmi')\n",
      "('gender', 'children')\n",
      "('gender', 'smoker')\n",
      "('gender', 'region')\n",
      "('bmi', 'children')\n",
      "('bmi', 'smoker')\n",
      "('bmi', 'region')\n",
      "('children', 'smoker')\n",
      "('children', 'region')\n",
      "('smoker', 'region')\n",
      "('age', 'gender', 'bmi')\n",
      "('age', 'gender', 'children')\n",
      "('age', 'gender', 'smoker')\n",
      "('age', 'gender', 'region')\n",
      "('age', 'bmi', 'children')\n",
      "('age', 'bmi', 'smoker')\n",
      "('age', 'bmi', 'region')\n",
      "('age', 'children', 'smoker')\n",
      "('age', 'children', 'region')\n",
      "('age', 'smoker', 'region')\n",
      "('gender', 'bmi', 'children')\n",
      "('gender', 'bmi', 'smoker')\n",
      "('gender', 'bmi', 'region')\n",
      "('gender', 'children', 'smoker')\n",
      "('gender', 'children', 'region')\n",
      "('gender', 'smoker', 'region')\n",
      "('bmi', 'children', 'smoker')\n",
      "('bmi', 'children', 'region')\n",
      "('bmi', 'smoker', 'region')\n",
      "('children', 'smoker', 'region')\n",
      "('age', 'gender', 'bmi', 'children')\n",
      "('age', 'gender', 'bmi', 'smoker')\n",
      "('age', 'gender', 'bmi', 'region')\n",
      "('age', 'gender', 'children', 'smoker')\n",
      "('age', 'gender', 'children', 'region')\n",
      "('age', 'gender', 'smoker', 'region')\n",
      "('age', 'bmi', 'children', 'smoker')\n",
      "('age', 'bmi', 'children', 'region')\n",
      "('age', 'bmi', 'smoker', 'region')\n",
      "('age', 'children', 'smoker', 'region')\n",
      "('gender', 'bmi', 'children', 'smoker')\n",
      "('gender', 'bmi', 'children', 'region')\n",
      "('gender', 'bmi', 'smoker', 'region')\n",
      "('gender', 'children', 'smoker', 'region')\n",
      "('bmi', 'children', 'smoker', 'region')\n",
      "('age', 'gender', 'bmi', 'children', 'smoker')\n",
      "('age', 'gender', 'bmi', 'children', 'region')\n",
      "('age', 'gender', 'bmi', 'smoker', 'region')\n",
      "('age', 'gender', 'children', 'smoker', 'region')\n",
      "('age', 'bmi', 'children', 'smoker', 'region')\n",
      "('gender', 'bmi', 'children', 'smoker', 'region')\n",
      "('age', 'gender', 'bmi', 'children', 'smoker', 'region')\n"
     ]
    }
   ],
   "source": [
    "import itertools\n",
    "\n",
    "\n",
    "for L in range(0, len(stuff)+1):\n",
    "    for subset in itertools.combinations(stuff, L):\n",
    "        print(subset)"
   ]
  },
  {
   "cell_type": "code",
   "execution_count": 13,
   "id": "f508e3b7",
   "metadata": {},
   "outputs": [
    {
     "name": "stdout",
     "output_type": "stream",
     "text": [
      "()\n",
      "('age',)\n",
      "('gender',)\n",
      "('bmi',)\n",
      "('children',)\n",
      "('smoker',)\n",
      "('region',)\n",
      "('age', 'gender')\n",
      "('age', 'bmi')\n",
      "('age', 'children')\n",
      "('age', 'smoker')\n",
      "('age', 'region')\n",
      "('gender', 'bmi')\n",
      "('gender', 'children')\n",
      "('gender', 'smoker')\n",
      "('gender', 'region')\n",
      "('bmi', 'children')\n",
      "('bmi', 'smoker')\n",
      "('bmi', 'region')\n",
      "('children', 'smoker')\n",
      "('children', 'region')\n",
      "('smoker', 'region')\n",
      "('age', 'gender', 'bmi')\n",
      "('age', 'gender', 'children')\n",
      "('age', 'gender', 'smoker')\n",
      "('age', 'gender', 'region')\n",
      "('age', 'bmi', 'children')\n",
      "('age', 'bmi', 'smoker')\n",
      "('age', 'bmi', 'region')\n",
      "('age', 'children', 'smoker')\n",
      "('age', 'children', 'region')\n",
      "('age', 'smoker', 'region')\n",
      "('gender', 'bmi', 'children')\n",
      "('gender', 'bmi', 'smoker')\n",
      "('gender', 'bmi', 'region')\n",
      "('gender', 'children', 'smoker')\n",
      "('gender', 'children', 'region')\n",
      "('gender', 'smoker', 'region')\n",
      "('bmi', 'children', 'smoker')\n",
      "('bmi', 'children', 'region')\n",
      "('bmi', 'smoker', 'region')\n",
      "('children', 'smoker', 'region')\n",
      "('age', 'gender', 'bmi', 'children')\n",
      "('age', 'gender', 'bmi', 'smoker')\n",
      "('age', 'gender', 'bmi', 'region')\n",
      "('age', 'gender', 'children', 'smoker')\n",
      "('age', 'gender', 'children', 'region')\n",
      "('age', 'gender', 'smoker', 'region')\n",
      "('age', 'bmi', 'children', 'smoker')\n",
      "('age', 'bmi', 'children', 'region')\n",
      "('age', 'bmi', 'smoker', 'region')\n",
      "('age', 'children', 'smoker', 'region')\n",
      "('gender', 'bmi', 'children', 'smoker')\n",
      "('gender', 'bmi', 'children', 'region')\n",
      "('gender', 'bmi', 'smoker', 'region')\n",
      "('gender', 'children', 'smoker', 'region')\n",
      "('bmi', 'children', 'smoker', 'region')\n",
      "('age', 'gender', 'bmi', 'children', 'smoker')\n",
      "('age', 'gender', 'bmi', 'children', 'region')\n",
      "('age', 'gender', 'bmi', 'smoker', 'region')\n",
      "('age', 'gender', 'children', 'smoker', 'region')\n",
      "('age', 'bmi', 'children', 'smoker', 'region')\n",
      "('gender', 'bmi', 'children', 'smoker', 'region')\n",
      "('age', 'gender', 'bmi', 'children', 'smoker', 'region')\n"
     ]
    }
   ],
   "source": [
    "l = ['age', 'gender', 'bmi', 'children', 'smoker', 'region']\n",
    "l2 = []\n",
    "from itertools import chain, combinations\n",
    "def all_subsets(ss):\n",
    "    return chain(*map(lambda x: combinations(ss, x), range(0, len(ss)+1)))\n",
    "\n",
    "for subset in all_subsets(l):\n",
    "    print(subset)\n",
    "    l2.append(subset)"
   ]
  },
  {
   "cell_type": "code",
   "execution_count": 14,
   "id": "ffdfe803",
   "metadata": {},
   "outputs": [
    {
     "data": {
      "text/plain": [
       "[(),\n",
       " ('age',),\n",
       " ('gender',),\n",
       " ('bmi',),\n",
       " ('children',),\n",
       " ('smoker',),\n",
       " ('region',),\n",
       " ('age', 'gender'),\n",
       " ('age', 'bmi'),\n",
       " ('age', 'children'),\n",
       " ('age', 'smoker'),\n",
       " ('age', 'region'),\n",
       " ('gender', 'bmi'),\n",
       " ('gender', 'children'),\n",
       " ('gender', 'smoker'),\n",
       " ('gender', 'region'),\n",
       " ('bmi', 'children'),\n",
       " ('bmi', 'smoker'),\n",
       " ('bmi', 'region'),\n",
       " ('children', 'smoker'),\n",
       " ('children', 'region'),\n",
       " ('smoker', 'region'),\n",
       " ('age', 'gender', 'bmi'),\n",
       " ('age', 'gender', 'children'),\n",
       " ('age', 'gender', 'smoker'),\n",
       " ('age', 'gender', 'region'),\n",
       " ('age', 'bmi', 'children'),\n",
       " ('age', 'bmi', 'smoker'),\n",
       " ('age', 'bmi', 'region'),\n",
       " ('age', 'children', 'smoker'),\n",
       " ('age', 'children', 'region'),\n",
       " ('age', 'smoker', 'region'),\n",
       " ('gender', 'bmi', 'children'),\n",
       " ('gender', 'bmi', 'smoker'),\n",
       " ('gender', 'bmi', 'region'),\n",
       " ('gender', 'children', 'smoker'),\n",
       " ('gender', 'children', 'region'),\n",
       " ('gender', 'smoker', 'region'),\n",
       " ('bmi', 'children', 'smoker'),\n",
       " ('bmi', 'children', 'region'),\n",
       " ('bmi', 'smoker', 'region'),\n",
       " ('children', 'smoker', 'region'),\n",
       " ('age', 'gender', 'bmi', 'children'),\n",
       " ('age', 'gender', 'bmi', 'smoker'),\n",
       " ('age', 'gender', 'bmi', 'region'),\n",
       " ('age', 'gender', 'children', 'smoker'),\n",
       " ('age', 'gender', 'children', 'region'),\n",
       " ('age', 'gender', 'smoker', 'region'),\n",
       " ('age', 'bmi', 'children', 'smoker'),\n",
       " ('age', 'bmi', 'children', 'region'),\n",
       " ('age', 'bmi', 'smoker', 'region'),\n",
       " ('age', 'children', 'smoker', 'region'),\n",
       " ('gender', 'bmi', 'children', 'smoker'),\n",
       " ('gender', 'bmi', 'children', 'region'),\n",
       " ('gender', 'bmi', 'smoker', 'region'),\n",
       " ('gender', 'children', 'smoker', 'region'),\n",
       " ('bmi', 'children', 'smoker', 'region'),\n",
       " ('age', 'gender', 'bmi', 'children', 'smoker'),\n",
       " ('age', 'gender', 'bmi', 'children', 'region'),\n",
       " ('age', 'gender', 'bmi', 'smoker', 'region'),\n",
       " ('age', 'gender', 'children', 'smoker', 'region'),\n",
       " ('age', 'bmi', 'children', 'smoker', 'region'),\n",
       " ('gender', 'bmi', 'children', 'smoker', 'region'),\n",
       " ('age', 'gender', 'bmi', 'children', 'smoker', 'region')]"
      ]
     },
     "execution_count": 14,
     "metadata": {},
     "output_type": "execute_result"
    }
   ],
   "source": [
    "l2"
   ]
  },
  {
   "cell_type": "code",
   "execution_count": 18,
   "id": "59298125",
   "metadata": {},
   "outputs": [
    {
     "data": {
      "text/plain": [
       "tuple"
      ]
     },
     "execution_count": 18,
     "metadata": {},
     "output_type": "execute_result"
    }
   ],
   "source": [
    "type(l2[1])"
   ]
  },
  {
   "cell_type": "code",
   "execution_count": 19,
   "id": "9cad36ff",
   "metadata": {},
   "outputs": [
    {
     "data": {
      "text/plain": [
       "('age',)"
      ]
     },
     "execution_count": 19,
     "metadata": {},
     "output_type": "execute_result"
    }
   ],
   "source": [
    "l2[1]"
   ]
  },
  {
   "cell_type": "code",
   "execution_count": 22,
   "id": "d03d023a",
   "metadata": {},
   "outputs": [
    {
     "data": {
      "text/plain": [
       "['age']"
      ]
     },
     "execution_count": 22,
     "metadata": {},
     "output_type": "execute_result"
    }
   ],
   "source": [
    "s = list(l2[1])\n",
    "listToStr = ' '.join([str(elem) for elem in s]) "
   ]
  },
  {
   "cell_type": "code",
   "execution_count": null,
   "id": "c2ba68aa",
   "metadata": {},
   "outputs": [],
   "source": []
  }
 ],
 "metadata": {
  "kernelspec": {
   "display_name": "Python 3 (ipykernel)",
   "language": "python",
   "name": "python3"
  },
  "language_info": {
   "codemirror_mode": {
    "name": "ipython",
    "version": 3
   },
   "file_extension": ".py",
   "mimetype": "text/x-python",
   "name": "python",
   "nbconvert_exporter": "python",
   "pygments_lexer": "ipython3",
   "version": "3.9.5"
  }
 },
 "nbformat": 4,
 "nbformat_minor": 5
}
