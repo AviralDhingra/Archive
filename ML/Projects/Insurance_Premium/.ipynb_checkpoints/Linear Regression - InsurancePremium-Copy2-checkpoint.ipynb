{
 "cells": [
  {
   "cell_type": "code",
   "execution_count": 1,
   "metadata": {},
   "outputs": [],
   "source": [
    "import numpy as np\n",
    "import pandas as pd\n",
    "from sklearn.model_selection import train_test_split\n",
    "# from sklearn.preprocessing import LabelEncoder\n",
    "from sklearn.preprocessing import StandardScaler\n",
    "import os, sys\n",
    "os.chdir(r\"/home/deathblade287/Dropbox/ML/Projects/utils\")\n",
    "from utils import define_y_axis, auto_dropper, label_encoder_auto, last"
   ]
  },
  {
   "cell_type": "code",
   "execution_count": 2,
   "metadata": {},
   "outputs": [
    {
     "name": "stdout",
     "output_type": "stream",
     "text": [
      "()\n",
      "('age',)\n",
      "('gender',)\n",
      "('bmi',)\n",
      "('children',)\n",
      "('smoker',)\n",
      "('region',)\n",
      "('age', 'gender')\n",
      "('age', 'bmi')\n",
      "('age', 'children')\n",
      "('age', 'smoker')\n",
      "('age', 'region')\n",
      "('gender', 'bmi')\n",
      "('gender', 'children')\n",
      "('gender', 'smoker')\n",
      "('gender', 'region')\n",
      "('bmi', 'children')\n",
      "('bmi', 'smoker')\n",
      "('bmi', 'region')\n",
      "('children', 'smoker')\n",
      "('children', 'region')\n",
      "('smoker', 'region')\n",
      "('age', 'gender', 'bmi')\n",
      "('age', 'gender', 'children')\n",
      "('age', 'gender', 'smoker')\n",
      "('age', 'gender', 'region')\n",
      "('age', 'bmi', 'children')\n",
      "('age', 'bmi', 'smoker')\n",
      "('age', 'bmi', 'region')\n",
      "('age', 'children', 'smoker')\n",
      "('age', 'children', 'region')\n",
      "('age', 'smoker', 'region')\n",
      "('gender', 'bmi', 'children')\n",
      "('gender', 'bmi', 'smoker')\n",
      "('gender', 'bmi', 'region')\n",
      "('gender', 'children', 'smoker')\n",
      "('gender', 'children', 'region')\n",
      "('gender', 'smoker', 'region')\n",
      "('bmi', 'children', 'smoker')\n",
      "('bmi', 'children', 'region')\n",
      "('bmi', 'smoker', 'region')\n",
      "('children', 'smoker', 'region')\n",
      "('age', 'gender', 'bmi', 'children')\n",
      "('age', 'gender', 'bmi', 'smoker')\n",
      "('age', 'gender', 'bmi', 'region')\n",
      "('age', 'gender', 'children', 'smoker')\n",
      "('age', 'gender', 'children', 'region')\n",
      "('age', 'gender', 'smoker', 'region')\n",
      "('age', 'bmi', 'children', 'smoker')\n",
      "('age', 'bmi', 'children', 'region')\n",
      "('age', 'bmi', 'smoker', 'region')\n",
      "('age', 'children', 'smoker', 'region')\n",
      "('gender', 'bmi', 'children', 'smoker')\n",
      "('gender', 'bmi', 'children', 'region')\n",
      "('gender', 'bmi', 'smoker', 'region')\n",
      "('gender', 'children', 'smoker', 'region')\n",
      "('bmi', 'children', 'smoker', 'region')\n",
      "('age', 'gender', 'bmi', 'children', 'smoker')\n",
      "('age', 'gender', 'bmi', 'children', 'region')\n",
      "('age', 'gender', 'bmi', 'smoker', 'region')\n",
      "('age', 'gender', 'children', 'smoker', 'region')\n",
      "('age', 'bmi', 'children', 'smoker', 'region')\n",
      "('gender', 'bmi', 'children', 'smoker', 'region')\n",
      "('age', 'gender', 'bmi', 'children', 'smoker', 'region')\n",
      "['age', 'gender', 'bmi', 'children', 'smoker', 'region']\n",
      "<class 'list'>\n",
      "[(), ('age',), ('gender',), ('bmi',), ('children',), ('smoker',), ('region',), ('age', 'gender'), ('age', 'bmi'), ('age', 'children'), ('age', 'smoker'), ('age', 'region'), ('gender', 'bmi'), ('gender', 'children'), ('gender', 'smoker'), ('gender', 'region'), ('bmi', 'children'), ('bmi', 'smoker'), ('bmi', 'region'), ('children', 'smoker'), ('children', 'region'), ('smoker', 'region'), ('age', 'gender', 'bmi'), ('age', 'gender', 'children'), ('age', 'gender', 'smoker'), ('age', 'gender', 'region'), ('age', 'bmi', 'children'), ('age', 'bmi', 'smoker'), ('age', 'bmi', 'region'), ('age', 'children', 'smoker'), ('age', 'children', 'region'), ('age', 'smoker', 'region'), ('gender', 'bmi', 'children'), ('gender', 'bmi', 'smoker'), ('gender', 'bmi', 'region'), ('gender', 'children', 'smoker'), ('gender', 'children', 'region'), ('gender', 'smoker', 'region'), ('bmi', 'children', 'smoker'), ('bmi', 'children', 'region'), ('bmi', 'smoker', 'region'), ('children', 'smoker', 'region'), ('age', 'gender', 'bmi', 'children'), ('age', 'gender', 'bmi', 'smoker'), ('age', 'gender', 'bmi', 'region'), ('age', 'gender', 'children', 'smoker'), ('age', 'gender', 'children', 'region'), ('age', 'gender', 'smoker', 'region'), ('age', 'bmi', 'children', 'smoker'), ('age', 'bmi', 'children', 'region'), ('age', 'bmi', 'smoker', 'region'), ('age', 'children', 'smoker', 'region'), ('gender', 'bmi', 'children', 'smoker'), ('gender', 'bmi', 'children', 'region'), ('gender', 'bmi', 'smoker', 'region'), ('gender', 'children', 'smoker', 'region'), ('bmi', 'children', 'smoker', 'region'), ('age', 'gender', 'bmi', 'children', 'smoker'), ('age', 'gender', 'bmi', 'children', 'region'), ('age', 'gender', 'bmi', 'smoker', 'region'), ('age', 'gender', 'children', 'smoker', 'region'), ('age', 'bmi', 'children', 'smoker', 'region'), ('gender', 'bmi', 'children', 'smoker', 'region'), ('age', 'gender', 'bmi', 'children', 'smoker', 'region')]\n",
      "<class 'list'>\n",
      "\n",
      "\n",
      "\n",
      "[['age'], ['gender'], ['bmi'], ['children'], ['smoker'], ['region'], ['age', 'gender'], ['age', 'bmi'], ['age', 'children'], ['age', 'smoker'], ['age', 'region'], ['gender', 'bmi'], ['gender', 'children'], ['gender', 'smoker'], ['gender', 'region'], ['bmi', 'children'], ['bmi', 'smoker'], ['bmi', 'region'], ['children', 'smoker'], ['children', 'region'], ['smoker', 'region'], ['age', 'gender', 'bmi'], ['age', 'gender', 'children'], ['age', 'gender', 'smoker'], ['age', 'gender', 'region'], ['age', 'bmi', 'children'], ['age', 'bmi', 'smoker'], ['age', 'bmi', 'region'], ['age', 'children', 'smoker'], ['age', 'children', 'region'], ['age', 'smoker', 'region'], ['gender', 'bmi', 'children'], ['gender', 'bmi', 'smoker'], ['gender', 'bmi', 'region'], ['gender', 'children', 'smoker'], ['gender', 'children', 'region'], ['gender', 'smoker', 'region'], ['bmi', 'children', 'smoker'], ['bmi', 'children', 'region'], ['bmi', 'smoker', 'region'], ['children', 'smoker', 'region'], ['age', 'gender', 'bmi', 'children'], ['age', 'gender', 'bmi', 'smoker'], ['age', 'gender', 'bmi', 'region'], ['age', 'gender', 'children', 'smoker'], ['age', 'gender', 'children', 'region'], ['age', 'gender', 'smoker', 'region'], ['age', 'bmi', 'children', 'smoker'], ['age', 'bmi', 'children', 'region'], ['age', 'bmi', 'smoker', 'region'], ['age', 'children', 'smoker', 'region'], ['gender', 'bmi', 'children', 'smoker'], ['gender', 'bmi', 'children', 'region'], ['gender', 'bmi', 'smoker', 'region'], ['gender', 'children', 'smoker', 'region'], ['bmi', 'children', 'smoker', 'region'], ['age', 'gender', 'bmi', 'children', 'smoker'], ['age', 'gender', 'bmi', 'children', 'region'], ['age', 'gender', 'bmi', 'smoker', 'region'], ['age', 'gender', 'children', 'smoker', 'region'], ['age', 'bmi', 'children', 'smoker', 'region'], ['gender', 'bmi', 'children', 'smoker', 'region'], ['age', 'gender', 'bmi', 'children', 'smoker', 'region']]\n",
      "0.8707798375131178\n",
      "0.8707798375131178\n",
      "0.8707798375131178\n",
      "0.8707798375131178\n",
      "0.8707798375131178\n",
      "0.8707798375131178\n",
      "0.8707798375131178\n",
      "0.8707798375131178\n",
      "0.8707798375131178\n",
      "0.8707798375131178\n",
      "0.8707798375131178\n",
      "0.8707798375131178\n",
      "0.8707798375131178\n",
      "0.8707798375131178\n",
      "0.8707798375131178\n",
      "0.8707798375131178\n",
      "0.8707798375131178\n",
      "0.8707798375131178\n",
      "0.8707798375131178\n",
      "0.8707798375131178\n",
      "0.8707798375131178\n",
      "0.8707798375131178\n",
      "0.8707798375131178\n",
      "0.8707798375131178\n",
      "0.8707798375131178\n",
      "0.8707798375131178\n",
      "0.8707798375131178\n",
      "0.8707798375131178\n",
      "0.8707798375131178\n",
      "0.8707798375131178\n",
      "0.8707798375131178\n",
      "0.8707798375131178\n",
      "0.8707798375131178\n",
      "0.8707798375131178\n",
      "0.8707798375131178\n",
      "0.8707798375131178\n",
      "0.8707798375131178\n",
      "0.8707798375131178\n",
      "0.8707798375131178\n",
      "0.8707798375131178\n",
      "0.8707798375131178\n",
      "0.8707798375131178\n",
      "0.8707798375131178\n",
      "0.8707798375131178\n",
      "0.8707798375131178\n",
      "0.8707798375131178\n",
      "0.8707798375131178\n",
      "0.8707798375131178\n",
      "0.8707798375131178\n",
      "0.8707798375131178\n",
      "0.8707798375131178\n",
      "0.8707798375131178\n",
      "0.8707798375131178\n",
      "0.8707798375131178\n",
      "0.8707798375131178\n",
      "0.8707798375131178\n",
      "0.8707798375131178\n",
      "0.8707798375131178\n",
      "0.8707798375131178\n",
      "0.8707798375131178\n",
      "0.8707798375131178\n",
      "0.8707798375131178\n",
      "0.8707798375131178\n",
      "{0.8707798375131178: ['age', 'gender', 'bmi', 'children', 'smoker', 'region']}\n",
      "<class 'dict'>\n"
     ]
    }
   ],
   "source": [
    "os.chdir(r\"/home/deathblade287/Dropbox/ML/Projects/Insurance_Premium\")\n",
    "data = pd.read_csv(\"insurance-premium.csv\")\n",
    "\n",
    "data, y = define_y_axis(data, \"charges\")\n",
    "\n",
    "all_column = auto_dropper(data, y)\n",
    "print(all_column)\n",
    "print(type(all_column))"
   ]
  },
  {
   "cell_type": "code",
   "execution_count": 3,
   "metadata": {},
   "outputs": [
    {
     "ename": "IndentationError",
     "evalue": "unexpected indent (279336393.py, line 3)",
     "output_type": "error",
     "traceback": [
      "\u001b[0;36m  File \u001b[0;32m\"/tmp/ipykernel_1846603/279336393.py\"\u001b[0;36m, line \u001b[0;32m3\u001b[0m\n\u001b[0;31m    for i in range(len(all_column)):\u001b[0m\n\u001b[0m    ^\u001b[0m\n\u001b[0;31mIndentationError\u001b[0m\u001b[0;31m:\u001b[0m unexpected indent\n"
     ]
    }
   ],
   "source": [
    "all_accuracyData_columns = {}\n",
    "for i in range(len(all_column)):\n",
    "    for j in range(len(all_column[i])):\n",
    "        data = data.drop(all_column[i][j], axis=1)\n",
    "    accuracyScoreNow = last(y)  # Rest Of Process\n",
    "    data = data_unchanged_values\n",
    "    all_accuracyData_columns[accuracyScoreNow] = all_column[i]\n",
    "return all_accuracyData_columns"
   ]
  },
  {
   "cell_type": "code",
   "execution_count": null,
   "metadata": {},
   "outputs": [],
   "source": [
    "# Loading Database\n",
    "os.chdir(r\"/home/deathblade287/Dropbox/ML/Projects/Insurance_Premium\")\n",
    "data = pd.read_csv(\"insurance-premium.csv\")"
   ]
  },
  {
   "cell_type": "code",
   "execution_count": null,
   "metadata": {},
   "outputs": [],
   "source": [
    "data, y = define_y_axis(data, \"charges\")\n",
    "data"
   ]
  },
  {
   "cell_type": "code",
   "execution_count": null,
   "metadata": {},
   "outputs": [],
   "source": [
    "# Dropping Useless Columns  + Features\n",
    "# data = data.drop(\"region\",axis=1)\n",
    "# data = data.drop(\"bmi\",axis=1)\n",
    "# data = data.drop(\"smoker\",axis=1)\n",
    "v = auto_dropper(data, y)"
   ]
  },
  {
   "cell_type": "code",
   "execution_count": null,
   "metadata": {},
   "outputs": [],
   "source": [
    "print(v)"
   ]
  },
  {
   "cell_type": "code",
   "execution_count": null,
   "metadata": {},
   "outputs": [],
   "source": [
    "l = v.keys()\n",
    "l = list(l)"
   ]
  },
  {
   "cell_type": "code",
   "execution_count": null,
   "metadata": {},
   "outputs": [],
   "source": [
    "print(\"Largest element is:\", max(l))"
   ]
  },
  {
   "cell_type": "code",
   "execution_count": null,
   "metadata": {},
   "outputs": [],
   "source": [
    "max_acc = max(l)\n",
    "v[max_acc]"
   ]
  },
  {
   "cell_type": "code",
   "execution_count": null,
   "metadata": {},
   "outputs": [],
   "source": []
  },
  {
   "cell_type": "code",
   "execution_count": null,
   "metadata": {},
   "outputs": [],
   "source": []
  },
  {
   "cell_type": "markdown",
   "metadata": {},
   "source": [
    "# Predicting Value For New Customer\n",
    "<br>\n",
    " - For a new customer, this model will predict/calculate the insurance premium <br>\n",
    " - based on existing 5 aspects (features/variables)"
   ]
  },
  {
   "cell_type": "code",
   "execution_count": null,
   "metadata": {},
   "outputs": [],
   "source": [
    "# Defining New Row To Be Pridicted\n",
    "new_cust = np.array([[29,1,30.9,0,1,2]])\n",
    "type(new_cust)"
   ]
  },
  {
   "cell_type": "code",
   "execution_count": null,
   "metadata": {},
   "outputs": [],
   "source": [
    "premium = clf.predict(new_cust)"
   ]
  },
  {
   "cell_type": "code",
   "execution_count": null,
   "metadata": {},
   "outputs": [],
   "source": [
    "premium"
   ]
  },
  {
   "cell_type": "code",
   "execution_count": null,
   "metadata": {},
   "outputs": [],
   "source": [
    "# Step 0: Problem Statment + Basic Finding & Cleaning Of Data\n",
    "# Step 1: Visualize Data, Understand It, Try Dropping & Different Algo's\n",
    "# Step 2: Drop The 'y' Column\n",
    "# Step 3: Drop Useless Columns + Features (Make Program Try All Combinations Of Dropping, & Then Give Hieghest Acuuracy One)\n",
    "# Step 4: Label Encoder + Scaling\n",
    "# Step 5: Choose Algorythem + Create Training & Test Data + Run Algorythm (Final)\n",
    "\n",
    "# Product: Predict New Value For Customer\n"
   ]
  }
 ],
 "metadata": {
  "kernelspec": {
   "display_name": "Python 3 (ipykernel)",
   "language": "python",
   "name": "python3"
  },
  "language_info": {
   "codemirror_mode": {
    "name": "ipython",
    "version": 3
   },
   "file_extension": ".py",
   "mimetype": "text/x-python",
   "name": "python",
   "nbconvert_exporter": "python",
   "pygments_lexer": "ipython3",
   "version": "3.9.5"
  }
 },
 "nbformat": 4,
 "nbformat_minor": 4
}
