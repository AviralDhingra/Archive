{
 "cells": [
  {
   "cell_type": "code",
   "execution_count": null,
   "id": "4d66c561",
   "metadata": {},
   "outputs": [],
   "source": [
    "def auto_dropper(data, manual=True):\n",
    "    data = data\n",
    "    print(data)\n",
    "    print(type(data))"
   ]
  },
  {
   "cell_type": "code",
   "execution_count": null,
   "id": "b955710a",
   "metadata": {},
   "outputs": [],
   "source": [
    "auto_dropper(data)"
   ]
  },
  {
   "cell_type": "code",
   "execution_count": null,
   "id": "417e920b",
   "metadata": {},
   "outputs": [],
   "source": [
    "import itertools\n",
    "\n",
    "\n",
    "for L in range(0, len(stuff)+1):\n",
    "    for subset in itertools.combinations(stuff, L):\n",
    "        print(subset)"
   ]
  },
  {
   "cell_type": "code",
   "execution_count": null,
   "id": "96b5ae46",
   "metadata": {},
   "outputs": [],
   "source": [
    "l = ['age', 'gender', 'bmi', 'children', 'smoker', 'region']\n",
    "l2 = []\n",
    "from itertools import chain, combinations\n",
    "def all_subsets(ss):\n",
    "    return chain(*map(lambda x: combinations(ss, x), range(0, len(ss)+1)))\n",
    "\n",
    "for subset in all_subsets(l):\n",
    "    print(subset)\n",
    "    l2.append(subset)"
   ]
  },
  {
   "cell_type": "code",
   "execution_count": null,
   "id": "95c8698d",
   "metadata": {},
   "outputs": [],
   "source": [
    "l2"
   ]
  },
  {
   "cell_type": "code",
   "execution_count": null,
   "id": "26a23482",
   "metadata": {},
   "outputs": [],
   "source": [
    "type(l2[10])"
   ]
  },
  {
   "cell_type": "code",
   "execution_count": null,
   "id": "bcd2cf0e",
   "metadata": {},
   "outputs": [],
   "source": [
    "l2[1]"
   ]
  },
  {
   "cell_type": "code",
   "execution_count": null,
   "id": "0fcc9087",
   "metadata": {},
   "outputs": [],
   "source": [
    "s = list(l2[1])\n",
    "listToStr = ' '.join([str(elem) for elem in s]) "
   ]
  },
  {
   "cell_type": "code",
   "execution_count": null,
   "id": "dd8eb0f2",
   "metadata": {},
   "outputs": [],
   "source": [
    "listToStr"
   ]
  },
  {
   "cell_type": "code",
   "execution_count": null,
   "id": "4965db7f",
   "metadata": {},
   "outputs": [],
   "source": []
  }
 ],
 "metadata": {
  "kernelspec": {
   "display_name": "Python 3 (ipykernel)",
   "language": "python",
   "name": "python3"
  },
  "language_info": {
   "codemirror_mode": {
    "name": "ipython",
    "version": 3
   },
   "file_extension": ".py",
   "mimetype": "text/x-python",
   "name": "python",
   "nbconvert_exporter": "python",
   "pygments_lexer": "ipython3",
   "version": "3.9.5"
  }
 },
 "nbformat": 4,
 "nbformat_minor": 5
}
