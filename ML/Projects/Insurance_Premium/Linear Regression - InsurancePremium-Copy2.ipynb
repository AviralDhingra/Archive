{
 "cells": [
  {
   "cell_type": "code",
   "execution_count": 4,
   "metadata": {},
   "outputs": [],
   "source": [
    "import numpy as np\n",
    "import pandas as pd\n",
    "from sklearn.model_selection import train_test_split\n",
    "# from sklearn.preprocessing import LabelEncoder\n",
    "from sklearn.preprocessing import StandardScaler\n",
    "import os, sys\n",
    "os.chdir(r\"/home/deathblade287/Dropbox/ML/Projects/utils\")\n",
    "from utils import define_y_axis, auto_dropper, label_encoder_auto, last"
   ]
  },
  {
   "cell_type": "code",
   "execution_count": 5,
   "metadata": {},
   "outputs": [],
   "source": [
    "# Loading Database\n",
    "os.chdir(r\"/home/deathblade287/Dropbox/ML/Projects/Insurance_Premium\")\n",
    "data = pd.read_csv(\"insurance-premium.csv\")"
   ]
  },
  {
   "cell_type": "code",
   "execution_count": 6,
   "metadata": {},
   "outputs": [
    {
     "data": {
      "text/html": [
       "<div>\n",
       "<style scoped>\n",
       "    .dataframe tbody tr th:only-of-type {\n",
       "        vertical-align: middle;\n",
       "    }\n",
       "\n",
       "    .dataframe tbody tr th {\n",
       "        vertical-align: top;\n",
       "    }\n",
       "\n",
       "    .dataframe thead th {\n",
       "        text-align: right;\n",
       "    }\n",
       "</style>\n",
       "<table border=\"1\" class=\"dataframe\">\n",
       "  <thead>\n",
       "    <tr style=\"text-align: right;\">\n",
       "      <th></th>\n",
       "      <th>age</th>\n",
       "      <th>gender</th>\n",
       "      <th>bmi</th>\n",
       "      <th>children</th>\n",
       "      <th>smoker</th>\n",
       "      <th>region</th>\n",
       "    </tr>\n",
       "  </thead>\n",
       "  <tbody>\n",
       "    <tr>\n",
       "      <th>0</th>\n",
       "      <td>19</td>\n",
       "      <td>female</td>\n",
       "      <td>27.900</td>\n",
       "      <td>0</td>\n",
       "      <td>yes</td>\n",
       "      <td>southwest</td>\n",
       "    </tr>\n",
       "    <tr>\n",
       "      <th>1</th>\n",
       "      <td>18</td>\n",
       "      <td>male</td>\n",
       "      <td>33.770</td>\n",
       "      <td>1</td>\n",
       "      <td>no</td>\n",
       "      <td>southeast</td>\n",
       "    </tr>\n",
       "    <tr>\n",
       "      <th>2</th>\n",
       "      <td>28</td>\n",
       "      <td>male</td>\n",
       "      <td>33.000</td>\n",
       "      <td>3</td>\n",
       "      <td>no</td>\n",
       "      <td>southeast</td>\n",
       "    </tr>\n",
       "    <tr>\n",
       "      <th>3</th>\n",
       "      <td>33</td>\n",
       "      <td>male</td>\n",
       "      <td>22.705</td>\n",
       "      <td>0</td>\n",
       "      <td>no</td>\n",
       "      <td>northwest</td>\n",
       "    </tr>\n",
       "    <tr>\n",
       "      <th>4</th>\n",
       "      <td>32</td>\n",
       "      <td>male</td>\n",
       "      <td>28.880</td>\n",
       "      <td>0</td>\n",
       "      <td>no</td>\n",
       "      <td>northwest</td>\n",
       "    </tr>\n",
       "    <tr>\n",
       "      <th>...</th>\n",
       "      <td>...</td>\n",
       "      <td>...</td>\n",
       "      <td>...</td>\n",
       "      <td>...</td>\n",
       "      <td>...</td>\n",
       "      <td>...</td>\n",
       "    </tr>\n",
       "    <tr>\n",
       "      <th>1333</th>\n",
       "      <td>50</td>\n",
       "      <td>male</td>\n",
       "      <td>30.970</td>\n",
       "      <td>3</td>\n",
       "      <td>no</td>\n",
       "      <td>northwest</td>\n",
       "    </tr>\n",
       "    <tr>\n",
       "      <th>1334</th>\n",
       "      <td>18</td>\n",
       "      <td>female</td>\n",
       "      <td>31.920</td>\n",
       "      <td>0</td>\n",
       "      <td>no</td>\n",
       "      <td>northeast</td>\n",
       "    </tr>\n",
       "    <tr>\n",
       "      <th>1335</th>\n",
       "      <td>18</td>\n",
       "      <td>female</td>\n",
       "      <td>36.850</td>\n",
       "      <td>0</td>\n",
       "      <td>no</td>\n",
       "      <td>southeast</td>\n",
       "    </tr>\n",
       "    <tr>\n",
       "      <th>1336</th>\n",
       "      <td>21</td>\n",
       "      <td>female</td>\n",
       "      <td>25.800</td>\n",
       "      <td>0</td>\n",
       "      <td>no</td>\n",
       "      <td>southwest</td>\n",
       "    </tr>\n",
       "    <tr>\n",
       "      <th>1337</th>\n",
       "      <td>61</td>\n",
       "      <td>female</td>\n",
       "      <td>29.070</td>\n",
       "      <td>0</td>\n",
       "      <td>yes</td>\n",
       "      <td>northwest</td>\n",
       "    </tr>\n",
       "  </tbody>\n",
       "</table>\n",
       "<p>1338 rows × 6 columns</p>\n",
       "</div>"
      ],
      "text/plain": [
       "      age  gender     bmi  children smoker     region\n",
       "0      19  female  27.900         0    yes  southwest\n",
       "1      18    male  33.770         1     no  southeast\n",
       "2      28    male  33.000         3     no  southeast\n",
       "3      33    male  22.705         0     no  northwest\n",
       "4      32    male  28.880         0     no  northwest\n",
       "...   ...     ...     ...       ...    ...        ...\n",
       "1333   50    male  30.970         3     no  northwest\n",
       "1334   18  female  31.920         0     no  northeast\n",
       "1335   18  female  36.850         0     no  southeast\n",
       "1336   21  female  25.800         0     no  southwest\n",
       "1337   61  female  29.070         0    yes  northwest\n",
       "\n",
       "[1338 rows x 6 columns]"
      ]
     },
     "execution_count": 6,
     "metadata": {},
     "output_type": "execute_result"
    }
   ],
   "source": [
    "data, y = define_y_axis(data, \"charges\")\n",
    "data"
   ]
  },
  {
   "cell_type": "code",
   "execution_count": 7,
   "metadata": {},
   "outputs": [
    {
     "name": "stdout",
     "output_type": "stream",
     "text": [
      "()\n",
      "('age',)\n",
      "('gender',)\n",
      "('bmi',)\n",
      "('children',)\n",
      "('smoker',)\n",
      "('region',)\n",
      "('age', 'gender')\n",
      "('age', 'bmi')\n",
      "('age', 'children')\n",
      "('age', 'smoker')\n",
      "('age', 'region')\n",
      "('gender', 'bmi')\n",
      "('gender', 'children')\n",
      "('gender', 'smoker')\n",
      "('gender', 'region')\n",
      "('bmi', 'children')\n",
      "('bmi', 'smoker')\n",
      "('bmi', 'region')\n",
      "('children', 'smoker')\n",
      "('children', 'region')\n",
      "('smoker', 'region')\n",
      "('age', 'gender', 'bmi')\n",
      "('age', 'gender', 'children')\n",
      "('age', 'gender', 'smoker')\n",
      "('age', 'gender', 'region')\n",
      "('age', 'bmi', 'children')\n",
      "('age', 'bmi', 'smoker')\n",
      "('age', 'bmi', 'region')\n",
      "('age', 'children', 'smoker')\n",
      "('age', 'children', 'region')\n",
      "('age', 'smoker', 'region')\n",
      "('gender', 'bmi', 'children')\n",
      "('gender', 'bmi', 'smoker')\n",
      "('gender', 'bmi', 'region')\n",
      "('gender', 'children', 'smoker')\n",
      "('gender', 'children', 'region')\n",
      "('gender', 'smoker', 'region')\n",
      "('bmi', 'children', 'smoker')\n",
      "('bmi', 'children', 'region')\n",
      "('bmi', 'smoker', 'region')\n",
      "('children', 'smoker', 'region')\n",
      "('age', 'gender', 'bmi', 'children')\n",
      "('age', 'gender', 'bmi', 'smoker')\n",
      "('age', 'gender', 'bmi', 'region')\n",
      "('age', 'gender', 'children', 'smoker')\n",
      "('age', 'gender', 'children', 'region')\n",
      "('age', 'gender', 'smoker', 'region')\n",
      "('age', 'bmi', 'children', 'smoker')\n",
      "('age', 'bmi', 'children', 'region')\n",
      "('age', 'bmi', 'smoker', 'region')\n",
      "('age', 'children', 'smoker', 'region')\n",
      "('gender', 'bmi', 'children', 'smoker')\n",
      "('gender', 'bmi', 'children', 'region')\n",
      "('gender', 'bmi', 'smoker', 'region')\n",
      "('gender', 'children', 'smoker', 'region')\n",
      "('bmi', 'children', 'smoker', 'region')\n",
      "('age', 'gender', 'bmi', 'children', 'smoker')\n",
      "('age', 'gender', 'bmi', 'children', 'region')\n",
      "('age', 'gender', 'bmi', 'smoker', 'region')\n",
      "('age', 'gender', 'children', 'smoker', 'region')\n",
      "('age', 'bmi', 'children', 'smoker', 'region')\n",
      "('gender', 'bmi', 'children', 'smoker', 'region')\n",
      "('age', 'gender', 'bmi', 'children', 'smoker', 'region')\n",
      "['age', 'gender', 'bmi', 'children', 'smoker', 'region']\n",
      "<class 'list'>\n",
      "[(), ('age',), ('gender',), ('bmi',), ('children',), ('smoker',), ('region',), ('age', 'gender'), ('age', 'bmi'), ('age', 'children'), ('age', 'smoker'), ('age', 'region'), ('gender', 'bmi'), ('gender', 'children'), ('gender', 'smoker'), ('gender', 'region'), ('bmi', 'children'), ('bmi', 'smoker'), ('bmi', 'region'), ('children', 'smoker'), ('children', 'region'), ('smoker', 'region'), ('age', 'gender', 'bmi'), ('age', 'gender', 'children'), ('age', 'gender', 'smoker'), ('age', 'gender', 'region'), ('age', 'bmi', 'children'), ('age', 'bmi', 'smoker'), ('age', 'bmi', 'region'), ('age', 'children', 'smoker'), ('age', 'children', 'region'), ('age', 'smoker', 'region'), ('gender', 'bmi', 'children'), ('gender', 'bmi', 'smoker'), ('gender', 'bmi', 'region'), ('gender', 'children', 'smoker'), ('gender', 'children', 'region'), ('gender', 'smoker', 'region'), ('bmi', 'children', 'smoker'), ('bmi', 'children', 'region'), ('bmi', 'smoker', 'region'), ('children', 'smoker', 'region'), ('age', 'gender', 'bmi', 'children'), ('age', 'gender', 'bmi', 'smoker'), ('age', 'gender', 'bmi', 'region'), ('age', 'gender', 'children', 'smoker'), ('age', 'gender', 'children', 'region'), ('age', 'gender', 'smoker', 'region'), ('age', 'bmi', 'children', 'smoker'), ('age', 'bmi', 'children', 'region'), ('age', 'bmi', 'smoker', 'region'), ('age', 'children', 'smoker', 'region'), ('gender', 'bmi', 'children', 'smoker'), ('gender', 'bmi', 'children', 'region'), ('gender', 'bmi', 'smoker', 'region'), ('gender', 'children', 'smoker', 'region'), ('bmi', 'children', 'smoker', 'region'), ('age', 'gender', 'bmi', 'children', 'smoker'), ('age', 'gender', 'bmi', 'children', 'region'), ('age', 'gender', 'bmi', 'smoker', 'region'), ('age', 'gender', 'children', 'smoker', 'region'), ('age', 'bmi', 'children', 'smoker', 'region'), ('gender', 'bmi', 'children', 'smoker', 'region'), ('age', 'gender', 'bmi', 'children', 'smoker', 'region')]\n",
      "<class 'list'>\n",
      "\n",
      "\n",
      "\n",
      "[['age'], ['gender'], ['bmi'], ['children'], ['smoker'], ['region'], ['age', 'gender'], ['age', 'bmi'], ['age', 'children'], ['age', 'smoker'], ['age', 'region'], ['gender', 'bmi'], ['gender', 'children'], ['gender', 'smoker'], ['gender', 'region'], ['bmi', 'children'], ['bmi', 'smoker'], ['bmi', 'region'], ['children', 'smoker'], ['children', 'region'], ['smoker', 'region'], ['age', 'gender', 'bmi'], ['age', 'gender', 'children'], ['age', 'gender', 'smoker'], ['age', 'gender', 'region'], ['age', 'bmi', 'children'], ['age', 'bmi', 'smoker'], ['age', 'bmi', 'region'], ['age', 'children', 'smoker'], ['age', 'children', 'region'], ['age', 'smoker', 'region'], ['gender', 'bmi', 'children'], ['gender', 'bmi', 'smoker'], ['gender', 'bmi', 'region'], ['gender', 'children', 'smoker'], ['gender', 'children', 'region'], ['gender', 'smoker', 'region'], ['bmi', 'children', 'smoker'], ['bmi', 'children', 'region'], ['bmi', 'smoker', 'region'], ['children', 'smoker', 'region'], ['age', 'gender', 'bmi', 'children'], ['age', 'gender', 'bmi', 'smoker'], ['age', 'gender', 'bmi', 'region'], ['age', 'gender', 'children', 'smoker'], ['age', 'gender', 'children', 'region'], ['age', 'gender', 'smoker', 'region'], ['age', 'bmi', 'children', 'smoker'], ['age', 'bmi', 'children', 'region'], ['age', 'bmi', 'smoker', 'region'], ['age', 'children', 'smoker', 'region'], ['gender', 'bmi', 'children', 'smoker'], ['gender', 'bmi', 'children', 'region'], ['gender', 'bmi', 'smoker', 'region'], ['gender', 'children', 'smoker', 'region'], ['bmi', 'children', 'smoker', 'region'], ['age', 'gender', 'bmi', 'children', 'smoker'], ['age', 'gender', 'bmi', 'children', 'region'], ['age', 'gender', 'bmi', 'smoker', 'region'], ['age', 'gender', 'children', 'smoker', 'region'], ['age', 'bmi', 'children', 'smoker', 'region'], ['gender', 'bmi', 'children', 'smoker', 'region'], ['age', 'gender', 'bmi', 'children', 'smoker', 'region']]\n",
      "0.8707798375131178\n",
      "0.8707798375131178\n",
      "0.8707798375131178\n",
      "0.8707798375131178\n",
      "0.8707798375131178\n",
      "0.8707798375131178\n",
      "0.8707798375131178\n",
      "0.8707798375131178\n",
      "0.8707798375131178\n",
      "0.8707798375131178\n",
      "0.8707798375131178\n",
      "0.8707798375131178\n",
      "0.8707798375131178\n",
      "0.8707798375131178\n",
      "0.8707798375131178\n",
      "0.8707798375131178\n",
      "0.8707798375131178\n",
      "0.8707798375131178\n",
      "0.8707798375131178\n",
      "0.8707798375131178\n",
      "0.8707798375131178\n",
      "0.8707798375131178\n",
      "0.8707798375131178\n",
      "0.8707798375131178\n",
      "0.8707798375131178\n",
      "0.8707798375131178\n",
      "0.8707798375131178\n",
      "0.8707798375131178\n",
      "0.8707798375131178\n",
      "0.8707798375131178\n",
      "0.8707798375131178\n",
      "0.8707798375131178\n",
      "0.8707798375131178\n",
      "0.8707798375131178\n",
      "0.8707798375131178\n",
      "0.8707798375131178\n",
      "0.8707798375131178\n",
      "0.8707798375131178\n",
      "0.8707798375131178\n",
      "0.8707798375131178\n",
      "0.8707798375131178\n",
      "0.8707798375131178\n",
      "0.8707798375131178\n",
      "0.8707798375131178\n",
      "0.8707798375131178\n",
      "0.8707798375131178\n",
      "0.8707798375131178\n",
      "0.8707798375131178\n",
      "0.8707798375131178\n",
      "0.8707798375131178\n",
      "0.8707798375131178\n",
      "0.8707798375131178\n",
      "0.8707798375131178\n",
      "0.8707798375131178\n",
      "0.8707798375131178\n",
      "0.8707798375131178\n",
      "0.8707798375131178\n",
      "0.8707798375131178\n",
      "0.8707798375131178\n",
      "0.8707798375131178\n",
      "0.8707798375131178\n",
      "0.8707798375131178\n",
      "0.8707798375131178\n"
     ]
    }
   ],
   "source": [
    "# Dropping Useless Columns  + Features\n",
    "# data = data.drop(\"region\",axis=1)\n",
    "# data = data.drop(\"bmi\",axis=1)\n",
    "# data = data.drop(\"smoker\",axis=1)\n",
    "v = auto_dropper(data, y)"
   ]
  },
  {
   "cell_type": "code",
   "execution_count": 8,
   "metadata": {},
   "outputs": [
    {
     "name": "stdout",
     "output_type": "stream",
     "text": [
      "{0.8707798375131178: ['age', 'gender', 'bmi', 'children', 'smoker', 'region']}\n"
     ]
    }
   ],
   "source": [
    "print(v)"
   ]
  },
  {
   "cell_type": "code",
   "execution_count": 9,
   "metadata": {},
   "outputs": [],
   "source": [
    "l = v.keys()\n",
    "l = list(l)"
   ]
  },
  {
   "cell_type": "code",
   "execution_count": 10,
   "metadata": {},
   "outputs": [
    {
     "name": "stdout",
     "output_type": "stream",
     "text": [
      "Largest element is: 0.8707798375131178\n"
     ]
    }
   ],
   "source": [
    "print(\"Largest element is:\", max(l))"
   ]
  },
  {
   "cell_type": "code",
   "execution_count": 11,
   "metadata": {},
   "outputs": [
    {
     "data": {
      "text/plain": [
       "['age', 'gender', 'bmi', 'children', 'smoker', 'region']"
      ]
     },
     "execution_count": 11,
     "metadata": {},
     "output_type": "execute_result"
    }
   ],
   "source": [
    "max_acc = max(l)\n",
    "v[max_acc]"
   ]
  },
  {
   "cell_type": "code",
   "execution_count": null,
   "metadata": {},
   "outputs": [],
   "source": []
  },
  {
   "cell_type": "code",
   "execution_count": null,
   "metadata": {},
   "outputs": [],
   "source": []
  },
  {
   "cell_type": "markdown",
   "metadata": {},
   "source": [
    "# Predicting Value For New Customer\n",
    "<br>\n",
    " - For a new customer, this model will predict/calculate the insurance premium <br>\n",
    " - based on existing 5 aspects (features/variables)"
   ]
  },
  {
   "cell_type": "code",
   "execution_count": null,
   "metadata": {},
   "outputs": [],
   "source": [
    "# Defining New Row To Be Pridicted\n",
    "new_cust = np.array([[29,1,30.9,0,1,2]])\n",
    "type(new_cust)"
   ]
  },
  {
   "cell_type": "code",
   "execution_count": null,
   "metadata": {},
   "outputs": [],
   "source": [
    "premium = clf.predict(new_cust)"
   ]
  },
  {
   "cell_type": "code",
   "execution_count": null,
   "metadata": {},
   "outputs": [],
   "source": [
    "premium"
   ]
  },
  {
   "cell_type": "code",
   "execution_count": null,
   "metadata": {},
   "outputs": [],
   "source": [
    "# Step 0: Problem Statment + Basic Finding & Cleaning Of Data\n",
    "# Step 1: Visualize Data, Understand It, Try Dropping & Different Algo's\n",
    "# Step 2: Drop The 'y' Column\n",
    "# Step 3: Drop Useless Columns + Features (Make Program Try All Combinations Of Dropping, & Then Give Hieghest Acuuracy One)\n",
    "# Step 4: Label Encoder + Scaling\n",
    "# Step 5: Choose Algorythem + Create Training & Test Data + Run Algorythm (Final)\n",
    "\n",
    "# Product: Predict New Value For Customer\n"
   ]
  }
 ],
 "metadata": {
  "kernelspec": {
   "display_name": "Python 3 (ipykernel)",
   "language": "python",
   "name": "python3"
  },
  "language_info": {
   "codemirror_mode": {
    "name": "ipython",
    "version": 3
   },
   "file_extension": ".py",
   "mimetype": "text/x-python",
   "name": "python",
   "nbconvert_exporter": "python",
   "pygments_lexer": "ipython3",
   "version": "3.9.5"
  }
 },
 "nbformat": 4,
 "nbformat_minor": 4
}
